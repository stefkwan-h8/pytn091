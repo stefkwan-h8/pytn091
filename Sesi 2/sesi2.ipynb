{
 "cells": [
  {
   "attachments": {},
   "cell_type": "markdown",
   "metadata": {},
   "source": [
    "# Sesi 2 - Conditional dan Looping\n",
    "\n",
    "## Conditional\n",
    "adalah sebuah teknik yang menanyakan ke program apakah sebuah data itu True atau False\n",
    "\n",
    "lalu tergantung jawabannya True atau False kita bisa jalankan code tertentu\n",
    "\n",
    "```python\n",
    "\n",
    "umur = 15\n",
    "\n",
    "# kita bertanya apakah umur lebih dari 17?\n",
    "\n",
    "if (umur > 17):\n",
    "    print(\"umur lebih dari 17\")\n",
    "else:\n",
    "    print(\"umur kurang atau sama dengan 17\")\n",
    "```"
   ]
  },
  {
   "cell_type": "code",
   "execution_count": 4,
   "metadata": {},
   "outputs": [],
   "source": [
    "# conditional. kalau True, melakukan sesuatu\n",
    "\n",
    "umur = 17\n",
    "\n",
    "if (umur > 17):\n",
    "    print(\"umur lebih dari 17\")"
   ]
  },
  {
   "cell_type": "code",
   "execution_count": null,
   "metadata": {},
   "outputs": [],
   "source": [
    "# conditional. kalau True, melakukan sesuatu. kalau False, melakukan hal lain\n",
    "\n",
    "umur = 17\n",
    "\n",
    "if (umur > 17):\n",
    "    print(\"umur lebih dari 17\")\n",
    "else:\n",
    "    print(\"umur <= 17\")"
   ]
  },
  {
   "cell_type": "code",
   "execution_count": 5,
   "metadata": {},
   "outputs": [
    {
     "data": {
      "text/plain": [
       "True"
      ]
     },
     "execution_count": 5,
     "metadata": {},
     "output_type": "execute_result"
    }
   ],
   "source": [
    "bool(umur)"
   ]
  },
  {
   "cell_type": "code",
   "execution_count": 6,
   "metadata": {},
   "outputs": [
    {
     "name": "stdout",
     "output_type": "stream",
     "text": [
      "umurnya terisi, bukan 0\n"
     ]
    }
   ],
   "source": [
    "# data juga bisa digunakan seperti pertanyaan\n",
    "\n",
    "if(umur):\n",
    "    print(\"umurnya terisi, bukan 0\")"
   ]
  },
  {
   "cell_type": "code",
   "execution_count": 7,
   "metadata": {},
   "outputs": [
    {
     "name": "stdout",
     "output_type": "stream",
     "text": [
      "orang ini dewasa tapi bukan lansia\n"
     ]
    }
   ],
   "source": [
    "# pertanyaan juga bisa panjang karena and dan or\n",
    "\n",
    "if ((umur >= 17) and (umur <= 65)):\n",
    "    print(\"orang ini dewasa tapi bukan lansia\")"
   ]
  },
  {
   "cell_type": "code",
   "execution_count": 8,
   "metadata": {},
   "outputs": [
    {
     "name": "stdout",
     "output_type": "stream",
     "text": [
      "A\n",
      "B\n",
      "C\n"
     ]
    }
   ],
   "source": [
    "print(\"A\")\n",
    "print(\"B\")\n",
    "print(\"C\")"
   ]
  },
  {
   "cell_type": "code",
   "execution_count": 12,
   "metadata": {},
   "outputs": [
    {
     "name": "stdout",
     "output_type": "stream",
     "text": [
      "A\n",
      "B\n",
      "C\n",
      "A\n",
      "B\n",
      "Hacktiv8\n"
     ]
    }
   ],
   "source": [
    "print(\"A\")\n",
    "print(\"B\")\n",
    "print(\"C\")\n",
    "\n",
    "msg = \"Hacktiv\"\n",
    "if (\"8\" in msg):\n",
    "    msg = \"Hacktiv kok ada 8 nya ya?\"\n",
    "else:\n",
    "    msg = \"Hacktiv8\"\n",
    "\n",
    "print(\"A\")\n",
    "print(\"B\")\n",
    "print(msg)"
   ]
  },
  {
   "attachments": {},
   "cell_type": "markdown",
   "metadata": {},
   "source": [
    "### elif"
   ]
  },
  {
   "cell_type": "code",
   "execution_count": 20,
   "metadata": {},
   "outputs": [
    {
     "name": "stdout",
     "output_type": "stream",
     "text": [
      "adventurer Andi003\n"
     ]
    }
   ],
   "source": [
    "level = 18\n",
    "character_name = \"Andi003\"\n",
    "\n",
    "# kalau level dibawah 10, dapat \"novice\" title\n",
    "if (level < 10):\n",
    "    print(\"novice \" + character_name)\n",
    "    # kalau level dibawah 20, dapat \"adventurer\" title \n",
    "elif (level < 20):\n",
    "    print(\"adventurer \" + character_name)\n",
    "    # kalau level diatas 50, dapat \"master\" title\n",
    "elif (level > 50):\n",
    "    print(\"master \" + character_name)\n",
    "    # kalau semua if dan elif False, baru masuk ke else\n",
    "else:\n",
    "    print(character_name)\n",
    "\n"
   ]
  },
  {
   "attachments": {},
   "cell_type": "markdown",
   "metadata": {},
   "source": [
    "## nested if\n",
    "ada if di dalam if"
   ]
  },
  {
   "cell_type": "code",
   "execution_count": 23,
   "metadata": {},
   "outputs": [
    {
     "name": "stdout",
     "output_type": "stream",
     "text": [
      "tidak bisa join kelas\n"
     ]
    }
   ],
   "source": [
    "pemasukan = 50000\n",
    "pengeluaran = 75000\n",
    "tiket_diskon = False\n",
    "\n",
    "# kalau ada untung, kita bisa join kelas Entrepreneur Online\n",
    "# kalau tidak, kita perlu cek apakah punya tiket_diskon, kalau punya baru boleh join\n",
    "\n",
    "if (pemasukan > pengeluaran):\n",
    "    print(\"bisa join kelas Entrepreneur Online\")\n",
    "else:\n",
    "    if (tiket_diskon):\n",
    "        print(\"bisa join kelas Entrepreneur Online dengan tiket diskon\")\n",
    "    else:\n",
    "        print(\"tidak bisa join kelas\")"
   ]
  },
  {
   "attachments": {},
   "cell_type": "markdown",
   "metadata": {},
   "source": [
    "perhatikan tiga cara tulis if yang berbeda di bawah. ketiga if statement ini efeknya sama, hanya cara tulis berbeda"
   ]
  },
  {
   "cell_type": "code",
   "execution_count": 24,
   "metadata": {},
   "outputs": [
    {
     "name": "stdout",
     "output_type": "stream",
     "text": [
      "tidak bisa join kelas\n"
     ]
    }
   ],
   "source": [
    "# if biasa\n",
    "if (pemasukan > pengeluaran):\n",
    "    print(\"bisa join kelas Entrepreneur Online\")\n",
    "else:\n",
    "    print(\"tidak bisa join kelas\")"
   ]
  },
  {
   "cell_type": "code",
   "execution_count": 27,
   "metadata": {},
   "outputs": [
    {
     "name": "stdout",
     "output_type": "stream",
     "text": [
      "tidak bisa join kelas\n"
     ]
    }
   ],
   "source": [
    "# one line if\n",
    "if (pemasukan > pengeluaran): print(\"bisa join kelas Entrepreneur Online\")\n",
    "else: print(\"tidak bisa join kelas\")"
   ]
  },
  {
   "cell_type": "code",
   "execution_count": 26,
   "metadata": {},
   "outputs": [
    {
     "name": "stdout",
     "output_type": "stream",
     "text": [
      "tidak bisa join kelas\n"
     ]
    }
   ],
   "source": [
    "# ternary\n",
    "print(\"bisa join kelas Entrepreneur Online\") if (pemasukan > pengeluaran) else print(\"tidak bisa join kelas\")"
   ]
  },
  {
   "attachments": {},
   "cell_type": "markdown",
   "metadata": {},
   "source": [
    "## pass\n",
    "\n",
    "ada saatnya kita coding, kita tau pertanyaannya, tapi belum tau kalau jawabannya True, mau ngapain.\n",
    "\n",
    "di saat seperti ini, kita bisa buat if statement, tapi isinya kosong - kalau kosong Python error - jadi kita gunakan \"pass\" sebagai placeholder"
   ]
  },
  {
   "cell_type": "code",
   "execution_count": 29,
   "metadata": {},
   "outputs": [],
   "source": [
    "if (umur > 70):\n",
    "    pass"
   ]
  },
  {
   "attachments": {},
   "cell_type": "markdown",
   "metadata": {},
   "source": [
    "# Loop\n",
    "perulangan, iteration, looping, while dan for loop\n",
    "\n",
    "melakukan code yang sama berulang kali, sampai sebuah kondisi selesai\n",
    "\n",
    "if kondisi masih True, ulang lagi code nya\n",
    "\n",
    "## while\n",
    "while loop ditulis dengan format yang mirip dengan if\n",
    "\n",
    "```python\n",
    "n = 10\n",
    "while(n > 0):\n",
    "    print(\"n masih di atas 0\")\n",
    "\n",
    "print(\"hasil print ini ada di luar while loop\")\n",
    "```\n",
    "\n",
    "contoh diatas akan berakibat jadi \"infinite loop\" sebuah loop yang terus berulang tanpa akhir. karena loop mengecek apakah variable n diatas 0. kalau iya, dia ulang code nya print, tidak ada code yang mengubah value variable n, n selamanya akan tetap diatas 0, dan code nya akan terus berulang selamanya.\n",
    "\n",
    "di dalam sebuah loop kita harus memastikan kondisi berubah di perulangan berikut ke arah dimana dia akan berhenti."
   ]
  },
  {
   "cell_type": "code",
   "execution_count": 30,
   "metadata": {},
   "outputs": [
    {
     "name": "stdout",
     "output_type": "stream",
     "text": [
      "9\n",
      "8\n",
      "7\n",
      "6\n",
      "5\n",
      "4\n",
      "3\n",
      "2\n",
      "1\n",
      "0\n"
     ]
    }
   ],
   "source": [
    "n = 10\n",
    "while (n > 0):\n",
    "    n = n - 1\n",
    "    print(n)"
   ]
  },
  {
   "cell_type": "code",
   "execution_count": 33,
   "metadata": {},
   "outputs": [
    {
     "name": "stdout",
     "output_type": "stream",
     "text": [
      "9\n",
      "8\n",
      "7\n",
      "6\n",
      "5\n",
      "4\n",
      "3\n",
      "2\n",
      "1\n",
      "0\n",
      "ini masuk ke else\n"
     ]
    }
   ],
   "source": [
    "n = 10\n",
    "while (n > 0):\n",
    "    n = n - 1\n",
    "    print(n)\n",
    "else:\n",
    "    print(\"ini masuk ke else\") # kalau kondisi False baru masuk sini"
   ]
  },
  {
   "cell_type": "code",
   "execution_count": 35,
   "metadata": {},
   "outputs": [
    {
     "name": "stdout",
     "output_type": "stream",
     "text": [
      "saya suka belajar Python\n",
      "saya suka belajar Python\n",
      "saya suka belajar Python\n",
      "saya suka belajar Python\n",
      "saya suka belajar Python\n",
      "saya suka belajar Python\n",
      "saya suka belajar Python\n",
      "saya suka belajar Python\n"
     ]
    }
   ],
   "source": [
    "# soal pendek\n",
    "# coba print (\"saya suka belajar Python\") sebanyak 8 kali\n",
    "# gunakan while loop\n",
    "\n",
    "n = 1\n",
    "while (n < 9):\n",
    "    print(\"saya suka belajar Python\")\n",
    "    n = n + 1"
   ]
  },
  {
   "attachments": {},
   "cell_type": "markdown",
   "metadata": {},
   "source": [
    "## break dan continue statements\n",
    "break digunakan untuk menghentikan sebuah loop. karena dihentikan paksa, kondisi tidak pernah jadi False, tidak pernah masuk ke else (jika ada)\n",
    "\n",
    "continue digunakan untuk skip 1 kali sebuah loop. karena hanya skip 1 kali, loop masih berjalan"
   ]
  },
  {
   "cell_type": "code",
   "execution_count": 41,
   "metadata": {},
   "outputs": [
    {
     "name": "stdout",
     "output_type": "stream",
     "text": [
      "0 apel\n",
      "1 pisang\n",
      "2 jeruk\n",
      "3 mangga\n",
      "4 alpukat\n"
     ]
    }
   ],
   "source": [
    "# loop melewati banyak item dalam sebuah list\n",
    "\n",
    "buah_buahan = [\"apel\", \"pisang\", \"jeruk\", \"mangga\", \"alpukat\"]\n",
    "\n",
    "n = 0\n",
    "while (n < len(buah_buahan)):\n",
    "    print(n, buah_buahan[n])\n",
    "    n = n + 1"
   ]
  },
  {
   "cell_type": "code",
   "execution_count": 40,
   "metadata": {},
   "outputs": [
    {
     "name": "stdout",
     "output_type": "stream",
     "text": [
      "apel\n",
      "pisang\n",
      "jeruk ketemu\n"
     ]
    }
   ],
   "source": [
    "# kalau ketemu buah yang dicari, kita berhenti nge loop, kan udah ketemu\n",
    "buah_buahan = [\"apel\", \"pisang\", \"jeruk\", \"mangga\", \"alpukat\"]\n",
    "buah_dicari = \"jeruk\"\n",
    "\n",
    "n = 0\n",
    "while (n < len(buah_buahan)):\n",
    "    if(buah_buahan[n] == buah_dicari):\n",
    "        print(buah_dicari + \" ketemu\")\n",
    "        break\n",
    "    print(buah_buahan[n])\n",
    "    n = n + 1"
   ]
  },
  {
   "cell_type": "code",
   "execution_count": 46,
   "metadata": {},
   "outputs": [
    {
     "name": "stdout",
     "output_type": "stream",
     "text": [
      "apel\n",
      "pisang\n",
      "jeruk\n",
      "mangga\n",
      "alpukat\n"
     ]
    }
   ],
   "source": [
    "buah_buahan = [\"apel\", \"pisang\", \"jeruk\", \"mangga\", \"alpukat\"]\n",
    "buah_dicari = \"semangka\"\n",
    "\n",
    "n = 0\n",
    "while (n < len(buah_buahan)):\n",
    "    if(buah_buahan[n] == buah_dicari):\n",
    "        print(buah_dicari + \" ketemu\")\n",
    "        n = n + 1\n",
    "        continue\n",
    "    print(buah_buahan[n])\n",
    "    n = n + 1"
   ]
  },
  {
   "attachments": {},
   "cell_type": "markdown",
   "metadata": {},
   "source": [
    "## nested loop\n",
    "ada loop di dalam loop"
   ]
  },
  {
   "cell_type": "code",
   "execution_count": 56,
   "metadata": {},
   "outputs": [
    {
     "name": "stdout",
     "output_type": "stream",
     "text": [
      "0 {'nama': 'Andi', 'hobi': ['tidur', 'makan']}\n",
      "1 {'nama': 'Budi', 'hobi': ['Badminton', 'jalan-jalan']}\n",
      "2 {'nama': 'Cindy', 'hobi': ['BADMINTON', 'makan', 'tidur']}\n"
     ]
    }
   ],
   "source": [
    "# misal kita punya list karyawan, list berisi dictionary karyawan\n",
    "\n",
    "list_karyawan = [\n",
    "    {\"nama\":\"Andi\", \"hobi\":[\"tidur\", \"makan\"]},\n",
    "    {\"nama\":\"Budi\", \"hobi\":[\"Badminton\", \"jalan-jalan\"]},\n",
    "    {\"nama\":\"Cindy\", \"hobi\":[\"BADMINTON\", \"makan\", \"tidur\"]},\n",
    "]\n",
    "\n",
    "# apakah ada karyawan yang suka main badminton?\n",
    "\n",
    "# kita loop melewati semua karyawan satu per satu\n",
    "\n",
    "n = 0\n",
    "while (n < len(list_karyawan)):\n",
    "    kar = list_karyawan[n]\n",
    "\n",
    "    print(n, kar)\n",
    "    \n",
    "    n = n + 1"
   ]
  },
  {
   "cell_type": "code",
   "execution_count": 60,
   "metadata": {},
   "outputs": [
    {
     "name": "stdout",
     "output_type": "stream",
     "text": [
      "tidur\n",
      "makan\n",
      "Badminton\n",
      "KETEMU karayawan yang suka badminton Budi\n",
      "jalan-jalan\n",
      "BADMINTON\n",
      "KETEMU karayawan yang suka badminton Cindy\n",
      "makan\n",
      "tidur\n"
     ]
    }
   ],
   "source": [
    "n = 0\n",
    "while (n < len(list_karyawan)):\n",
    "    kar = list_karyawan[n]\n",
    "\n",
    "    # print(n, kar)\n",
    "    list_hobi = kar['hobi']\n",
    "\n",
    "    # untuk setiap karyawan, kita loop melewati hobi karyawan tersebut satu per satu\n",
    "    m = 0\n",
    "    while(m < len(list_hobi)):\n",
    "        hobi = list_hobi[m]\n",
    "        print(hobi)\n",
    "        # pakai if untuk cek apakah string hobi ini adalah badminton\n",
    "        if (hobi.lower() == 'badminton'):\n",
    "            print(\"KETEMU karayawan yang suka badminton\", kar['nama'])\n",
    "\n",
    "        m = m + 1\n",
    "    \n",
    "    n = n + 1"
   ]
  },
  {
   "attachments": {},
   "cell_type": "markdown",
   "metadata": {},
   "source": [
    "## One - Line Loop (while)"
   ]
  },
  {
   "cell_type": "code",
   "execution_count": 62,
   "metadata": {},
   "outputs": [
    {
     "name": "stdout",
     "output_type": "stream",
     "text": [
      "0 apel\n",
      "1 pisang\n",
      "2 jeruk\n",
      "3 mangga\n",
      "4 alpukat\n"
     ]
    }
   ],
   "source": [
    "buah_buahan = [\"apel\", \"pisang\", \"jeruk\", \"mangga\", \"alpukat\"]\n",
    "\n",
    "n = 0\n",
    "while (n < len(buah_buahan)):\n",
    "    print(n, buah_buahan[n])\n",
    "    n = n + 1"
   ]
  },
  {
   "cell_type": "code",
   "execution_count": 63,
   "metadata": {},
   "outputs": [
    {
     "name": "stdout",
     "output_type": "stream",
     "text": [
      "0 apel\n",
      "1 pisang\n",
      "2 jeruk\n",
      "3 mangga\n",
      "4 alpukat\n"
     ]
    }
   ],
   "source": [
    "buah_buahan = [\"apel\", \"pisang\", \"jeruk\", \"mangga\", \"alpukat\"]\n",
    "\n",
    "n = 0\n",
    "while (n < len(buah_buahan)): print(n, buah_buahan[n]); n = n + 1"
   ]
  },
  {
   "attachments": {},
   "cell_type": "markdown",
   "metadata": {},
   "source": [
    "# For Loop\n",
    "loop khusus untuk melewati sebuah koleksi data.\n",
    "\n",
    "yang termasuk koleksi adalah:\n",
    "- list\n",
    "- tuple\n",
    "- dictionary\n",
    "- string, koleksi karakter dalam sebuah string \"abc\" adalah koleksi \"a\" \"b\" dan \"c\"\n",
    "- range, teknik cepat untuk membuat angka urut di python"
   ]
  },
  {
   "cell_type": "code",
   "execution_count": 65,
   "metadata": {},
   "outputs": [
    {
     "name": "stdout",
     "output_type": "stream",
     "text": [
      "Buah Apel\n",
      "Buah Pisang\n",
      "Buah Jeruk\n",
      "Buah Mangga\n",
      "Buah Alpukat\n"
     ]
    }
   ],
   "source": [
    "# list\n",
    "buah_buahan = [\"apel\", \"pisang\", \"jeruk\", \"mangga\", \"alpukat\"]\n",
    "\n",
    "for item in buah_buahan:\n",
    "    print(\"Buah \" + item.title())"
   ]
  },
  {
   "cell_type": "code",
   "execution_count": 67,
   "metadata": {},
   "outputs": [
    {
     "name": "stdout",
     "output_type": "stream",
     "text": [
      "Buah Apel\n",
      "Buah Pisang\n",
      "Buah Jeruk\n",
      "Buah Mangga\n",
      "Buah Alpukat\n"
     ]
    }
   ],
   "source": [
    "# tuple\n",
    "buah_buahan = (\"apel\", \"pisang\", \"jeruk\", \"mangga\", \"alpukat\")\n",
    "\n",
    "for item in buah_buahan:\n",
    "    print(\"Buah \" + item.title())"
   ]
  },
  {
   "cell_type": "code",
   "execution_count": 69,
   "metadata": {},
   "outputs": [
    {
     "name": "stdout",
     "output_type": "stream",
     "text": [
      "nama\n",
      "hobi\n"
     ]
    }
   ],
   "source": [
    "# dictionary\n",
    "karwayan = {'nama': 'Andi', 'hobi': ['tidur', 'makan']}\n",
    "\n",
    "for key in karwayan:\n",
    "    print(key)"
   ]
  },
  {
   "attachments": {},
   "cell_type": "markdown",
   "metadata": {},
   "source": [
    "kalau dictionary di loop pakai for, kita akan dapat key dari dictionary tersebut satu per satu"
   ]
  },
  {
   "attachments": {},
   "cell_type": "markdown",
   "metadata": {},
   "source": [
    "kalau mau lebih jelas yang diambil oleh for loop dari dictionary itu key atau value atau item, kita bisa gunakan .keys(), .values(), dan .items() milik dictionary tersebut"
   ]
  },
  {
   "cell_type": "code",
   "execution_count": 75,
   "metadata": {},
   "outputs": [
    {
     "name": "stdout",
     "output_type": "stream",
     "text": [
      "nama Andi\n",
      "hobi ['tidur', 'makan']\n"
     ]
    }
   ],
   "source": [
    "# dictionary keys\n",
    "karwayan = {'nama': 'Andi', 'hobi': ['tidur', 'makan']}\n",
    "\n",
    "for key in karwayan.keys():\n",
    "    print(key, karwayan[key])"
   ]
  },
  {
   "cell_type": "code",
   "execution_count": 72,
   "metadata": {},
   "outputs": [
    {
     "name": "stdout",
     "output_type": "stream",
     "text": [
      "Andi\n",
      "['tidur', 'makan']\n"
     ]
    }
   ],
   "source": [
    "# dictionary values\n",
    "karwayan = {'nama': 'Andi', 'hobi': ['tidur', 'makan']}\n",
    "\n",
    "for val in karwayan.values():\n",
    "    print(val)"
   ]
  },
  {
   "cell_type": "code",
   "execution_count": 76,
   "metadata": {},
   "outputs": [
    {
     "name": "stdout",
     "output_type": "stream",
     "text": [
      "('nama', 'Andi')\n",
      "nama Andi\n",
      "('hobi', ['tidur', 'makan'])\n",
      "hobi ['tidur', 'makan']\n"
     ]
    }
   ],
   "source": [
    "# dictionary item\n",
    "karwayan = {'nama': 'Andi', 'hobi': ['tidur', 'makan']}\n",
    "\n",
    "for item in karwayan.items():\n",
    "    print(item)\n",
    "    print(item[0], item[1])"
   ]
  },
  {
   "cell_type": "code",
   "execution_count": 82,
   "metadata": {},
   "outputs": [
    {
     "name": "stdout",
     "output_type": "stream",
     "text": [
      "ada 29 huruf a di dalam message diatas\n"
     ]
    }
   ],
   "source": [
    "# string\n",
    "message = \"Lorem Ipsum is simply dummy text of the printing and typesetting industry. Lorem Ipsum has been the industry's standard dummy text ever since the 1500s, when an unknown printer took a galley of type and scrambled it to make a type specimen book. It has survived not only five centuries, but also the leap into electronic typesetting, remaining essentially unchanged. It was popularised in the 1960s with the release of Letraset sheets containing Lorem Ipsum passages, and more recently with desktop publishing software like Aldus PageMaker including versions of Lorem Ipsum.\"\n",
    "\n",
    "# ada berapa huruf \"A\" atau \"a\" di dalam message diatas?\n",
    "count = 0\n",
    "for item in message:\n",
    "    if(item.lower() == \"a\"):\n",
    "        count = count + 1\n",
    "\n",
    "print(\"ada \" + str(count) + \" huruf a di dalam message diatas\")"
   ]
  },
  {
   "cell_type": "code",
   "execution_count": 80,
   "metadata": {},
   "outputs": [
    {
     "data": {
      "text/plain": [
       "True"
      ]
     },
     "execution_count": 80,
     "metadata": {},
     "output_type": "execute_result"
    }
   ],
   "source": [
    "\"A\" in message"
   ]
  },
  {
   "attachments": {},
   "cell_type": "markdown",
   "metadata": {},
   "source": [
    "## range\n",
    "function buatan python\n",
    "\n",
    "bisa membuat koleksi angka urut dengan cepat\n",
    "\n",
    "ada 3 hal yang bisa kita atur dengan range, yaitu:\n",
    "- mulai dari angka berapa (start)\n",
    "- berakhir di angka berapa (end) (angka terakhir tidak termasuk dari koleksi nya)\n",
    "- untuk setiap angka berikut, nambah/kurang berapa? (step)\n",
    "\n",
    "```python\n",
    "range(5,17,3)\n",
    "```\n",
    "start 5, step 3, end 17:\n",
    "\n",
    "5 8 11 14"
   ]
  },
  {
   "cell_type": "code",
   "execution_count": 86,
   "metadata": {},
   "outputs": [
    {
     "name": "stdout",
     "output_type": "stream",
     "text": [
      "5\n",
      "8\n",
      "11\n",
      "14\n",
      "17\n"
     ]
    }
   ],
   "source": [
    "for angka in range(5,18,3):\n",
    "    print(angka)"
   ]
  },
  {
   "cell_type": "code",
   "execution_count": 87,
   "metadata": {},
   "outputs": [
    {
     "name": "stdout",
     "output_type": "stream",
     "text": [
      "0\n",
      "1\n",
      "2\n",
      "3\n",
      "4\n"
     ]
    }
   ],
   "source": [
    "# mulai dari 0, step 1\n",
    "for angka in range(5):\n",
    "    print(angka)"
   ]
  },
  {
   "cell_type": "code",
   "execution_count": 89,
   "metadata": {},
   "outputs": [
    {
     "name": "stdout",
     "output_type": "stream",
     "text": [
      "5\n",
      "6\n",
      "7\n",
      "8\n",
      "9\n",
      "10\n",
      "11\n",
      "12\n",
      "13\n",
      "14\n",
      "15\n",
      "16\n",
      "17\n"
     ]
    }
   ],
   "source": [
    "# mulai dari 5, berakhir di 18 (18 tidak termasuk), step 1\n",
    "for angka in range(5,18):\n",
    "    print(angka)"
   ]
  },
  {
   "cell_type": "code",
   "execution_count": 90,
   "metadata": {},
   "outputs": [
    {
     "name": "stdout",
     "output_type": "stream",
     "text": [
      "5\n",
      "8\n",
      "11\n",
      "14\n",
      "17\n"
     ]
    }
   ],
   "source": [
    "# mulai dari 5, berakhir di 18 (18 tidak termasuk), step 3\n",
    "for angka in range(5,18,3):\n",
    "    print(angka)"
   ]
  },
  {
   "cell_type": "code",
   "execution_count": 91,
   "metadata": {},
   "outputs": [
    {
     "name": "stdout",
     "output_type": "stream",
     "text": [
      "50\n",
      "25\n",
      "0\n",
      "-25\n"
     ]
    }
   ],
   "source": [
    "# hitung mundur juga bisa\n",
    "for angka in range(50,-50,-25):\n",
    "    print(angka)"
   ]
  },
  {
   "cell_type": "code",
   "execution_count": 95,
   "metadata": {},
   "outputs": [
    {
     "name": "stdout",
     "output_type": "stream",
     "text": [
      "170\n"
     ]
    }
   ],
   "source": [
    "# soal pendek\n",
    "# diberikan sebuah limit, antara angka 0 sampai 1000\n",
    "# coba cari ada berapa angka prima\n",
    "# Bilangan prima adalah bilangan asli lebih dari 1 yang bukan hasilkali dari dua bilangan asli yang lebih kecil\n",
    "\n",
    "# kita ikuti limit 0 sampai 1000\n",
    "count = 0\n",
    "for angka in range(1001):\n",
    "    # print(angka)\n",
    "\n",
    "    # if (\"angka adalah prima\"):\n",
    "    #     count = count + 1\n",
    "\n",
    "    # untuk semua bilangan lebih kecil\n",
    "    adalahprima = True\n",
    "    for angkalebihkecil in range(angka):\n",
    "        if (angkalebihkecil <= 1):\n",
    "            continue\n",
    "        # angkalebihkecil adalah 2 sampai ke angka - 1\n",
    "\n",
    "        # apakah angka habis dibagi dengan angkalebihkecil\n",
    "        if (angka % angkalebihkecil == 0):\n",
    "            # bukan angka prima\n",
    "            adalahprima = False\n",
    "\n",
    "    # kita sudah cek semua angka dari 2 sampai angka - 1, kalau tidak ada yang berhasil habis terbagi, berarti angka adalah prima\n",
    "    \n",
    "    if (adalahprima):\n",
    "        count = count + 1\n",
    "\n",
    "print(count)\n"
   ]
  },
  {
   "cell_type": "code",
   "execution_count": null,
   "metadata": {},
   "outputs": [],
   "source": [
    "# ke git, baru ke mengulang materi sesi 1/2 kalau mau atau preview sesi 3"
   ]
  }
 ],
 "metadata": {
  "kernelspec": {
   "display_name": "base",
   "language": "python",
   "name": "python3"
  },
  "language_info": {
   "codemirror_mode": {
    "name": "ipython",
    "version": 3
   },
   "file_extension": ".py",
   "mimetype": "text/x-python",
   "name": "python",
   "nbconvert_exporter": "python",
   "pygments_lexer": "ipython3",
   "version": "3.9.13"
  },
  "orig_nbformat": 4,
  "vscode": {
   "interpreter": {
    "hash": "4f523f7c76dd18e7ed336217f32f6f704c23c323644912475b9d3570cf04b060"
   }
  }
 },
 "nbformat": 4,
 "nbformat_minor": 2
}
