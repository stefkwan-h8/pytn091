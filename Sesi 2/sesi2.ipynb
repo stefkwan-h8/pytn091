{
 "cells": [
  {
   "attachments": {},
   "cell_type": "markdown",
   "metadata": {},
   "source": [
    "# Sesi 2 - Conditional dan Looping\n",
    "\n",
    "## Conditional\n",
    "adalah sebuah teknik yang menanyakan ke program apakah sebuah data itu True atau False\n",
    "\n",
    "lalu tergantung jawabannya True atau False kita bisa jalankan code tertentu\n",
    "\n",
    "```python\n",
    "\n",
    "umur = 15\n",
    "\n",
    "# kita bertanya apakah umur lebih dari 17?\n",
    "\n",
    "if (umur > 17):\n",
    "    print(\"umur lebih dari 17\")\n",
    "else:\n",
    "    print(\"umur kurang atau sama dengan 17\")\n",
    "```"
   ]
  },
  {
   "cell_type": "code",
   "execution_count": 4,
   "metadata": {},
   "outputs": [],
   "source": [
    "# conditional. kalau True, melakukan sesuatu\n",
    "\n",
    "umur = 17\n",
    "\n",
    "if (umur > 17):\n",
    "    print(\"umur lebih dari 17\")"
   ]
  },
  {
   "cell_type": "code",
   "execution_count": null,
   "metadata": {},
   "outputs": [],
   "source": [
    "# conditional. kalau True, melakukan sesuatu. kalau False, melakukan hal lain\n",
    "\n",
    "umur = 17\n",
    "\n",
    "if (umur > 17):\n",
    "    print(\"umur lebih dari 17\")\n",
    "else:\n",
    "    print(\"umur <= 17\")"
   ]
  },
  {
   "cell_type": "code",
   "execution_count": 5,
   "metadata": {},
   "outputs": [
    {
     "data": {
      "text/plain": [
       "True"
      ]
     },
     "execution_count": 5,
     "metadata": {},
     "output_type": "execute_result"
    }
   ],
   "source": [
    "bool(umur)"
   ]
  },
  {
   "cell_type": "code",
   "execution_count": 6,
   "metadata": {},
   "outputs": [
    {
     "name": "stdout",
     "output_type": "stream",
     "text": [
      "umurnya terisi, bukan 0\n"
     ]
    }
   ],
   "source": [
    "# data juga bisa digunakan seperti pertanyaan\n",
    "\n",
    "if(umur):\n",
    "    print(\"umurnya terisi, bukan 0\")"
   ]
  },
  {
   "cell_type": "code",
   "execution_count": 7,
   "metadata": {},
   "outputs": [
    {
     "name": "stdout",
     "output_type": "stream",
     "text": [
      "orang ini dewasa tapi bukan lansia\n"
     ]
    }
   ],
   "source": [
    "# pertanyaan juga bisa panjang karena and dan or\n",
    "\n",
    "if ((umur >= 17) and (umur <= 65)):\n",
    "    print(\"orang ini dewasa tapi bukan lansia\")"
   ]
  },
  {
   "cell_type": "code",
   "execution_count": 8,
   "metadata": {},
   "outputs": [
    {
     "name": "stdout",
     "output_type": "stream",
     "text": [
      "A\n",
      "B\n",
      "C\n"
     ]
    }
   ],
   "source": [
    "print(\"A\")\n",
    "print(\"B\")\n",
    "print(\"C\")"
   ]
  },
  {
   "cell_type": "code",
   "execution_count": 12,
   "metadata": {},
   "outputs": [
    {
     "name": "stdout",
     "output_type": "stream",
     "text": [
      "A\n",
      "B\n",
      "C\n",
      "A\n",
      "B\n",
      "Hacktiv8\n"
     ]
    }
   ],
   "source": [
    "print(\"A\")\n",
    "print(\"B\")\n",
    "print(\"C\")\n",
    "\n",
    "msg = \"Hacktiv\"\n",
    "if (\"8\" in msg):\n",
    "    msg = \"Hacktiv kok ada 8 nya ya?\"\n",
    "else:\n",
    "    msg = \"Hacktiv8\"\n",
    "\n",
    "print(\"A\")\n",
    "print(\"B\")\n",
    "print(msg)"
   ]
  },
  {
   "attachments": {},
   "cell_type": "markdown",
   "metadata": {},
   "source": [
    "### elif"
   ]
  },
  {
   "cell_type": "code",
   "execution_count": 20,
   "metadata": {},
   "outputs": [
    {
     "name": "stdout",
     "output_type": "stream",
     "text": [
      "adventurer Andi003\n"
     ]
    }
   ],
   "source": [
    "level = 18\n",
    "character_name = \"Andi003\"\n",
    "\n",
    "# kalau level dibawah 10, dapat \"novice\" title\n",
    "if (level < 10):\n",
    "    print(\"novice \" + character_name)\n",
    "    # kalau level dibawah 20, dapat \"adventurer\" title \n",
    "elif (level < 20):\n",
    "    print(\"adventurer \" + character_name)\n",
    "    # kalau level diatas 50, dapat \"master\" title\n",
    "elif (level > 50):\n",
    "    print(\"master \" + character_name)\n",
    "    # kalau semua if dan elif False, baru masuk ke else\n",
    "else:\n",
    "    print(character_name)\n",
    "\n"
   ]
  },
  {
   "attachments": {},
   "cell_type": "markdown",
   "metadata": {},
   "source": [
    "## nested if\n",
    "ada if di dalam if"
   ]
  },
  {
   "cell_type": "code",
   "execution_count": 23,
   "metadata": {},
   "outputs": [
    {
     "name": "stdout",
     "output_type": "stream",
     "text": [
      "tidak bisa join kelas\n"
     ]
    }
   ],
   "source": [
    "pemasukan = 50000\n",
    "pengeluaran = 75000\n",
    "tiket_diskon = False\n",
    "\n",
    "# kalau ada untung, kita bisa join kelas Entrepreneur Online\n",
    "# kalau tidak, kita perlu cek apakah punya tiket_diskon, kalau punya baru boleh join\n",
    "\n",
    "if (pemasukan > pengeluaran):\n",
    "    print(\"bisa join kelas Entrepreneur Online\")\n",
    "else:\n",
    "    if (tiket_diskon):\n",
    "        print(\"bisa join kelas Entrepreneur Online dengan tiket diskon\")\n",
    "    else:\n",
    "        print(\"tidak bisa join kelas\")"
   ]
  },
  {
   "attachments": {},
   "cell_type": "markdown",
   "metadata": {},
   "source": [
    "perhatikan tiga cara tulis if yang berbeda di bawah. ketiga if statement ini efeknya sama, hanya cara tulis berbeda"
   ]
  },
  {
   "cell_type": "code",
   "execution_count": 24,
   "metadata": {},
   "outputs": [
    {
     "name": "stdout",
     "output_type": "stream",
     "text": [
      "tidak bisa join kelas\n"
     ]
    }
   ],
   "source": [
    "# if biasa\n",
    "if (pemasukan > pengeluaran):\n",
    "    print(\"bisa join kelas Entrepreneur Online\")\n",
    "else:\n",
    "    print(\"tidak bisa join kelas\")"
   ]
  },
  {
   "cell_type": "code",
   "execution_count": 27,
   "metadata": {},
   "outputs": [
    {
     "name": "stdout",
     "output_type": "stream",
     "text": [
      "tidak bisa join kelas\n"
     ]
    }
   ],
   "source": [
    "# one line if\n",
    "if (pemasukan > pengeluaran): print(\"bisa join kelas Entrepreneur Online\")\n",
    "else: print(\"tidak bisa join kelas\")"
   ]
  },
  {
   "cell_type": "code",
   "execution_count": 26,
   "metadata": {},
   "outputs": [
    {
     "name": "stdout",
     "output_type": "stream",
     "text": [
      "tidak bisa join kelas\n"
     ]
    }
   ],
   "source": [
    "# ternary\n",
    "print(\"bisa join kelas Entrepreneur Online\") if (pemasukan > pengeluaran) else print(\"tidak bisa join kelas\")"
   ]
  },
  {
   "attachments": {},
   "cell_type": "markdown",
   "metadata": {},
   "source": [
    "## pass\n",
    "\n",
    "ada saatnya kita coding, kita tau pertanyaannya, tapi belum tau kalau jawabannya True, mau ngapain.\n",
    "\n",
    "di saat seperti ini, kita bisa buat if statement, tapi isinya kosong - kalau kosong Python error - jadi kita gunakan \"pass\" sebagai placeholder"
   ]
  },
  {
   "cell_type": "code",
   "execution_count": 29,
   "metadata": {},
   "outputs": [],
   "source": [
    "if (umur > 70):\n",
    "    pass"
   ]
  },
  {
   "attachments": {},
   "cell_type": "markdown",
   "metadata": {},
   "source": [
    "# Loop\n",
    "perulangan, iteration, looping, while dan for loop\n",
    "\n",
    "melakukan code yang sama berulang kali, sampai sebuah kondisi selesai\n",
    "\n",
    "if kondisi masih True, ulang lagi code nya\n",
    "\n",
    "## while\n",
    "while loop ditulis dengan format yang mirip dengan if\n",
    "\n",
    "```python\n",
    "n = 10\n",
    "while(n > 0):\n",
    "    print(\"n masih di atas 0\")\n",
    "\n",
    "print(\"hasil print ini ada di luar while loop\")\n",
    "```\n",
    "\n",
    "contoh diatas akan berakibat jadi \"infinite loop\" sebuah loop yang terus berulang tanpa akhir. karena loop mengecek apakah variable n diatas 0. kalau iya, dia ulang code nya print, tidak ada code yang mengubah value variable n, n selamanya akan tetap diatas 0, dan code nya akan terus berulang selamanya.\n",
    "\n",
    "di dalam sebuah loop kita harus memastikan kondisi berubah di perulangan berikut ke arah dimana dia akan berhenti."
   ]
  },
  {
   "cell_type": "code",
   "execution_count": 30,
   "metadata": {},
   "outputs": [
    {
     "name": "stdout",
     "output_type": "stream",
     "text": [
      "9\n",
      "8\n",
      "7\n",
      "6\n",
      "5\n",
      "4\n",
      "3\n",
      "2\n",
      "1\n",
      "0\n"
     ]
    }
   ],
   "source": [
    "n = 10\n",
    "while (n > 0):\n",
    "    n = n - 1\n",
    "    print(n)"
   ]
  },
  {
   "cell_type": "code",
   "execution_count": 33,
   "metadata": {},
   "outputs": [
    {
     "name": "stdout",
     "output_type": "stream",
     "text": [
      "9\n",
      "8\n",
      "7\n",
      "6\n",
      "5\n",
      "4\n",
      "3\n",
      "2\n",
      "1\n",
      "0\n",
      "ini masuk ke else\n"
     ]
    }
   ],
   "source": [
    "n = 10\n",
    "while (n > 0):\n",
    "    n = n - 1\n",
    "    print(n)\n",
    "else:\n",
    "    print(\"ini masuk ke else\") # kalau kondisi False baru masuk sini"
   ]
  },
  {
   "cell_type": "code",
   "execution_count": 35,
   "metadata": {},
   "outputs": [
    {
     "name": "stdout",
     "output_type": "stream",
     "text": [
      "saya suka belajar Python\n",
      "saya suka belajar Python\n",
      "saya suka belajar Python\n",
      "saya suka belajar Python\n",
      "saya suka belajar Python\n",
      "saya suka belajar Python\n",
      "saya suka belajar Python\n",
      "saya suka belajar Python\n"
     ]
    }
   ],
   "source": [
    "# soal pendek\n",
    "# coba print (\"saya suka belajar Python\") sebanyak 8 kali\n",
    "# gunakan while loop\n",
    "\n",
    "n = 1\n",
    "while (n < 9):\n",
    "    print(\"saya suka belajar Python\")\n",
    "    n = n + 1"
   ]
  },
  {
   "attachments": {},
   "cell_type": "markdown",
   "metadata": {},
   "source": [
    "## break dan continue statements\n",
    "break digunakan untuk menghentikan sebuah loop. karena dihentikan paksa, kondisi tidak pernah jadi False, tidak pernah masuk ke else (jika ada)\n",
    "\n",
    "continue digunakan untuk skip 1 kali sebuah loop. karena hanya skip 1 kali, loop masih berjalan"
   ]
  },
  {
   "cell_type": "code",
   "execution_count": 41,
   "metadata": {},
   "outputs": [
    {
     "name": "stdout",
     "output_type": "stream",
     "text": [
      "0 apel\n",
      "1 pisang\n",
      "2 jeruk\n",
      "3 mangga\n",
      "4 alpukat\n"
     ]
    }
   ],
   "source": [
    "# loop melewati banyak item dalam sebuah list\n",
    "\n",
    "buah_buahan = [\"apel\", \"pisang\", \"jeruk\", \"mangga\", \"alpukat\"]\n",
    "\n",
    "n = 0\n",
    "while (n < len(buah_buahan)):\n",
    "    print(n, buah_buahan[n])\n",
    "    n = n + 1"
   ]
  },
  {
   "cell_type": "code",
   "execution_count": 40,
   "metadata": {},
   "outputs": [
    {
     "name": "stdout",
     "output_type": "stream",
     "text": [
      "apel\n",
      "pisang\n",
      "jeruk ketemu\n"
     ]
    }
   ],
   "source": [
    "# kalau ketemu buah yang dicari, kita berhenti nge loop, kan udah ketemu\n",
    "buah_buahan = [\"apel\", \"pisang\", \"jeruk\", \"mangga\", \"alpukat\"]\n",
    "buah_dicari = \"jeruk\"\n",
    "\n",
    "n = 0\n",
    "while (n < len(buah_buahan)):\n",
    "    if(buah_buahan[n] == buah_dicari):\n",
    "        print(buah_dicari + \" ketemu\")\n",
    "        break\n",
    "    print(buah_buahan[n])\n",
    "    n = n + 1"
   ]
  },
  {
   "cell_type": "code",
   "execution_count": 46,
   "metadata": {},
   "outputs": [
    {
     "name": "stdout",
     "output_type": "stream",
     "text": [
      "apel\n",
      "pisang\n",
      "jeruk\n",
      "mangga\n",
      "alpukat\n"
     ]
    }
   ],
   "source": [
    "buah_buahan = [\"apel\", \"pisang\", \"jeruk\", \"mangga\", \"alpukat\"]\n",
    "buah_dicari = \"semangka\"\n",
    "\n",
    "n = 0\n",
    "while (n < len(buah_buahan)):\n",
    "    if(buah_buahan[n] == buah_dicari):\n",
    "        print(buah_dicari + \" ketemu\")\n",
    "        n = n + 1\n",
    "        continue\n",
    "    print(buah_buahan[n])\n",
    "    n = n + 1"
   ]
  },
  {
   "attachments": {},
   "cell_type": "markdown",
   "metadata": {},
   "source": [
    "## nested loop\n",
    "ada loop di dalam loop"
   ]
  },
  {
   "cell_type": "code",
   "execution_count": 56,
   "metadata": {},
   "outputs": [
    {
     "name": "stdout",
     "output_type": "stream",
     "text": [
      "0 {'nama': 'Andi', 'hobi': ['tidur', 'makan']}\n",
      "1 {'nama': 'Budi', 'hobi': ['Badminton', 'jalan-jalan']}\n",
      "2 {'nama': 'Cindy', 'hobi': ['BADMINTON', 'makan', 'tidur']}\n"
     ]
    }
   ],
   "source": [
    "# misal kita punya list karyawan, list berisi dictionary karyawan\n",
    "\n",
    "list_karyawan = [\n",
    "    {\"nama\":\"Andi\", \"hobi\":[\"tidur\", \"makan\"]},\n",
    "    {\"nama\":\"Budi\", \"hobi\":[\"Badminton\", \"jalan-jalan\"]},\n",
    "    {\"nama\":\"Cindy\", \"hobi\":[\"BADMINTON\", \"makan\", \"tidur\"]},\n",
    "]\n",
    "\n",
    "# apakah ada karyawan yang suka main badminton?\n",
    "\n",
    "# kita loop melewati semua karyawan satu per satu\n",
    "\n",
    "n = 0\n",
    "while (n < len(list_karyawan)):\n",
    "    kar = list_karyawan[n]\n",
    "\n",
    "    print(n, kar)\n",
    "    \n",
    "    n = n + 1"
   ]
  },
  {
   "cell_type": "code",
   "execution_count": 60,
   "metadata": {},
   "outputs": [
    {
     "name": "stdout",
     "output_type": "stream",
     "text": [
      "tidur\n",
      "makan\n",
      "Badminton\n",
      "KETEMU karayawan yang suka badminton Budi\n",
      "jalan-jalan\n",
      "BADMINTON\n",
      "KETEMU karayawan yang suka badminton Cindy\n",
      "makan\n",
      "tidur\n"
     ]
    }
   ],
   "source": [
    "n = 0\n",
    "while (n < len(list_karyawan)):\n",
    "    kar = list_karyawan[n]\n",
    "\n",
    "    # print(n, kar)\n",
    "    list_hobi = kar['hobi']\n",
    "\n",
    "    # untuk setiap karyawan, kita loop melewati hobi karyawan tersebut satu per satu\n",
    "    m = 0\n",
    "    while(m < len(list_hobi)):\n",
    "        hobi = list_hobi[m]\n",
    "        print(hobi)\n",
    "        # pakai if untuk cek apakah string hobi ini adalah badminton\n",
    "        if (hobi.lower() == 'badminton'):\n",
    "            print(\"KETEMU karayawan yang suka badminton\", kar['nama'])\n",
    "\n",
    "        m = m + 1\n",
    "    \n",
    "    n = n + 1"
   ]
  },
  {
   "attachments": {},
   "cell_type": "markdown",
   "metadata": {},
   "source": [
    "## One - Line Loop (while)"
   ]
  },
  {
   "cell_type": "code",
   "execution_count": 62,
   "metadata": {},
   "outputs": [
    {
     "name": "stdout",
     "output_type": "stream",
     "text": [
      "0 apel\n",
      "1 pisang\n",
      "2 jeruk\n",
      "3 mangga\n",
      "4 alpukat\n"
     ]
    }
   ],
   "source": [
    "buah_buahan = [\"apel\", \"pisang\", \"jeruk\", \"mangga\", \"alpukat\"]\n",
    "\n",
    "n = 0\n",
    "while (n < len(buah_buahan)):\n",
    "    print(n, buah_buahan[n])\n",
    "    n = n + 1"
   ]
  },
  {
   "cell_type": "code",
   "execution_count": 63,
   "metadata": {},
   "outputs": [
    {
     "name": "stdout",
     "output_type": "stream",
     "text": [
      "0 apel\n",
      "1 pisang\n",
      "2 jeruk\n",
      "3 mangga\n",
      "4 alpukat\n"
     ]
    }
   ],
   "source": [
    "buah_buahan = [\"apel\", \"pisang\", \"jeruk\", \"mangga\", \"alpukat\"]\n",
    "\n",
    "n = 0\n",
    "while (n < len(buah_buahan)): print(n, buah_buahan[n]); n = n + 1"
   ]
  },
  {
   "attachments": {},
   "cell_type": "markdown",
   "metadata": {},
   "source": [
    "# For Loop\n",
    "loop khusus untuk melewati sebuah koleksi data.\n",
    "\n",
    "yang termasuk koleksi adalah:\n",
    "- list\n",
    "- tuple\n",
    "- dictionary\n",
    "- string, koleksi karakter dalam sebuah string \"abc\" adalah koleksi \"a\" \"b\" dan \"c\"\n",
    "- range, teknik cepat untuk membuat angka urut di python"
   ]
  },
  {
   "cell_type": "code",
   "execution_count": 65,
   "metadata": {},
   "outputs": [
    {
     "name": "stdout",
     "output_type": "stream",
     "text": [
      "Buah Apel\n",
      "Buah Pisang\n",
      "Buah Jeruk\n",
      "Buah Mangga\n",
      "Buah Alpukat\n"
     ]
    }
   ],
   "source": [
    "# list\n",
    "buah_buahan = [\"apel\", \"pisang\", \"jeruk\", \"mangga\", \"alpukat\"]\n",
    "\n",
    "for item in buah_buahan:\n",
    "    print(\"Buah \" + item.title())"
   ]
  },
  {
   "cell_type": "code",
   "execution_count": 67,
   "metadata": {},
   "outputs": [
    {
     "name": "stdout",
     "output_type": "stream",
     "text": [
      "Buah Apel\n",
      "Buah Pisang\n",
      "Buah Jeruk\n",
      "Buah Mangga\n",
      "Buah Alpukat\n"
     ]
    }
   ],
   "source": [
    "# tuple\n",
    "buah_buahan = (\"apel\", \"pisang\", \"jeruk\", \"mangga\", \"alpukat\")\n",
    "\n",
    "for item in buah_buahan:\n",
    "    print(\"Buah \" + item.title())"
   ]
  },
  {
   "cell_type": "code",
   "execution_count": 69,
   "metadata": {},
   "outputs": [
    {
     "name": "stdout",
     "output_type": "stream",
     "text": [
      "nama\n",
      "hobi\n"
     ]
    }
   ],
   "source": [
    "# dictionary\n",
    "karwayan = {'nama': 'Andi', 'hobi': ['tidur', 'makan']}\n",
    "\n",
    "for key in karwayan:\n",
    "    print(key)"
   ]
  },
  {
   "attachments": {},
   "cell_type": "markdown",
   "metadata": {},
   "source": [
    "kalau dictionary di loop pakai for, kita akan dapat key dari dictionary tersebut satu per satu"
   ]
  },
  {
   "attachments": {},
   "cell_type": "markdown",
   "metadata": {},
   "source": [
    "kalau mau lebih jelas yang diambil oleh for loop dari dictionary itu key atau value atau item, kita bisa gunakan .keys(), .values(), dan .items() milik dictionary tersebut"
   ]
  },
  {
   "cell_type": "code",
   "execution_count": 75,
   "metadata": {},
   "outputs": [
    {
     "name": "stdout",
     "output_type": "stream",
     "text": [
      "nama Andi\n",
      "hobi ['tidur', 'makan']\n"
     ]
    }
   ],
   "source": [
    "# dictionary keys\n",
    "karwayan = {'nama': 'Andi', 'hobi': ['tidur', 'makan']}\n",
    "\n",
    "for key in karwayan.keys():\n",
    "    print(key, karwayan[key])"
   ]
  },
  {
   "cell_type": "code",
   "execution_count": 72,
   "metadata": {},
   "outputs": [
    {
     "name": "stdout",
     "output_type": "stream",
     "text": [
      "Andi\n",
      "['tidur', 'makan']\n"
     ]
    }
   ],
   "source": [
    "# dictionary values\n",
    "karwayan = {'nama': 'Andi', 'hobi': ['tidur', 'makan']}\n",
    "\n",
    "for val in karwayan.values():\n",
    "    print(val)"
   ]
  },
  {
   "cell_type": "code",
   "execution_count": 76,
   "metadata": {},
   "outputs": [
    {
     "name": "stdout",
     "output_type": "stream",
     "text": [
      "('nama', 'Andi')\n",
      "nama Andi\n",
      "('hobi', ['tidur', 'makan'])\n",
      "hobi ['tidur', 'makan']\n"
     ]
    }
   ],
   "source": [
    "# dictionary item\n",
    "karwayan = {'nama': 'Andi', 'hobi': ['tidur', 'makan']}\n",
    "\n",
    "for item in karwayan.items():\n",
    "    print(item)\n",
    "    print(item[0], item[1])"
   ]
  },
  {
   "cell_type": "code",
   "execution_count": 82,
   "metadata": {},
   "outputs": [
    {
     "name": "stdout",
     "output_type": "stream",
     "text": [
      "ada 29 huruf a di dalam message diatas\n"
     ]
    }
   ],
   "source": [
    "# string\n",
    "message = \"Lorem Ipsum is simply dummy text of the printing and typesetting industry. Lorem Ipsum has been the industry's standard dummy text ever since the 1500s, when an unknown printer took a galley of type and scrambled it to make a type specimen book. It has survived not only five centuries, but also the leap into electronic typesetting, remaining essentially unchanged. It was popularised in the 1960s with the release of Letraset sheets containing Lorem Ipsum passages, and more recently with desktop publishing software like Aldus PageMaker including versions of Lorem Ipsum.\"\n",
    "\n",
    "# ada berapa huruf \"A\" atau \"a\" di dalam message diatas?\n",
    "count = 0\n",
    "for item in message:\n",
    "    if(item.lower() == \"a\"):\n",
    "        count = count + 1\n",
    "\n",
    "print(\"ada \" + str(count) + \" huruf a di dalam message diatas\")"
   ]
  },
  {
   "cell_type": "code",
   "execution_count": 80,
   "metadata": {},
   "outputs": [
    {
     "data": {
      "text/plain": [
       "True"
      ]
     },
     "execution_count": 80,
     "metadata": {},
     "output_type": "execute_result"
    }
   ],
   "source": [
    "\"A\" in message"
   ]
  },
  {
   "attachments": {},
   "cell_type": "markdown",
   "metadata": {},
   "source": [
    "## range\n",
    "function buatan python\n",
    "\n",
    "bisa membuat koleksi angka urut dengan cepat\n",
    "\n",
    "ada 3 hal yang bisa kita atur dengan range, yaitu:\n",
    "- mulai dari angka berapa (start)\n",
    "- berakhir di angka berapa (end) (angka terakhir tidak termasuk dari koleksi nya)\n",
    "- untuk setiap angka berikut, nambah/kurang berapa? (step)\n",
    "\n",
    "```python\n",
    "range(5,17,3)\n",
    "```\n",
    "start 5, step 3, end 17:\n",
    "\n",
    "5 8 11 14"
   ]
  },
  {
   "cell_type": "code",
   "execution_count": 86,
   "metadata": {},
   "outputs": [
    {
     "name": "stdout",
     "output_type": "stream",
     "text": [
      "5\n",
      "8\n",
      "11\n",
      "14\n",
      "17\n"
     ]
    }
   ],
   "source": [
    "for angka in range(5,18,3):\n",
    "    print(angka)"
   ]
  },
  {
   "cell_type": "code",
   "execution_count": 87,
   "metadata": {},
   "outputs": [
    {
     "name": "stdout",
     "output_type": "stream",
     "text": [
      "0\n",
      "1\n",
      "2\n",
      "3\n",
      "4\n"
     ]
    }
   ],
   "source": [
    "# mulai dari 0, step 1\n",
    "for angka in range(5):\n",
    "    print(angka)"
   ]
  },
  {
   "cell_type": "code",
   "execution_count": 89,
   "metadata": {},
   "outputs": [
    {
     "name": "stdout",
     "output_type": "stream",
     "text": [
      "5\n",
      "6\n",
      "7\n",
      "8\n",
      "9\n",
      "10\n",
      "11\n",
      "12\n",
      "13\n",
      "14\n",
      "15\n",
      "16\n",
      "17\n"
     ]
    }
   ],
   "source": [
    "# mulai dari 5, berakhir di 18 (18 tidak termasuk), step 1\n",
    "for angka in range(5,18):\n",
    "    print(angka)"
   ]
  },
  {
   "cell_type": "code",
   "execution_count": 90,
   "metadata": {},
   "outputs": [
    {
     "name": "stdout",
     "output_type": "stream",
     "text": [
      "5\n",
      "8\n",
      "11\n",
      "14\n",
      "17\n"
     ]
    }
   ],
   "source": [
    "# mulai dari 5, berakhir di 18 (18 tidak termasuk), step 3\n",
    "for angka in range(5,18,3):\n",
    "    print(angka)"
   ]
  },
  {
   "cell_type": "code",
   "execution_count": 91,
   "metadata": {},
   "outputs": [
    {
     "name": "stdout",
     "output_type": "stream",
     "text": [
      "50\n",
      "25\n",
      "0\n",
      "-25\n"
     ]
    }
   ],
   "source": [
    "# hitung mundur juga bisa\n",
    "for angka in range(50,-50,-25):\n",
    "    print(angka)"
   ]
  },
  {
   "cell_type": "code",
   "execution_count": 95,
   "metadata": {},
   "outputs": [
    {
     "name": "stdout",
     "output_type": "stream",
     "text": [
      "170\n"
     ]
    }
   ],
   "source": [
    "# soal pendek\n",
    "# diberikan sebuah limit, antara angka 0 sampai 1000\n",
    "# coba cari ada berapa angka prima\n",
    "# Bilangan prima adalah bilangan asli lebih dari 1 yang bukan hasilkali dari dua bilangan asli yang lebih kecil\n",
    "\n",
    "# kita ikuti limit 0 sampai 1000\n",
    "count = 0\n",
    "for angka in range(1001):\n",
    "    # print(angka)\n",
    "\n",
    "    # if (\"angka adalah prima\"):\n",
    "    #     count = count + 1\n",
    "\n",
    "    # untuk semua bilangan lebih kecil\n",
    "    adalahprima = True\n",
    "    for angkalebihkecil in range(angka):\n",
    "        if (angkalebihkecil <= 1):\n",
    "            continue\n",
    "        # angkalebihkecil adalah 2 sampai ke angka - 1\n",
    "\n",
    "        # apakah angka habis dibagi dengan angkalebihkecil\n",
    "        if (angka % angkalebihkecil == 0):\n",
    "            # bukan angka prima\n",
    "            adalahprima = False\n",
    "\n",
    "    # kita sudah cek semua angka dari 2 sampai angka - 1, kalau tidak ada yang berhasil habis terbagi, berarti angka adalah prima\n",
    "    \n",
    "    if (adalahprima):\n",
    "        count = count + 1\n",
    "\n",
    "print(count)\n"
   ]
  },
  {
   "cell_type": "code",
   "execution_count": null,
   "metadata": {},
   "outputs": [],
   "source": [
    "# baru ke mengulang materi sesi 1/2 kalau mau atau preview sesi 3"
   ]
  },
  {
   "cell_type": "code",
   "execution_count": null,
   "metadata": {},
   "outputs": [],
   "source": [
    "# dua cara untuk buat angka urut 0 sampai 10:\n",
    "angka_urut = (0,1,2,3,4,5,6,7,8,9,10)\n",
    "\n",
    "range(11)"
   ]
  },
  {
   "cell_type": "code",
   "execution_count": 99,
   "metadata": {},
   "outputs": [
    {
     "name": "stdout",
     "output_type": "stream",
     "text": [
      "0\n",
      "1\n",
      "2\n",
      "3\n",
      "4\n",
      "5\n",
      "6\n",
      "7\n",
      "8\n",
      "9\n",
      "10\n"
     ]
    }
   ],
   "source": [
    "for i in range(11):\n",
    "    print(i)"
   ]
  },
  {
   "cell_type": "code",
   "execution_count": null,
   "metadata": {},
   "outputs": [],
   "source": [
    "# angka urut dari 1 sampai 1000\n",
    "# angka_urut = (1,2,3,4,5,6,7)\n",
    "\n",
    "range(1,1001)\n",
    "# angka terakhir di range tidak termasuk, jadi kita lebihin 1"
   ]
  },
  {
   "cell_type": "code",
   "execution_count": 100,
   "metadata": {},
   "outputs": [
    {
     "name": "stdout",
     "output_type": "stream",
     "text": [
      "1\n",
      "2\n",
      "3\n",
      "4\n",
      "5\n",
      "6\n",
      "7\n",
      "8\n",
      "9\n",
      "10\n",
      "11\n",
      "12\n",
      "13\n",
      "14\n",
      "15\n",
      "16\n",
      "17\n",
      "18\n",
      "19\n",
      "20\n",
      "21\n",
      "22\n",
      "23\n",
      "24\n",
      "25\n",
      "26\n",
      "27\n",
      "28\n",
      "29\n",
      "30\n",
      "31\n",
      "32\n",
      "33\n",
      "34\n",
      "35\n",
      "36\n",
      "37\n",
      "38\n",
      "39\n",
      "40\n",
      "41\n",
      "42\n",
      "43\n",
      "44\n",
      "45\n",
      "46\n",
      "47\n",
      "48\n",
      "49\n",
      "50\n",
      "51\n",
      "52\n",
      "53\n",
      "54\n",
      "55\n",
      "56\n",
      "57\n",
      "58\n",
      "59\n",
      "60\n",
      "61\n",
      "62\n",
      "63\n",
      "64\n",
      "65\n",
      "66\n",
      "67\n",
      "68\n",
      "69\n",
      "70\n",
      "71\n",
      "72\n",
      "73\n",
      "74\n",
      "75\n",
      "76\n",
      "77\n",
      "78\n",
      "79\n",
      "80\n",
      "81\n",
      "82\n",
      "83\n",
      "84\n",
      "85\n",
      "86\n",
      "87\n",
      "88\n",
      "89\n",
      "90\n",
      "91\n",
      "92\n",
      "93\n",
      "94\n",
      "95\n",
      "96\n",
      "97\n",
      "98\n",
      "99\n",
      "100\n",
      "101\n",
      "102\n",
      "103\n",
      "104\n",
      "105\n",
      "106\n",
      "107\n",
      "108\n",
      "109\n",
      "110\n",
      "111\n",
      "112\n",
      "113\n",
      "114\n",
      "115\n",
      "116\n",
      "117\n",
      "118\n",
      "119\n",
      "120\n",
      "121\n",
      "122\n",
      "123\n",
      "124\n",
      "125\n",
      "126\n",
      "127\n",
      "128\n",
      "129\n",
      "130\n",
      "131\n",
      "132\n",
      "133\n",
      "134\n",
      "135\n",
      "136\n",
      "137\n",
      "138\n",
      "139\n",
      "140\n",
      "141\n",
      "142\n",
      "143\n",
      "144\n",
      "145\n",
      "146\n",
      "147\n",
      "148\n",
      "149\n",
      "150\n",
      "151\n",
      "152\n",
      "153\n",
      "154\n",
      "155\n",
      "156\n",
      "157\n",
      "158\n",
      "159\n",
      "160\n",
      "161\n",
      "162\n",
      "163\n",
      "164\n",
      "165\n",
      "166\n",
      "167\n",
      "168\n",
      "169\n",
      "170\n",
      "171\n",
      "172\n",
      "173\n",
      "174\n",
      "175\n",
      "176\n",
      "177\n",
      "178\n",
      "179\n",
      "180\n",
      "181\n",
      "182\n",
      "183\n",
      "184\n",
      "185\n",
      "186\n",
      "187\n",
      "188\n",
      "189\n",
      "190\n",
      "191\n",
      "192\n",
      "193\n",
      "194\n",
      "195\n",
      "196\n",
      "197\n",
      "198\n",
      "199\n",
      "200\n",
      "201\n",
      "202\n",
      "203\n",
      "204\n",
      "205\n",
      "206\n",
      "207\n",
      "208\n",
      "209\n",
      "210\n",
      "211\n",
      "212\n",
      "213\n",
      "214\n",
      "215\n",
      "216\n",
      "217\n",
      "218\n",
      "219\n",
      "220\n",
      "221\n",
      "222\n",
      "223\n",
      "224\n",
      "225\n",
      "226\n",
      "227\n",
      "228\n",
      "229\n",
      "230\n",
      "231\n",
      "232\n",
      "233\n",
      "234\n",
      "235\n",
      "236\n",
      "237\n",
      "238\n",
      "239\n",
      "240\n",
      "241\n",
      "242\n",
      "243\n",
      "244\n",
      "245\n",
      "246\n",
      "247\n",
      "248\n",
      "249\n",
      "250\n",
      "251\n",
      "252\n",
      "253\n",
      "254\n",
      "255\n",
      "256\n",
      "257\n",
      "258\n",
      "259\n",
      "260\n",
      "261\n",
      "262\n",
      "263\n",
      "264\n",
      "265\n",
      "266\n",
      "267\n",
      "268\n",
      "269\n",
      "270\n",
      "271\n",
      "272\n",
      "273\n",
      "274\n",
      "275\n",
      "276\n",
      "277\n",
      "278\n",
      "279\n",
      "280\n",
      "281\n",
      "282\n",
      "283\n",
      "284\n",
      "285\n",
      "286\n",
      "287\n",
      "288\n",
      "289\n",
      "290\n",
      "291\n",
      "292\n",
      "293\n",
      "294\n",
      "295\n",
      "296\n",
      "297\n",
      "298\n",
      "299\n",
      "300\n",
      "301\n",
      "302\n",
      "303\n",
      "304\n",
      "305\n",
      "306\n",
      "307\n",
      "308\n",
      "309\n",
      "310\n",
      "311\n",
      "312\n",
      "313\n",
      "314\n",
      "315\n",
      "316\n",
      "317\n",
      "318\n",
      "319\n",
      "320\n",
      "321\n",
      "322\n",
      "323\n",
      "324\n",
      "325\n",
      "326\n",
      "327\n",
      "328\n",
      "329\n",
      "330\n",
      "331\n",
      "332\n",
      "333\n",
      "334\n",
      "335\n",
      "336\n",
      "337\n",
      "338\n",
      "339\n",
      "340\n",
      "341\n",
      "342\n",
      "343\n",
      "344\n",
      "345\n",
      "346\n",
      "347\n",
      "348\n",
      "349\n",
      "350\n",
      "351\n",
      "352\n",
      "353\n",
      "354\n",
      "355\n",
      "356\n",
      "357\n",
      "358\n",
      "359\n",
      "360\n",
      "361\n",
      "362\n",
      "363\n",
      "364\n",
      "365\n",
      "366\n",
      "367\n",
      "368\n",
      "369\n",
      "370\n",
      "371\n",
      "372\n",
      "373\n",
      "374\n",
      "375\n",
      "376\n",
      "377\n",
      "378\n",
      "379\n",
      "380\n",
      "381\n",
      "382\n",
      "383\n",
      "384\n",
      "385\n",
      "386\n",
      "387\n",
      "388\n",
      "389\n",
      "390\n",
      "391\n",
      "392\n",
      "393\n",
      "394\n",
      "395\n",
      "396\n",
      "397\n",
      "398\n",
      "399\n",
      "400\n",
      "401\n",
      "402\n",
      "403\n",
      "404\n",
      "405\n",
      "406\n",
      "407\n",
      "408\n",
      "409\n",
      "410\n",
      "411\n",
      "412\n",
      "413\n",
      "414\n",
      "415\n",
      "416\n",
      "417\n",
      "418\n",
      "419\n",
      "420\n",
      "421\n",
      "422\n",
      "423\n",
      "424\n",
      "425\n",
      "426\n",
      "427\n",
      "428\n",
      "429\n",
      "430\n",
      "431\n",
      "432\n",
      "433\n",
      "434\n",
      "435\n",
      "436\n",
      "437\n",
      "438\n",
      "439\n",
      "440\n",
      "441\n",
      "442\n",
      "443\n",
      "444\n",
      "445\n",
      "446\n",
      "447\n",
      "448\n",
      "449\n",
      "450\n",
      "451\n",
      "452\n",
      "453\n",
      "454\n",
      "455\n",
      "456\n",
      "457\n",
      "458\n",
      "459\n",
      "460\n",
      "461\n",
      "462\n",
      "463\n",
      "464\n",
      "465\n",
      "466\n",
      "467\n",
      "468\n",
      "469\n",
      "470\n",
      "471\n",
      "472\n",
      "473\n",
      "474\n",
      "475\n",
      "476\n",
      "477\n",
      "478\n",
      "479\n",
      "480\n",
      "481\n",
      "482\n",
      "483\n",
      "484\n",
      "485\n",
      "486\n",
      "487\n",
      "488\n",
      "489\n",
      "490\n",
      "491\n",
      "492\n",
      "493\n",
      "494\n",
      "495\n",
      "496\n",
      "497\n",
      "498\n",
      "499\n",
      "500\n",
      "501\n",
      "502\n",
      "503\n",
      "504\n",
      "505\n",
      "506\n",
      "507\n",
      "508\n",
      "509\n",
      "510\n",
      "511\n",
      "512\n",
      "513\n",
      "514\n",
      "515\n",
      "516\n",
      "517\n",
      "518\n",
      "519\n",
      "520\n",
      "521\n",
      "522\n",
      "523\n",
      "524\n",
      "525\n",
      "526\n",
      "527\n",
      "528\n",
      "529\n",
      "530\n",
      "531\n",
      "532\n",
      "533\n",
      "534\n",
      "535\n",
      "536\n",
      "537\n",
      "538\n",
      "539\n",
      "540\n",
      "541\n",
      "542\n",
      "543\n",
      "544\n",
      "545\n",
      "546\n",
      "547\n",
      "548\n",
      "549\n",
      "550\n",
      "551\n",
      "552\n",
      "553\n",
      "554\n",
      "555\n",
      "556\n",
      "557\n",
      "558\n",
      "559\n",
      "560\n",
      "561\n",
      "562\n",
      "563\n",
      "564\n",
      "565\n",
      "566\n",
      "567\n",
      "568\n",
      "569\n",
      "570\n",
      "571\n",
      "572\n",
      "573\n",
      "574\n",
      "575\n",
      "576\n",
      "577\n",
      "578\n",
      "579\n",
      "580\n",
      "581\n",
      "582\n",
      "583\n",
      "584\n",
      "585\n",
      "586\n",
      "587\n",
      "588\n",
      "589\n",
      "590\n",
      "591\n",
      "592\n",
      "593\n",
      "594\n",
      "595\n",
      "596\n",
      "597\n",
      "598\n",
      "599\n",
      "600\n",
      "601\n",
      "602\n",
      "603\n",
      "604\n",
      "605\n",
      "606\n",
      "607\n",
      "608\n",
      "609\n",
      "610\n",
      "611\n",
      "612\n",
      "613\n",
      "614\n",
      "615\n",
      "616\n",
      "617\n",
      "618\n",
      "619\n",
      "620\n",
      "621\n",
      "622\n",
      "623\n",
      "624\n",
      "625\n",
      "626\n",
      "627\n",
      "628\n",
      "629\n",
      "630\n",
      "631\n",
      "632\n",
      "633\n",
      "634\n",
      "635\n",
      "636\n",
      "637\n",
      "638\n",
      "639\n",
      "640\n",
      "641\n",
      "642\n",
      "643\n",
      "644\n",
      "645\n",
      "646\n",
      "647\n",
      "648\n",
      "649\n",
      "650\n",
      "651\n",
      "652\n",
      "653\n",
      "654\n",
      "655\n",
      "656\n",
      "657\n",
      "658\n",
      "659\n",
      "660\n",
      "661\n",
      "662\n",
      "663\n",
      "664\n",
      "665\n",
      "666\n",
      "667\n",
      "668\n",
      "669\n",
      "670\n",
      "671\n",
      "672\n",
      "673\n",
      "674\n",
      "675\n",
      "676\n",
      "677\n",
      "678\n",
      "679\n",
      "680\n",
      "681\n",
      "682\n",
      "683\n",
      "684\n",
      "685\n",
      "686\n",
      "687\n",
      "688\n",
      "689\n",
      "690\n",
      "691\n",
      "692\n",
      "693\n",
      "694\n",
      "695\n",
      "696\n",
      "697\n",
      "698\n",
      "699\n",
      "700\n",
      "701\n",
      "702\n",
      "703\n",
      "704\n",
      "705\n",
      "706\n",
      "707\n",
      "708\n",
      "709\n",
      "710\n",
      "711\n",
      "712\n",
      "713\n",
      "714\n",
      "715\n",
      "716\n",
      "717\n",
      "718\n",
      "719\n",
      "720\n",
      "721\n",
      "722\n",
      "723\n",
      "724\n",
      "725\n",
      "726\n",
      "727\n",
      "728\n",
      "729\n",
      "730\n",
      "731\n",
      "732\n",
      "733\n",
      "734\n",
      "735\n",
      "736\n",
      "737\n",
      "738\n",
      "739\n",
      "740\n",
      "741\n",
      "742\n",
      "743\n",
      "744\n",
      "745\n",
      "746\n",
      "747\n",
      "748\n",
      "749\n",
      "750\n",
      "751\n",
      "752\n",
      "753\n",
      "754\n",
      "755\n",
      "756\n",
      "757\n",
      "758\n",
      "759\n",
      "760\n",
      "761\n",
      "762\n",
      "763\n",
      "764\n",
      "765\n",
      "766\n",
      "767\n",
      "768\n",
      "769\n",
      "770\n",
      "771\n",
      "772\n",
      "773\n",
      "774\n",
      "775\n",
      "776\n",
      "777\n",
      "778\n",
      "779\n",
      "780\n",
      "781\n",
      "782\n",
      "783\n",
      "784\n",
      "785\n",
      "786\n",
      "787\n",
      "788\n",
      "789\n",
      "790\n",
      "791\n",
      "792\n",
      "793\n",
      "794\n",
      "795\n",
      "796\n",
      "797\n",
      "798\n",
      "799\n",
      "800\n",
      "801\n",
      "802\n",
      "803\n",
      "804\n",
      "805\n",
      "806\n",
      "807\n",
      "808\n",
      "809\n",
      "810\n",
      "811\n",
      "812\n",
      "813\n",
      "814\n",
      "815\n",
      "816\n",
      "817\n",
      "818\n",
      "819\n",
      "820\n",
      "821\n",
      "822\n",
      "823\n",
      "824\n",
      "825\n",
      "826\n",
      "827\n",
      "828\n",
      "829\n",
      "830\n",
      "831\n",
      "832\n",
      "833\n",
      "834\n",
      "835\n",
      "836\n",
      "837\n",
      "838\n",
      "839\n",
      "840\n",
      "841\n",
      "842\n",
      "843\n",
      "844\n",
      "845\n",
      "846\n",
      "847\n",
      "848\n",
      "849\n",
      "850\n",
      "851\n",
      "852\n",
      "853\n",
      "854\n",
      "855\n",
      "856\n",
      "857\n",
      "858\n",
      "859\n",
      "860\n",
      "861\n",
      "862\n",
      "863\n",
      "864\n",
      "865\n",
      "866\n",
      "867\n",
      "868\n",
      "869\n",
      "870\n",
      "871\n",
      "872\n",
      "873\n",
      "874\n",
      "875\n",
      "876\n",
      "877\n",
      "878\n",
      "879\n",
      "880\n",
      "881\n",
      "882\n",
      "883\n",
      "884\n",
      "885\n",
      "886\n",
      "887\n",
      "888\n",
      "889\n",
      "890\n",
      "891\n",
      "892\n",
      "893\n",
      "894\n",
      "895\n",
      "896\n",
      "897\n",
      "898\n",
      "899\n",
      "900\n",
      "901\n",
      "902\n",
      "903\n",
      "904\n",
      "905\n",
      "906\n",
      "907\n",
      "908\n",
      "909\n",
      "910\n",
      "911\n",
      "912\n",
      "913\n",
      "914\n",
      "915\n",
      "916\n",
      "917\n",
      "918\n",
      "919\n",
      "920\n",
      "921\n",
      "922\n",
      "923\n",
      "924\n",
      "925\n",
      "926\n",
      "927\n",
      "928\n",
      "929\n",
      "930\n",
      "931\n",
      "932\n",
      "933\n",
      "934\n",
      "935\n",
      "936\n",
      "937\n",
      "938\n",
      "939\n",
      "940\n",
      "941\n",
      "942\n",
      "943\n",
      "944\n",
      "945\n",
      "946\n",
      "947\n",
      "948\n",
      "949\n",
      "950\n",
      "951\n",
      "952\n",
      "953\n",
      "954\n",
      "955\n",
      "956\n",
      "957\n",
      "958\n",
      "959\n",
      "960\n",
      "961\n",
      "962\n",
      "963\n",
      "964\n",
      "965\n",
      "966\n",
      "967\n",
      "968\n",
      "969\n",
      "970\n",
      "971\n",
      "972\n",
      "973\n",
      "974\n",
      "975\n",
      "976\n",
      "977\n",
      "978\n",
      "979\n",
      "980\n",
      "981\n",
      "982\n",
      "983\n",
      "984\n",
      "985\n",
      "986\n",
      "987\n",
      "988\n",
      "989\n",
      "990\n",
      "991\n",
      "992\n",
      "993\n",
      "994\n",
      "995\n",
      "996\n",
      "997\n",
      "998\n",
      "999\n",
      "1000\n"
     ]
    }
   ],
   "source": [
    "for i in range(1,1001):\n",
    "    print(i)"
   ]
  },
  {
   "cell_type": "code",
   "execution_count": 96,
   "metadata": {},
   "outputs": [
    {
     "data": {
      "text/plain": [
       "range(5, 501, 20)"
      ]
     },
     "execution_count": 96,
     "metadata": {},
     "output_type": "execute_result"
    }
   ],
   "source": [
    "# angka urut lompat2 misalnya 5 25 45 65 sampai 500\n",
    "# angka_urut = (5, 25, 45, 65)\n",
    "\n",
    "range(5, 501, 20)"
   ]
  },
  {
   "cell_type": "code",
   "execution_count": 97,
   "metadata": {},
   "outputs": [
    {
     "name": "stdout",
     "output_type": "stream",
     "text": [
      "5\n",
      "25\n",
      "45\n",
      "65\n",
      "85\n",
      "105\n",
      "125\n",
      "145\n",
      "165\n",
      "185\n",
      "205\n",
      "225\n",
      "245\n",
      "265\n",
      "285\n",
      "305\n",
      "325\n",
      "345\n",
      "365\n",
      "385\n",
      "405\n",
      "425\n",
      "445\n",
      "465\n",
      "485\n"
     ]
    }
   ],
   "source": [
    "for i in range(5,501,20):\n",
    "    print(i)"
   ]
  },
  {
   "cell_type": "code",
   "execution_count": 101,
   "metadata": {},
   "outputs": [
    {
     "name": "stdout",
     "output_type": "stream",
     "text": [
      "abc\n",
      "ghj\n",
      "foo\n"
     ]
    }
   ],
   "source": [
    "for item in [\"abc\", \"ghj\", \"foo\"]:\n",
    "    print(item)"
   ]
  },
  {
   "cell_type": "code",
   "execution_count": null,
   "metadata": {},
   "outputs": [],
   "source": []
  }
 ],
 "metadata": {
  "kernelspec": {
   "display_name": "base",
   "language": "python",
   "name": "python3"
  },
  "language_info": {
   "codemirror_mode": {
    "name": "ipython",
    "version": 3
   },
   "file_extension": ".py",
   "mimetype": "text/x-python",
   "name": "python",
   "nbconvert_exporter": "python",
   "pygments_lexer": "ipython3",
   "version": "3.9.13"
  },
  "orig_nbformat": 4,
  "vscode": {
   "interpreter": {
    "hash": "4f523f7c76dd18e7ed336217f32f6f704c23c323644912475b9d3570cf04b060"
   }
  }
 },
 "nbformat": 4,
 "nbformat_minor": 2
}
