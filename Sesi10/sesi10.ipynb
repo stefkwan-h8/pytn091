{
 "cells": [
  {
   "attachments": {},
   "cell_type": "markdown",
   "metadata": {},
   "source": [
    "# Inferential Statistics\n",
    "menggunakan statistik untuk membuat konklusi\n",
    "\n",
    "Terminologi:\n",
    "- random variable\n",
    "    - discrete\n",
    "    - continuous\n",
    "\n",
    "Konsep:\n",
    "- Probability Distribution\n",
    "- Confidence Interval\n",
    "- Hypothesis Testing"
   ]
  },
  {
   "attachments": {},
   "cell_type": "markdown",
   "metadata": {},
   "source": [
    "setiap titik data (numerik) yang kita kumpulkan/ survey/ yang ada di raw data adalah sebuah random variable. random variable artinya adalah nilai yang sifatnya acak, yang tidak kita ketahui.\n",
    "\n",
    "Ada dua jenis kategori data random numerik ini:\n",
    "- discrete, bulat, tidak ada diantara, seperti hasil lempar dadu, value hanya ada di titik tertentu\n",
    "- continuous, tidak ada batasan. bisa ada berapa banyak pun value antara dua titik. contoh: berat badan, antara yang 2 - 3kg, bisa saja ada 2.01kg 2.53kg 2.715kg tingkat desimal poin hanya terbatas oleh instrumen yang digunakan.\n",
    "\n",
    "## Probability Distribution\n",
    "sebuah probability distribution adalah\n",
    "- daftar kemungkinan masing masing value (untuk discrete random variable)\n",
    "- daftar kemungkinan satu grup value (untuk continuous random variable)"
   ]
  },
  {
   "attachments": {},
   "cell_type": "markdown",
   "metadata": {},
   "source": [
    "# Confidence Interval\n",
    "membuat estimasi dari data yang diamati, kita membuat range rata-rata bukan 1 angka rata-rata. \n",
    "\n",
    "cara hitung:\n",
    "1. Best Estimate +- Margin of Error\n",
    "\n",
    "misalkan best estimate kita adalah 10 dan margin of error adalah 2, maka confidence inverval adalah antara 8 dan 12: [8, 12]\n",
    "\n",
    "2. Best Estimate? mean, atau proportion (persentase)\n",
    "\n",
    "3. Margin of error? z * estimated standard error\n",
    "\n",
    "4. z? diatur dari tingkat keyakinan confidence interval kita, normalnya z ada di 1.96 untuk 95% keyakinan\n",
    "\n",
    "5. estimated standard error?\n",
    "    - proporsi: `np.sqrt( p * (1-p) / n )`\n",
    "    - mean: `stddev / np.sqrt(n)`\n",
    "\n",
    "6. p? --> tentukan % apa yang mau dicari, misalkan jumlah orang yang beratnya 50-60kg, ternyata ad 5 dari 12 orang yg di survey, maka p = 5/12\n",
    "7. mean? stddev? n? --> diambil langsung dari raw data"
   ]
  },
  {
   "cell_type": "code",
   "execution_count": 28,
   "metadata": {},
   "outputs": [],
   "source": [
    "# import package\n",
    "import numpy as np\n",
    "import pandas as pd\n",
    "import matplotlib.pyplot as plt\n",
    "import scipy.stats\n",
    "\n",
    "import statsmodels.api as sm"
   ]
  },
  {
   "cell_type": "code",
   "execution_count": 2,
   "metadata": {},
   "outputs": [
    {
     "name": "stdout",
     "output_type": "stream",
     "text": [
      "<class 'pandas.core.frame.DataFrame'>\n",
      "RangeIndex: 1025 entries, 0 to 1024\n",
      "Data columns (total 14 columns):\n",
      " #   Column    Non-Null Count  Dtype  \n",
      "---  ------    --------------  -----  \n",
      " 0   age       1025 non-null   int64  \n",
      " 1   sex       1025 non-null   int64  \n",
      " 2   cp        1025 non-null   int64  \n",
      " 3   trestbps  1025 non-null   int64  \n",
      " 4   chol      1025 non-null   int64  \n",
      " 5   fbs       1025 non-null   int64  \n",
      " 6   restecg   1025 non-null   int64  \n",
      " 7   thalach   1025 non-null   int64  \n",
      " 8   exang     1025 non-null   int64  \n",
      " 9   oldpeak   1025 non-null   float64\n",
      " 10  slope     1025 non-null   int64  \n",
      " 11  ca        1025 non-null   int64  \n",
      " 12  thal      1025 non-null   int64  \n",
      " 13  target    1025 non-null   int64  \n",
      "dtypes: float64(1), int64(13)\n",
      "memory usage: 112.2 KB\n"
     ]
    }
   ],
   "source": [
    "# import data\n",
    "df_heart = pd.read_csv(\"../dataset/heart.csv\")\n",
    "df_heart.info()"
   ]
  },
  {
   "cell_type": "code",
   "execution_count": 3,
   "metadata": {},
   "outputs": [
    {
     "data": {
      "text/plain": [
       "age         0\n",
       "sex         0\n",
       "cp          0\n",
       "trestbps    0\n",
       "chol        0\n",
       "fbs         0\n",
       "restecg     0\n",
       "thalach     0\n",
       "exang       0\n",
       "oldpeak     0\n",
       "slope       0\n",
       "ca          0\n",
       "thal        0\n",
       "target      0\n",
       "dtype: int64"
      ]
     },
     "execution_count": 3,
     "metadata": {},
     "output_type": "execute_result"
    }
   ],
   "source": [
    "df_heart.isnull().sum()"
   ]
  },
  {
   "cell_type": "code",
   "execution_count": 4,
   "metadata": {},
   "outputs": [
    {
     "data": {
      "text/html": [
       "<div>\n",
       "<style scoped>\n",
       "    .dataframe tbody tr th:only-of-type {\n",
       "        vertical-align: middle;\n",
       "    }\n",
       "\n",
       "    .dataframe tbody tr th {\n",
       "        vertical-align: top;\n",
       "    }\n",
       "\n",
       "    .dataframe thead th {\n",
       "        text-align: right;\n",
       "    }\n",
       "</style>\n",
       "<table border=\"1\" class=\"dataframe\">\n",
       "  <thead>\n",
       "    <tr style=\"text-align: right;\">\n",
       "      <th></th>\n",
       "      <th>age</th>\n",
       "      <th>sex</th>\n",
       "      <th>cp</th>\n",
       "      <th>trestbps</th>\n",
       "      <th>chol</th>\n",
       "      <th>fbs</th>\n",
       "      <th>restecg</th>\n",
       "      <th>thalach</th>\n",
       "      <th>exang</th>\n",
       "      <th>oldpeak</th>\n",
       "      <th>slope</th>\n",
       "      <th>ca</th>\n",
       "      <th>thal</th>\n",
       "      <th>target</th>\n",
       "    </tr>\n",
       "  </thead>\n",
       "  <tbody>\n",
       "    <tr>\n",
       "      <th>0</th>\n",
       "      <td>52</td>\n",
       "      <td>1</td>\n",
       "      <td>0</td>\n",
       "      <td>125</td>\n",
       "      <td>212</td>\n",
       "      <td>0</td>\n",
       "      <td>1</td>\n",
       "      <td>168</td>\n",
       "      <td>0</td>\n",
       "      <td>1.0</td>\n",
       "      <td>2</td>\n",
       "      <td>2</td>\n",
       "      <td>3</td>\n",
       "      <td>0</td>\n",
       "    </tr>\n",
       "    <tr>\n",
       "      <th>1</th>\n",
       "      <td>53</td>\n",
       "      <td>1</td>\n",
       "      <td>0</td>\n",
       "      <td>140</td>\n",
       "      <td>203</td>\n",
       "      <td>1</td>\n",
       "      <td>0</td>\n",
       "      <td>155</td>\n",
       "      <td>1</td>\n",
       "      <td>3.1</td>\n",
       "      <td>0</td>\n",
       "      <td>0</td>\n",
       "      <td>3</td>\n",
       "      <td>0</td>\n",
       "    </tr>\n",
       "    <tr>\n",
       "      <th>2</th>\n",
       "      <td>70</td>\n",
       "      <td>1</td>\n",
       "      <td>0</td>\n",
       "      <td>145</td>\n",
       "      <td>174</td>\n",
       "      <td>0</td>\n",
       "      <td>1</td>\n",
       "      <td>125</td>\n",
       "      <td>1</td>\n",
       "      <td>2.6</td>\n",
       "      <td>0</td>\n",
       "      <td>0</td>\n",
       "      <td>3</td>\n",
       "      <td>0</td>\n",
       "    </tr>\n",
       "    <tr>\n",
       "      <th>3</th>\n",
       "      <td>61</td>\n",
       "      <td>1</td>\n",
       "      <td>0</td>\n",
       "      <td>148</td>\n",
       "      <td>203</td>\n",
       "      <td>0</td>\n",
       "      <td>1</td>\n",
       "      <td>161</td>\n",
       "      <td>0</td>\n",
       "      <td>0.0</td>\n",
       "      <td>2</td>\n",
       "      <td>1</td>\n",
       "      <td>3</td>\n",
       "      <td>0</td>\n",
       "    </tr>\n",
       "    <tr>\n",
       "      <th>4</th>\n",
       "      <td>62</td>\n",
       "      <td>0</td>\n",
       "      <td>0</td>\n",
       "      <td>138</td>\n",
       "      <td>294</td>\n",
       "      <td>1</td>\n",
       "      <td>1</td>\n",
       "      <td>106</td>\n",
       "      <td>0</td>\n",
       "      <td>1.9</td>\n",
       "      <td>1</td>\n",
       "      <td>3</td>\n",
       "      <td>2</td>\n",
       "      <td>0</td>\n",
       "    </tr>\n",
       "  </tbody>\n",
       "</table>\n",
       "</div>"
      ],
      "text/plain": [
       "   age  sex  cp  trestbps  chol  fbs  restecg  thalach  exang  oldpeak  slope  \\\n",
       "0   52    1   0       125   212    0        1      168      0      1.0      2   \n",
       "1   53    1   0       140   203    1        0      155      1      3.1      0   \n",
       "2   70    1   0       145   174    0        1      125      1      2.6      0   \n",
       "3   61    1   0       148   203    0        1      161      0      0.0      2   \n",
       "4   62    0   0       138   294    1        1      106      0      1.9      1   \n",
       "\n",
       "   ca  thal  target  \n",
       "0   2     3       0  \n",
       "1   0     3       0  \n",
       "2   0     3       0  \n",
       "3   1     3       0  \n",
       "4   3     2       0  "
      ]
     },
     "execution_count": 4,
     "metadata": {},
     "output_type": "execute_result"
    }
   ],
   "source": [
    "df_heart.head() "
   ]
  },
  {
   "attachments": {},
   "cell_type": "markdown",
   "metadata": {},
   "source": [
    "### Buatlah Confidence Interval untuk proporsi pria yang sakit jantung\n",
    "\n",
    "di data ini, \n",
    "- kolom target artinya (0 = sehat; 1 = sakit jantung)\n",
    "- kolom sex artinya (1 = male; 0 = female)"
   ]
  },
  {
   "cell_type": "code",
   "execution_count": 5,
   "metadata": {},
   "outputs": [
    {
     "data": {
      "text/plain": [
       "1    713\n",
       "0    312\n",
       "Name: sex, dtype: int64"
      ]
     },
     "execution_count": 5,
     "metadata": {},
     "output_type": "execute_result"
    }
   ],
   "source": [
    "df_heart[\"sex\"].value_counts()"
   ]
  },
  {
   "attachments": {},
   "cell_type": "markdown",
   "metadata": {},
   "source": [
    "ada 713 pria. dari 713 pria ada berapa yang sakit jantung (target = 1)?"
   ]
  },
  {
   "cell_type": "code",
   "execution_count": 7,
   "metadata": {},
   "outputs": [
    {
     "name": "stdout",
     "output_type": "stream",
     "text": [
      "713 300\n"
     ]
    }
   ],
   "source": [
    "df_heart_pria = df_heart[df_heart[\"sex\"] == 1]\n",
    "df_heart_pria_sakit = df_heart_pria[df_heart_pria[\"target\"] == 1]\n",
    "\n",
    "print(len(df_heart_pria), len(df_heart_pria_sakit))"
   ]
  },
  {
   "attachments": {},
   "cell_type": "markdown",
   "metadata": {},
   "source": [
    "dari 713 pria ada 300 yang sakit jantung"
   ]
  },
  {
   "cell_type": "code",
   "execution_count": 8,
   "metadata": {},
   "outputs": [
    {
     "name": "stdout",
     "output_type": "stream",
     "text": [
      "[0.3845199298886166, 0.45699479661909725]\n"
     ]
    }
   ],
   "source": [
    "n = 713\n",
    "p = 300 / 713\n",
    "\n",
    "se = np.sqrt( p * (1-p) / n )\n",
    "\n",
    "z = 1.96\n",
    "\n",
    "me = z * se\n",
    "\n",
    "be = p\n",
    "\n",
    "print([be - me, be + me])"
   ]
  },
  {
   "attachments": {},
   "cell_type": "markdown",
   "metadata": {},
   "source": [
    "38 - 46 % pria mengidap sakit jantung"
   ]
  },
  {
   "attachments": {},
   "cell_type": "markdown",
   "metadata": {},
   "source": [
    "### coba cari Confidence Interval untuk para wanita yang sehat"
   ]
  },
  {
   "cell_type": "code",
   "execution_count": 12,
   "metadata": {},
   "outputs": [
    {
     "name": "stdout",
     "output_type": "stream",
     "text": [
      "[0.22605861640768202, 0.32522343487436933]\n"
     ]
    }
   ],
   "source": [
    "df_wanita = df_heart[df_heart[\"sex\"] == 0]\n",
    "df_wanita_sehat = df_wanita[df_wanita[\"target\"] == 0]\n",
    "\n",
    "n = len(df_wanita)\n",
    "p = len(df_wanita_sehat) / n\n",
    "\n",
    "se = np.sqrt( p * (1-p) / n )\n",
    "z = 1.96\n",
    "me = z * se\n",
    "be = p\n",
    "\n",
    "print([be - me, be + me])"
   ]
  },
  {
   "attachments": {},
   "cell_type": "markdown",
   "metadata": {},
   "source": [
    "22.6 - 32.5 % wanita sehat tanpa penyakit jantung"
   ]
  },
  {
   "attachments": {},
   "cell_type": "markdown",
   "metadata": {},
   "source": [
    "## Confidence Interval untuk Mean\n",
    "- coba cari rata2 kolesterol untuk orang yang punya penyakit jantung\n",
    "- coba cari rata2 kolesterol untuk orang yang TIDAK punya penyakit jantung"
   ]
  },
  {
   "cell_type": "code",
   "execution_count": 23,
   "metadata": {},
   "outputs": [
    {
     "name": "stdout",
     "output_type": "stream",
     "text": [
      "240.97908745247148 53.010345260991095 526\n",
      "236.4488201044286 245.50935480051436\n"
     ]
    }
   ],
   "source": [
    "df_sakit = df_heart[df_heart[\"target\"] == 1]\n",
    "\n",
    "mean = df_sakit[\"chol\"].mean()\n",
    "stddev = df_sakit[\"chol\"].std()\n",
    "n = len(df_sakit)\n",
    "\n",
    "print(mean, stddev, n)\n",
    "\n",
    "se = stddev / np.sqrt(n)\n",
    "z = 1.96\n",
    "me = z * se\n",
    "be = mean\n",
    "\n",
    "print(be - me, be + me)"
   ]
  },
  {
   "attachments": {},
   "cell_type": "markdown",
   "metadata": {},
   "source": [
    "rata2 kolesterol orang yang punya penyakit jantung ada di 236 - 246"
   ]
  },
  {
   "cell_type": "code",
   "execution_count": 24,
   "metadata": {},
   "outputs": [
    {
     "name": "stdout",
     "output_type": "stream",
     "text": [
      "251.2925851703407 49.55892364429828 499\n",
      "246.9442034235395 255.64096691714187\n"
     ]
    }
   ],
   "source": [
    "# cari confidence interval untuk rata rata tingkat kolesterol orang yang TIDAK punya penyakit\n",
    "df_sehat = df_heart[df_heart[\"target\"] == 0]\n",
    "\n",
    "mean = df_sehat[\"chol\"].mean()\n",
    "stddev = df_sehat[\"chol\"].std()\n",
    "n = len(df_sehat)\n",
    "\n",
    "print(mean, stddev, n)\n",
    "\n",
    "se = stddev / np.sqrt(n)\n",
    "z = 1.96\n",
    "me = z * se\n",
    "be = mean\n",
    "\n",
    "print(be - me, be + me)"
   ]
  },
  {
   "attachments": {},
   "cell_type": "markdown",
   "metadata": {},
   "source": [
    "rata2 kolesterol orang yang TIDAK punya penyakit jantung ada di 247-256"
   ]
  },
  {
   "attachments": {},
   "cell_type": "markdown",
   "metadata": {},
   "source": [
    "# Hypothesis Testing\n",
    "teknik untuk membuat sebuah pendapat dari data. Setelah pendapat itu dibuat, kita berikan nama \"Alternate Hypothesis H1\" lalu kita buat statement yang menentang pendapat tersebut dan diberi nama \"Null Hypothesis H0\" sebagai asumsi awal. Kita kemudian mencari p-value untuk menunjukkan jika Null Hypothesis itu kita REJECT atau tidak.\n",
    "\n",
    "- one population proportion\n",
    "    - punya 1 set data\n",
    "    - dibandingkan dengan 1 proporsi\n",
    "\n",
    "- two population means\n",
    "    - punya 2 set data\n",
    "    - membandingkan rata2 dari kedua set data tersebut\n",
    "\n",
    "setelah mendapat p-value, kita bandingkan p-value dengan error rate kita. dengan tingkat keyakinan di 95% artinya error rate kita 5%, alpha = 0.05.\n",
    "\n",
    "jika p-value < alpha maka kita REJECT null hypothesis\n",
    "\n",
    "jika p-value >= alpha, maka kita FAIL TO REJECT null hypothesis"
   ]
  },
  {
   "cell_type": "code",
   "execution_count": 27,
   "metadata": {},
   "outputs": [],
   "source": [
    "import statsmodels.api as sm"
   ]
  },
  {
   "attachments": {},
   "cell_type": "markdown",
   "metadata": {},
   "source": [
    "dulu 52% orangtua percaya x. sekarang lebih banyak, iya tidak?\n",
    "\n",
    "- H0: p <= 0.52 (tidak, sekarang sama saja jumlah orang yg percaya atau bahkan lebih sedikit)\n",
    "- H1: p > 0.52  (iya sekarang lebih banyak yang percaya)\n",
    "\n",
    "data yang kita punya, survei membuktikan: 1018 orangtua, 56% percaya x."
   ]
  },
  {
   "cell_type": "code",
   "execution_count": 31,
   "metadata": {},
   "outputs": [
    {
     "name": "stdout",
     "output_type": "stream",
     "text": [
      "p-value 0.005069273865860533\n",
      "REJECT null hypothesis H0\n"
     ]
    }
   ],
   "source": [
    "n = 1018\n",
    "pnull = 0.52\n",
    "phat = 0.56\n",
    "\n",
    "zstat, pvalue = sm.stats.proportions_ztest(phat * n, n, pnull, alternative='larger')\n",
    "\n",
    "alpha = 0.05 # 95% yakin berarti 5% error rate\n",
    "\n",
    "print(\"p-value\", pvalue)\n",
    "if (pvalue < alpha):\n",
    "    print(\"REJECT null hypothesis H0\")\n",
    "else:\n",
    "    print(\"FAIL TO REJECT null hypothesis H0\")"
   ]
  },
  {
   "attachments": {},
   "cell_type": "markdown",
   "metadata": {},
   "source": [
    "karena kita berhasil REJECT null hypothesis, maka kita bisa bilang kalau iya, sekarang lebih banyak orangtua yang percaya x. Ada perbedaan signifikan antara proporsi orangtua yang percaya x dulu dengan sekarang."
   ]
  },
  {
   "attachments": {},
   "cell_type": "markdown",
   "metadata": {},
   "source": [
    "Note: untuk pilihan alternative ada smaller, two-sided, dan larger. \n",
    "- `smaller` adalah saat H1 mau membuktikan sekarang lebih kecil. \n",
    "- `two-sided` adalah kalau H1 mau membuktikan sekarang dan dulu berbeda. \n",
    "- terakhir `larger` adalah saat H1 mau membuktikan sekarang lebih besar.\n",
    "\n",
    "link ke dokumentasi untuk statsmodels proportions_ztest https://www.statsmodels.org/dev/generated/statsmodels.stats.proportion.proportions_ztest.html"
   ]
  },
  {
   "attachments": {},
   "cell_type": "markdown",
   "metadata": {},
   "source": [
    "### Difference in Population Means\n",
    "perbedaan rata-rata antara dua set data\n",
    "\n",
    "contoh kali ini akan menggunakan data NHANES dari https://raw.githubusercontent.com/ardhiraka/PFDS_sources/master/nhanes_2015_2016.csv tentang survey kesehatan orang Amerika"
   ]
  },
  {
   "cell_type": "code",
   "execution_count": 32,
   "metadata": {},
   "outputs": [
    {
     "data": {
      "text/html": [
       "<div>\n",
       "<style scoped>\n",
       "    .dataframe tbody tr th:only-of-type {\n",
       "        vertical-align: middle;\n",
       "    }\n",
       "\n",
       "    .dataframe tbody tr th {\n",
       "        vertical-align: top;\n",
       "    }\n",
       "\n",
       "    .dataframe thead th {\n",
       "        text-align: right;\n",
       "    }\n",
       "</style>\n",
       "<table border=\"1\" class=\"dataframe\">\n",
       "  <thead>\n",
       "    <tr style=\"text-align: right;\">\n",
       "      <th></th>\n",
       "      <th>SEQN</th>\n",
       "      <th>ALQ101</th>\n",
       "      <th>ALQ110</th>\n",
       "      <th>ALQ130</th>\n",
       "      <th>SMQ020</th>\n",
       "      <th>RIAGENDR</th>\n",
       "      <th>RIDAGEYR</th>\n",
       "      <th>RIDRETH1</th>\n",
       "      <th>DMDCITZN</th>\n",
       "      <th>DMDEDUC2</th>\n",
       "      <th>...</th>\n",
       "      <th>BPXSY2</th>\n",
       "      <th>BPXDI2</th>\n",
       "      <th>BMXWT</th>\n",
       "      <th>BMXHT</th>\n",
       "      <th>BMXBMI</th>\n",
       "      <th>BMXLEG</th>\n",
       "      <th>BMXARML</th>\n",
       "      <th>BMXARMC</th>\n",
       "      <th>BMXWAIST</th>\n",
       "      <th>HIQ210</th>\n",
       "    </tr>\n",
       "  </thead>\n",
       "  <tbody>\n",
       "    <tr>\n",
       "      <th>0</th>\n",
       "      <td>83732</td>\n",
       "      <td>1.0</td>\n",
       "      <td>NaN</td>\n",
       "      <td>1.0</td>\n",
       "      <td>1</td>\n",
       "      <td>1</td>\n",
       "      <td>62</td>\n",
       "      <td>3</td>\n",
       "      <td>1.0</td>\n",
       "      <td>5.0</td>\n",
       "      <td>...</td>\n",
       "      <td>124.0</td>\n",
       "      <td>64.0</td>\n",
       "      <td>94.8</td>\n",
       "      <td>184.5</td>\n",
       "      <td>27.8</td>\n",
       "      <td>43.3</td>\n",
       "      <td>43.6</td>\n",
       "      <td>35.9</td>\n",
       "      <td>101.1</td>\n",
       "      <td>2.0</td>\n",
       "    </tr>\n",
       "    <tr>\n",
       "      <th>1</th>\n",
       "      <td>83733</td>\n",
       "      <td>1.0</td>\n",
       "      <td>NaN</td>\n",
       "      <td>6.0</td>\n",
       "      <td>1</td>\n",
       "      <td>1</td>\n",
       "      <td>53</td>\n",
       "      <td>3</td>\n",
       "      <td>2.0</td>\n",
       "      <td>3.0</td>\n",
       "      <td>...</td>\n",
       "      <td>140.0</td>\n",
       "      <td>88.0</td>\n",
       "      <td>90.4</td>\n",
       "      <td>171.4</td>\n",
       "      <td>30.8</td>\n",
       "      <td>38.0</td>\n",
       "      <td>40.0</td>\n",
       "      <td>33.2</td>\n",
       "      <td>107.9</td>\n",
       "      <td>NaN</td>\n",
       "    </tr>\n",
       "    <tr>\n",
       "      <th>2</th>\n",
       "      <td>83734</td>\n",
       "      <td>1.0</td>\n",
       "      <td>NaN</td>\n",
       "      <td>NaN</td>\n",
       "      <td>1</td>\n",
       "      <td>1</td>\n",
       "      <td>78</td>\n",
       "      <td>3</td>\n",
       "      <td>1.0</td>\n",
       "      <td>3.0</td>\n",
       "      <td>...</td>\n",
       "      <td>132.0</td>\n",
       "      <td>44.0</td>\n",
       "      <td>83.4</td>\n",
       "      <td>170.1</td>\n",
       "      <td>28.8</td>\n",
       "      <td>35.6</td>\n",
       "      <td>37.0</td>\n",
       "      <td>31.0</td>\n",
       "      <td>116.5</td>\n",
       "      <td>2.0</td>\n",
       "    </tr>\n",
       "    <tr>\n",
       "      <th>3</th>\n",
       "      <td>83735</td>\n",
       "      <td>2.0</td>\n",
       "      <td>1.0</td>\n",
       "      <td>1.0</td>\n",
       "      <td>2</td>\n",
       "      <td>2</td>\n",
       "      <td>56</td>\n",
       "      <td>3</td>\n",
       "      <td>1.0</td>\n",
       "      <td>5.0</td>\n",
       "      <td>...</td>\n",
       "      <td>134.0</td>\n",
       "      <td>68.0</td>\n",
       "      <td>109.8</td>\n",
       "      <td>160.9</td>\n",
       "      <td>42.4</td>\n",
       "      <td>38.5</td>\n",
       "      <td>37.7</td>\n",
       "      <td>38.3</td>\n",
       "      <td>110.1</td>\n",
       "      <td>2.0</td>\n",
       "    </tr>\n",
       "    <tr>\n",
       "      <th>4</th>\n",
       "      <td>83736</td>\n",
       "      <td>2.0</td>\n",
       "      <td>1.0</td>\n",
       "      <td>1.0</td>\n",
       "      <td>2</td>\n",
       "      <td>2</td>\n",
       "      <td>42</td>\n",
       "      <td>4</td>\n",
       "      <td>1.0</td>\n",
       "      <td>4.0</td>\n",
       "      <td>...</td>\n",
       "      <td>114.0</td>\n",
       "      <td>54.0</td>\n",
       "      <td>55.2</td>\n",
       "      <td>164.9</td>\n",
       "      <td>20.3</td>\n",
       "      <td>37.4</td>\n",
       "      <td>36.0</td>\n",
       "      <td>27.2</td>\n",
       "      <td>80.4</td>\n",
       "      <td>2.0</td>\n",
       "    </tr>\n",
       "  </tbody>\n",
       "</table>\n",
       "<p>5 rows × 28 columns</p>\n",
       "</div>"
      ],
      "text/plain": [
       "    SEQN  ALQ101  ALQ110  ALQ130  SMQ020  RIAGENDR  RIDAGEYR  RIDRETH1  \\\n",
       "0  83732     1.0     NaN     1.0       1         1        62         3   \n",
       "1  83733     1.0     NaN     6.0       1         1        53         3   \n",
       "2  83734     1.0     NaN     NaN       1         1        78         3   \n",
       "3  83735     2.0     1.0     1.0       2         2        56         3   \n",
       "4  83736     2.0     1.0     1.0       2         2        42         4   \n",
       "\n",
       "   DMDCITZN  DMDEDUC2  ...  BPXSY2  BPXDI2  BMXWT  BMXHT  BMXBMI  BMXLEG  \\\n",
       "0       1.0       5.0  ...   124.0    64.0   94.8  184.5    27.8    43.3   \n",
       "1       2.0       3.0  ...   140.0    88.0   90.4  171.4    30.8    38.0   \n",
       "2       1.0       3.0  ...   132.0    44.0   83.4  170.1    28.8    35.6   \n",
       "3       1.0       5.0  ...   134.0    68.0  109.8  160.9    42.4    38.5   \n",
       "4       1.0       4.0  ...   114.0    54.0   55.2  164.9    20.3    37.4   \n",
       "\n",
       "   BMXARML  BMXARMC  BMXWAIST  HIQ210  \n",
       "0     43.6     35.9     101.1     2.0  \n",
       "1     40.0     33.2     107.9     NaN  \n",
       "2     37.0     31.0     116.5     2.0  \n",
       "3     37.7     38.3     110.1     2.0  \n",
       "4     36.0     27.2      80.4     2.0  \n",
       "\n",
       "[5 rows x 28 columns]"
      ]
     },
     "execution_count": 32,
     "metadata": {},
     "output_type": "execute_result"
    }
   ],
   "source": [
    "df_nhanes = pd.read_csv('https://raw.githubusercontent.com/ardhiraka/PFDS_sources/master/nhanes_2015_2016.csv')\n",
    "df_nhanes.head()"
   ]
  },
  {
   "attachments": {},
   "cell_type": "markdown",
   "metadata": {},
   "source": [
    "apakah rata2 BMI wanita dan pria berbeda?\n",
    "\n",
    "- kolom RIAGENDR 1 pria, 2 wanita\n",
    "- kolom BMXBMI menunjukkan BMI seseorang\n",
    "\n",
    "pembuatan hypothesis (null dan alternate)\n",
    "- H0: bmi_p == bmi_w\n",
    "- H1: bmi_p != bmi_w\n",
    "\n",
    "kemudian kita cari p-value"
   ]
  },
  {
   "cell_type": "code",
   "execution_count": 38,
   "metadata": {},
   "outputs": [
    {
     "name": "stdout",
     "output_type": "stream",
     "text": [
      "pria\n",
      "mean       28.778072\n",
      "std         6.252568\n",
      "count    2718.000000\n",
      "Name: BMXBMI, dtype: float64\n",
      "\n",
      "wanita\n",
      "mean       29.939946\n",
      "std         7.753319\n",
      "count    2944.000000\n",
      "Name: BMXBMI, dtype: float64\n"
     ]
    }
   ],
   "source": [
    "df_p = df_nhanes[df_nhanes[\"RIAGENDR\"] == 1]\n",
    "df_w = df_nhanes[df_nhanes[\"RIAGENDR\"] == 2]\n",
    "\n",
    "df_bmi_p = df_p[\"BMXBMI\"]\n",
    "df_bmi_w = df_w[\"BMXBMI\"]\n",
    "\n",
    "# hapus missing value\n",
    "df_bmi_p = df_bmi_p.dropna()\n",
    "df_bmi_w = df_bmi_w.dropna()\n",
    "\n",
    "# cek2 rata2, std dev, total data\n",
    "print(\"pria\")\n",
    "print(df_bmi_p.agg(['mean', 'std', 'count']))\n",
    "print()\n",
    "\n",
    "print(\"wanita\")\n",
    "print(df_bmi_w.agg(['mean', 'std', 'count']))"
   ]
  },
  {
   "cell_type": "code",
   "execution_count": 39,
   "metadata": {},
   "outputs": [
    {
     "name": "stdout",
     "output_type": "stream",
     "text": [
      "p-value 6.591544431126401e-10\n",
      "REJECT null hypothesis H0\n"
     ]
    }
   ],
   "source": [
    "zstat, pvalue = sm.stats.ztest(df_bmi_p, df_bmi_w, alternative=\"two-sided\")\n",
    "\n",
    "alpha = 0.05 # 95% keyakinan 5% error rate jadi alpha 0.05\n",
    "\n",
    "print(\"p-value\", pvalue)\n",
    "if (pvalue < alpha):\n",
    "    print(\"REJECT null hypothesis H0\")\n",
    "else:\n",
    "    print(\"FAIL TO REJECT null hypothesis H0\")"
   ]
  },
  {
   "attachments": {},
   "cell_type": "markdown",
   "metadata": {},
   "source": [
    "rata2 BMI pria dan wanita berbeda"
   ]
  },
  {
   "attachments": {},
   "cell_type": "markdown",
   "metadata": {},
   "source": [
    "## latihan hypothesis testing\n",
    "gunakan data df_heart, apakah rata2 kolesterol wanita lebih tinggi daripada rata2 kolesterol pria?\n",
    "\n",
    "- membuat H1\n",
    "- membuat H0\n",
    "- mencari p-value\n",
    "- set alpha\n",
    "- REJECT atau FAIL TO REJECT null hypothesis H0\n",
    "- konklusi\n",
    "\n",
    "#### rata2 dua populasi\n",
    "- H0: chol_w <= chol_p\n",
    "- H1: chol_w > chol_p\n"
   ]
  },
  {
   "cell_type": "code",
   "execution_count": 44,
   "metadata": {},
   "outputs": [
    {
     "name": "stdout",
     "output_type": "stream",
     "text": [
      "wanita 261.45512820512823 64.46678079217995 312\n",
      "pria 239.23702664796633 43.15553498840588 713\n"
     ]
    }
   ],
   "source": [
    "df_wanita = df_heart[df_heart[\"sex\"] == 0]\n",
    "df_pria = df_heart[df_heart[\"sex\"] == 1]\n",
    "\n",
    "df_chol_w = df_wanita[\"chol\"].dropna()\n",
    "df_chol_p = df_pria[\"chol\"].dropna()\n",
    "\n",
    "print(\"wanita\", df_chol_w.mean(), df_chol_w.std(), len(df_chol_w))\n",
    "print(\"pria\", df_chol_p.mean(), df_chol_p.std(), len(df_chol_p))"
   ]
  },
  {
   "cell_type": "code",
   "execution_count": 45,
   "metadata": {},
   "outputs": [
    {
     "name": "stdout",
     "output_type": "stream",
     "text": [
      "4.913943666354449e-11\n",
      "REJECT null hypothesis H0\n"
     ]
    }
   ],
   "source": [
    "zstat, pvalue = sm.stats.ztest(df_chol_w, df_chol_p, alternative=\"larger\")\n",
    "\n",
    "alpha = 0.05\n",
    "\n",
    "print(pvalue)\n",
    "if (pvalue < alpha):\n",
    "    print(\"REJECT null hypothesis H0\")\n",
    "else:\n",
    "    print(\"FAIL TO REJECT null hypothesis H0\")"
   ]
  },
  {
   "attachments": {},
   "cell_type": "markdown",
   "metadata": {},
   "source": [
    "rata2 kolesterol wanita lebih tinggi daripada rata2 kolesterol pria"
   ]
  },
  {
   "cell_type": "code",
   "execution_count": null,
   "metadata": {},
   "outputs": [],
   "source": []
  }
 ],
 "metadata": {
  "kernelspec": {
   "display_name": "base",
   "language": "python",
   "name": "python3"
  },
  "language_info": {
   "codemirror_mode": {
    "name": "ipython",
    "version": 3
   },
   "file_extension": ".py",
   "mimetype": "text/x-python",
   "name": "python",
   "nbconvert_exporter": "python",
   "pygments_lexer": "ipython3",
   "version": "3.9.13"
  },
  "orig_nbformat": 4
 },
 "nbformat": 4,
 "nbformat_minor": 2
}
