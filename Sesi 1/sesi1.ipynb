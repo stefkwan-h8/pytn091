{
 "cells": [
  {
   "cell_type": "code",
   "execution_count": 1,
   "id": "b3cc4797-ad5e-46e4-9eda-57556c35d355",
   "metadata": {},
   "outputs": [
    {
     "name": "stdout",
     "output_type": "stream",
     "text": [
      "hello\n"
     ]
    }
   ],
   "source": [
    "print(\"hello\")"
   ]
  },
  {
   "cell_type": "code",
   "execution_count": 2,
   "id": "45434382-9f70-49ba-9184-57c00722af0a",
   "metadata": {},
   "outputs": [
    {
     "data": {
      "text/plain": [
       "int"
      ]
     },
     "execution_count": 2,
     "metadata": {},
     "output_type": "execute_result"
    }
   ],
   "source": [
    "# bikin comment, tidak termasuk code\n",
    "# Tipe data yang dimengerti Python\n",
    "\n",
    "123\n",
    "type(123)"
   ]
  },
  {
   "cell_type": "code",
   "execution_count": null,
   "id": "731b8d7e",
   "metadata": {},
   "outputs": [],
   "source": [
    "# int, integer, salah satu tipe data yang dimengerti Python\n",
    "# tipe data numerik (angka) ada dua, int dan float"
   ]
  },
  {
   "cell_type": "code",
   "execution_count": 3,
   "id": "4c33a211",
   "metadata": {},
   "outputs": [
    {
     "data": {
      "text/plain": [
       "float"
      ]
     },
     "execution_count": 3,
     "metadata": {},
     "output_type": "execute_result"
    }
   ],
   "source": [
    "15.5\n",
    "type(15.5)"
   ]
  },
  {
   "cell_type": "code",
   "execution_count": 4,
   "id": "66733e42",
   "metadata": {},
   "outputs": [],
   "source": [
    "# selain tipe data numerik, Python juga mengerti tipe data non-numerik seperti\n",
    "# str, string, untuk teks yang dikutip '' \"\""
   ]
  },
  {
   "cell_type": "code",
   "execution_count": 5,
   "id": "729d5df5",
   "metadata": {},
   "outputs": [
    {
     "data": {
      "text/plain": [
       "str"
      ]
     },
     "execution_count": 5,
     "metadata": {},
     "output_type": "execute_result"
    }
   ],
   "source": [
    "\"halo\"\n",
    "type(\"halo\")"
   ]
  },
  {
   "cell_type": "code",
   "execution_count": 6,
   "id": "27f2f4d5",
   "metadata": {},
   "outputs": [
    {
     "data": {
      "text/plain": [
       "str"
      ]
     },
     "execution_count": 6,
     "metadata": {},
     "output_type": "execute_result"
    }
   ],
   "source": [
    "\"123\"\n",
    "type(\"123\")"
   ]
  },
  {
   "cell_type": "code",
   "execution_count": 7,
   "id": "6a68d2dd",
   "metadata": {},
   "outputs": [],
   "source": [
    "# bool, boolean, untuk data tipe true atau false\n",
    "# bahasa pemrograman itu kaku, tidak seperti manusia yang banyak di tengah2 jawabannya"
   ]
  },
  {
   "cell_type": "code",
   "execution_count": 8,
   "id": "89e58e4d",
   "metadata": {},
   "outputs": [
    {
     "data": {
      "text/plain": [
       "bool"
      ]
     },
     "execution_count": 8,
     "metadata": {},
     "output_type": "execute_result"
    }
   ],
   "source": [
    "True\n",
    "False\n",
    "type(True)"
   ]
  },
  {
   "cell_type": "code",
   "execution_count": 1,
   "id": "90c124df",
   "metadata": {},
   "outputs": [],
   "source": [
    "# 4 tipe data: int, float, str, bool\n",
    "# ini adalah tipe data primitif, simple data types\n",
    "\n",
    "# ada tipe data yang sedikit lebih rumit, punya struktur\n",
    "# list [] bisa berisi banyak data di dalam [] dipisah dengan ,\n",
    "# dictionary {} bisa berisi banyak data di dalam {} dipisah dengan , dan setiap data sepasang sepasang"
   ]
  },
  {
   "cell_type": "code",
   "execution_count": 2,
   "id": "07583982",
   "metadata": {},
   "outputs": [
    {
     "data": {
      "text/plain": [
       "list"
      ]
     },
     "execution_count": 2,
     "metadata": {},
     "output_type": "execute_result"
    }
   ],
   "source": [
    "[\"halo\", 123, True, \"halo lagi\"]\n",
    "# diatas ini list kita berisi 4 item, str, int, bool, str\n",
    "type([\"halo\", 123, True, \"halo lagi\"])"
   ]
  },
  {
   "cell_type": "code",
   "execution_count": 3,
   "id": "2b0d35af",
   "metadata": {},
   "outputs": [
    {
     "data": {
      "text/plain": [
       "dict"
      ]
     },
     "execution_count": 3,
     "metadata": {},
     "output_type": "execute_result"
    }
   ],
   "source": [
    "{}\n",
    "# isi sebuah dictionary, kamus itu sepasang dimulai dari key: value\n",
    "# mirip kamus kita punya kata kunci \"key\" sebuah str, dan value nya bebas\n",
    "{\"nama\": \"Andi\", \"umur\":53}\n",
    "# diatas ini dictionary kita berisi 2 item, str:str, str:int\n",
    "type({\"nama\": \"Andi\", \"umur\":53})"
   ]
  },
  {
   "cell_type": "code",
   "execution_count": 4,
   "id": "b5e84a2d",
   "metadata": {},
   "outputs": [],
   "source": [
    "# demikian 4 tipe data simple dan 2 tipe data terstruktur yang akan sering kita gunakan di Python"
   ]
  },
  {
   "attachments": {},
   "cell_type": "markdown",
   "id": "77bd5e2f",
   "metadata": {},
   "source": [
    "# Markdown\n",
    "\n",
    "## sub judul\n",
    "teks ukuran biasa\n",
    "- list item 1\n",
    "- list item 2\n",
    "- list 3"
   ]
  },
  {
   "attachments": {},
   "cell_type": "markdown",
   "id": "2a48d506",
   "metadata": {},
   "source": [
    "# Tipe Data\n",
    "\n",
    "## Tipe data simple\n",
    "- int\n",
    "- float\n",
    "- string\n",
    "- boolean\n",
    "\n",
    "## Tipe data terstruktur\n",
    "- list\n",
    "- tuple\n",
    "- dictionary\n",
    "- set (tidak kita bahas di kelas)"
   ]
  },
  {
   "cell_type": "code",
   "execution_count": null,
   "id": "8b61da93",
   "metadata": {},
   "outputs": [],
   "source": []
  },
  {
   "attachments": {},
   "cell_type": "markdown",
   "id": "3b5b64c4",
   "metadata": {},
   "source": [
    "## Int\n",
    "integer\n",
    "\n",
    "tipe data numerik yang merupakan angka bulat, tanpa koma"
   ]
  },
  {
   "cell_type": "code",
   "execution_count": 5,
   "id": "b3107bcb",
   "metadata": {},
   "outputs": [
    {
     "data": {
      "text/plain": [
       "1234587654621384765465555555555555555555555555555555555555555555555555555555"
      ]
     },
     "execution_count": 5,
     "metadata": {},
     "output_type": "execute_result"
    }
   ],
   "source": [
    "1234587654621384765465555555555555555555555555555555555555555555555555555555"
   ]
  },
  {
   "cell_type": "code",
   "execution_count": 7,
   "id": "a6162abf",
   "metadata": {},
   "outputs": [
    {
     "name": "stdout",
     "output_type": "stream",
     "text": [
      "<class 'int'>\n"
     ]
    }
   ],
   "source": [
    "print(type(135))"
   ]
  },
  {
   "cell_type": "code",
   "execution_count": 8,
   "id": "c1b3c54e",
   "metadata": {},
   "outputs": [
    {
     "data": {
      "text/plain": [
       "25"
      ]
     },
     "execution_count": 8,
     "metadata": {},
     "output_type": "execute_result"
    }
   ],
   "source": [
    "# menggunakan operator matematik seperti + - * / ** %\n",
    "15 + 7 + 3"
   ]
  },
  {
   "cell_type": "code",
   "execution_count": 9,
   "id": "7b248870",
   "metadata": {},
   "outputs": [
    {
     "data": {
      "text/plain": [
       "7"
      ]
     },
     "execution_count": 9,
     "metadata": {},
     "output_type": "execute_result"
    }
   ],
   "source": [
    "15 - 8"
   ]
  },
  {
   "cell_type": "code",
   "execution_count": 10,
   "id": "6af92450",
   "metadata": {},
   "outputs": [
    {
     "data": {
      "text/plain": [
       "225"
      ]
     },
     "execution_count": 10,
     "metadata": {},
     "output_type": "execute_result"
    }
   ],
   "source": [
    "15 * 15"
   ]
  },
  {
   "cell_type": "code",
   "execution_count": 11,
   "id": "173ddeb5",
   "metadata": {},
   "outputs": [
    {
     "data": {
      "text/plain": [
       "225"
      ]
     },
     "execution_count": 11,
     "metadata": {},
     "output_type": "execute_result"
    }
   ],
   "source": [
    "15 ** 2"
   ]
  },
  {
   "cell_type": "code",
   "execution_count": 12,
   "id": "a259eb0d",
   "metadata": {},
   "outputs": [
    {
     "data": {
      "text/plain": [
       "5.0"
      ]
     },
     "execution_count": 12,
     "metadata": {},
     "output_type": "execute_result"
    }
   ],
   "source": [
    "15 / 3"
   ]
  },
  {
   "cell_type": "code",
   "execution_count": 13,
   "id": "910a7a6c",
   "metadata": {},
   "outputs": [
    {
     "data": {
      "text/plain": [
       "1"
      ]
     },
     "execution_count": 13,
     "metadata": {},
     "output_type": "execute_result"
    }
   ],
   "source": [
    "15 % 7"
   ]
  },
  {
   "attachments": {},
   "cell_type": "markdown",
   "id": "bb3c46fd",
   "metadata": {},
   "source": [
    "15 modulo 7 hasilnya adalah 1 karena 15 dibagi tujuh hasilnya 2 sisa 1. modulo menyimpan sisa nya saja."
   ]
  },
  {
   "cell_type": "code",
   "execution_count": 14,
   "id": "4d5e1962",
   "metadata": {},
   "outputs": [
    {
     "data": {
      "text/plain": [
       "False"
      ]
     },
     "execution_count": 14,
     "metadata": {},
     "output_type": "execute_result"
    }
   ],
   "source": [
    "# selain operator matematik\n",
    "# kita juga bisa gunakan operator komparasi > < >= <= ==\n",
    "15 == 2"
   ]
  },
  {
   "attachments": {},
   "cell_type": "markdown",
   "id": "1eb1e8ab",
   "metadata": {},
   "source": [
    "untuk apa membandingkan 2 angka seperti itu? kedepannya kita akan menggunakan nama untuk menyimpan data.\n",
    "\n",
    "variable.\n",
    "\n",
    "## Variable\n",
    "variable kita gunakan untuk menyimpan data dan memberinya nama.\n",
    "\n",
    "misalakan kita mau simpan sebuah pesan berbentuk string. kalau kita hanya tulis pesannya, kita tidak bisa memanggil lagi pesannya di tempat lain di code kita.\n",
    "\n",
    "untuk contoh berikut, misalkan kita mau simpan nilai hasil ujiannya Andi, nilai andi dapat 75."
   ]
  },
  {
   "cell_type": "code",
   "execution_count": 15,
   "id": "30a82b6a",
   "metadata": {},
   "outputs": [
    {
     "data": {
      "text/plain": [
       "75"
      ]
     },
     "execution_count": 15,
     "metadata": {},
     "output_type": "execute_result"
    }
   ],
   "source": [
    "75"
   ]
  },
  {
   "attachments": {},
   "cell_type": "markdown",
   "id": "a60f6163",
   "metadata": {},
   "source": [
    "tidak ada cara untuk mengakses angka 75 di atas. tiap mau dipakai kita harus ketik ulang 75. kita bahkan tidak punya informasi sama sekali angka itu untuk apa."
   ]
  },
  {
   "cell_type": "code",
   "execution_count": 16,
   "id": "96c0230e",
   "metadata": {},
   "outputs": [],
   "source": [
    "nilai_andi = 75"
   ]
  },
  {
   "attachments": {},
   "cell_type": "markdown",
   "id": "f468cad6",
   "metadata": {},
   "source": [
    "kita membuat sebuah variable nilai_andi yang berisi data sebuah int 75"
   ]
  },
  {
   "cell_type": "code",
   "execution_count": 17,
   "id": "4c512f5c",
   "metadata": {},
   "outputs": [
    {
     "name": "stdout",
     "output_type": "stream",
     "text": [
      "75\n"
     ]
    }
   ],
   "source": [
    "print(nilai_andi)"
   ]
  },
  {
   "cell_type": "code",
   "execution_count": 18,
   "id": "d5e733ee",
   "metadata": {},
   "outputs": [],
   "source": [
    "# bisa juga bikin nilai budi\n",
    "nilai_budi = 95"
   ]
  },
  {
   "cell_type": "code",
   "execution_count": 19,
   "id": "12120daf",
   "metadata": {},
   "outputs": [
    {
     "data": {
      "text/plain": [
       "False"
      ]
     },
     "execution_count": 19,
     "metadata": {},
     "output_type": "execute_result"
    }
   ],
   "source": [
    "# baru masuk akal kenapa kita memerlukan operator pembanding\n",
    "\n",
    "nilai_andi > nilai_budi"
   ]
  },
  {
   "attachments": {},
   "cell_type": "markdown",
   "id": "b9602880",
   "metadata": {},
   "source": [
    "## Variable - peraturan\n",
    "ada beberapa peraturan yang perlu diikuti saat membuat variable.\n",
    "- nama tidak boleh dimulai dengan angka.   \n",
    "Python akan langsung menanggap angka = data dan error, jadi semua nama variable dimulai dengan alfabet. bisa juga dimulai dengan simbol, tapi tidak di rekomen agar kita tidak bingung.\n",
    "- nama tidak boleh menggunakan salah satu keyword Python, seperti int bool str dan lain lain.\n",
    "```python\n",
    "print = \"ok\"\n",
    "# sebenarnya tidak error, tapi jadinya keyword print berubah dari fungsi awal kita untuk print menjadi sebuah variable berisi string \"ok\"\n",
    "\n",
    "# dan kita tidak mau kehilangan fungsionalitas python demi sebuah nama variable\n",
    "```\n",
    "- tidak baik mencampur alfabet BESAR dan kecil, karena nanti kita lupa sendiri.\n",
    "bagi Python, variable berikut adalah variable berbeda semua:"
   ]
  },
  {
   "cell_type": "code",
   "execution_count": 22,
   "id": "3e49759b",
   "metadata": {},
   "outputs": [],
   "source": [
    "nilai_andi = 70\n",
    "nilai_ANDI = 71\n",
    "Nilai_Andi = 72\n",
    "NilaiAndi = 73\n",
    "nilaiAndi = 74\n",
    "_nilaiAndi = 75\n",
    "nilai_andi_ = 76\n",
    "NILAI_andi = 77\n",
    "NILAIANDI = 78"
   ]
  },
  {
   "cell_type": "code",
   "execution_count": 21,
   "id": "8685649e",
   "metadata": {},
   "outputs": [
    {
     "name": "stdout",
     "output_type": "stream",
     "text": [
      "70 71 72 73 74 75 76 77 78\n"
     ]
    }
   ],
   "source": [
    "print(nilai_andi, nilai_ANDI, Nilai_Andi, NilaiAndi, nilaiAndi, _nilaiAndi, nilai_andi_, NILAI_andi, NILAIANDI)"
   ]
  },
  {
   "attachments": {},
   "cell_type": "markdown",
   "id": "45be0469",
   "metadata": {},
   "source": [
    "di bahasa pemrograman biasanya ada 3 jenis cara tulis variable yang umum:\n",
    "- kecil semua, spasi jadi _, snake_case\n",
    "- kecil semua, kalau ada spasi huruf berikut jadi BESAR, camelCase\n",
    "- huruf pertama sebuah kata BESAR, PascalCase\n",
    "\n",
    "yang lebih jarang:\n",
    "- kebab-case\n",
    "\n",
    "sebenarnya bebas mau menggunakan snake_case, camelCase, atau PascalCase untuk nama variable. Tapi aku rekomen:\n",
    "- snake_case untuk variable\n",
    "- camelCase untuk function\n",
    "- PascalCase untuk class"
   ]
  },
  {
   "cell_type": "code",
   "execution_count": 23,
   "id": "0f995484",
   "metadata": {},
   "outputs": [],
   "source": [
    "nilai_andi = \"halo\""
   ]
  },
  {
   "cell_type": "code",
   "execution_count": 24,
   "id": "55c1eb59",
   "metadata": {},
   "outputs": [
    {
     "name": "stdout",
     "output_type": "stream",
     "text": [
      "halo\n"
     ]
    }
   ],
   "source": [
    "print(nilai_andi)"
   ]
  },
  {
   "attachments": {},
   "cell_type": "markdown",
   "id": "416ed247",
   "metadata": {},
   "source": [
    "di Python, sebuah variable tidak terikat ke datanya, tidak terikat ke tipe datanya juga. sebuah variable isinya bisa diubah bebas, dari tipe data, dan datanya."
   ]
  },
  {
   "cell_type": "code",
   "execution_count": 25,
   "id": "de816dfe",
   "metadata": {},
   "outputs": [],
   "source": [
    "nilai_andi = 75.5"
   ]
  },
  {
   "attachments": {},
   "cell_type": "markdown",
   "id": "d89f2eab",
   "metadata": {},
   "source": [
    "## Float\n",
    "sama seperti integer, bisa kita manipulasi dengan operator aritmatik + - * / % **\n",
    "\n",
    "bisa juga kita gunakan operator komparasi untuk membandingkan dua angka (biasanya ada yang di dalam sebuah variable)"
   ]
  },
  {
   "attachments": {},
   "cell_type": "markdown",
   "id": "db3f4cf0",
   "metadata": {},
   "source": [
    "## String\n",
    "bukan numerik\n",
    "\n",
    "dia text\n",
    "\n",
    "kita bisa gunakan operator aritmatik + dan *"
   ]
  },
  {
   "cell_type": "code",
   "execution_count": 26,
   "id": "2e514060",
   "metadata": {},
   "outputs": [
    {
     "name": "stdout",
     "output_type": "stream",
     "text": [
      "halo halo Bandung\n"
     ]
    }
   ],
   "source": [
    "msg = \"halo\"\n",
    "tempat = \"Bandung\"\n",
    "\n",
    "print(msg + \" \" + msg + \" \" + tempat)"
   ]
  },
  {
   "cell_type": "code",
   "execution_count": 29,
   "id": "184127ab",
   "metadata": {},
   "outputs": [
    {
     "name": "stdout",
     "output_type": "stream",
     "text": [
      "halo halo Bandung\n"
     ]
    }
   ],
   "source": [
    "msg2 = (msg + \" \") * 2 #harus dikali sebuah int\n",
    "print(msg2 + tempat)"
   ]
  },
  {
   "attachments": {},
   "cell_type": "markdown",
   "id": "7bebf167",
   "metadata": {},
   "source": [
    "selain itu, string juga bisa kita ubah2 CASE nya, besar jadi kecil, kecil jadi besar"
   ]
  },
  {
   "cell_type": "code",
   "execution_count": 35,
   "id": "feb3ab3b",
   "metadata": {},
   "outputs": [
    {
     "name": "stdout",
     "output_type": "stream",
     "text": [
      "Belajar python di hacktiv8~~\n",
      "Belajar Python Di Hacktiv8~~\n",
      "BELAJAR PYTHON DI HACKTIV8~~\n",
      "belajar python di hacktiv8~~\n",
      "BELAJAR pYTHON DI hACKTIV8~~\n"
     ]
    }
   ],
   "source": [
    "msg = \"belajar Python di Hacktiv8~~\"\n",
    "\n",
    "print(msg.capitalize()) # hanya huruf pertama yang BESAR\n",
    "print(msg.title()) # semua huruf pertama setelah spasi jadi BESAR\n",
    "print(msg.upper()) # BESAR semua\n",
    "print(msg.lower()) # kecil semua\n",
    "print(msg.swapcase()) # BESAR jadi kecil, kecil jadi BESAR"
   ]
  },
  {
   "attachments": {},
   "cell_type": "markdown",
   "id": "814f3c53",
   "metadata": {},
   "source": [
    "capitalize, title, upper, lower, dan swapcase adalah function yang dibuat oleh Python sendiri \"built-in function\"\n",
    "\n",
    "nanti di sesi 3 kita akan belajar cara membuat function milik kita sendiri, custom.\n",
    "\n",
    "cara pakai function menggunakan namafunction()\n",
    "\n",
    "() namanya \"invoke\" itu untuk menjalankan function nya"
   ]
  },
  {
   "cell_type": "code",
   "execution_count": null,
   "id": "98128bbb",
   "metadata": {},
   "outputs": [],
   "source": []
  },
  {
   "attachments": {},
   "cell_type": "markdown",
   "id": "1af66a9e",
   "metadata": {},
   "source": [
    "## Boolean\n",
    "tipe data boolean hanya punya 2 jenis data: True dan False\n",
    "\n",
    "tidak seperti int float str yang isinya bisa banyak jenis, boolean hanya ada 2.\n",
    "\n",
    "tapi, di Python, tipe data bisa kita ubah2, int jadi float, float jadi int. int jadi bool, bool jadi int. dan lain2.\n",
    "\n",
    "jadi, tipe data lain semua ada versi boolean nya.\n",
    "\n",
    "contohnya:\n",
    "- 0 adalah False\n",
    "- 1 adalah True\n",
    "- \"\" adalah False\n",
    "- semua yang kosong2 dianggap false, seperti \"\", [], {}, 0, 0.0, -0\n",
    "- selain itu adalah dianggap true"
   ]
  },
  {
   "attachments": {},
   "cell_type": "markdown",
   "id": "012b6c8b",
   "metadata": {},
   "source": [
    "konversi tipe data cukup menggunakan nama tipe datanya lalu (isi data lain) contoh:\n",
    "```python\n",
    "int(5.5)\n",
    "```"
   ]
  },
  {
   "cell_type": "code",
   "execution_count": 36,
   "id": "30eb4c23",
   "metadata": {},
   "outputs": [
    {
     "data": {
      "text/plain": [
       "5"
      ]
     },
     "execution_count": 36,
     "metadata": {},
     "output_type": "execute_result"
    }
   ],
   "source": [
    "# float jadi int\n",
    "int(5.5)"
   ]
  },
  {
   "cell_type": "code",
   "execution_count": 37,
   "id": "982ec246",
   "metadata": {},
   "outputs": [
    {
     "name": "stdout",
     "output_type": "stream",
     "text": [
      "123\n",
      "345.567\n",
      "True\n"
     ]
    }
   ],
   "source": [
    "# int float bool jadi str\n",
    "print(str(123))\n",
    "print(str(345.567))\n",
    "print(str(True))"
   ]
  },
  {
   "cell_type": "code",
   "execution_count": 40,
   "id": "2627f2f5",
   "metadata": {},
   "outputs": [
    {
     "name": "stdout",
     "output_type": "stream",
     "text": [
      "1234567\n"
     ]
    }
   ],
   "source": [
    "print(int(\"1234567\")) #ok, bisa"
   ]
  },
  {
   "cell_type": "code",
   "execution_count": 41,
   "id": "81cdfba6",
   "metadata": {},
   "outputs": [
    {
     "ename": "ValueError",
     "evalue": "invalid literal for int() with base 10: 'halo'",
     "output_type": "error",
     "traceback": [
      "\u001b[1;31m---------------------------------------------------------------------------\u001b[0m",
      "\u001b[1;31mValueError\u001b[0m                                Traceback (most recent call last)",
      "\u001b[1;32mc:\\Users\\stefa\\Documents\\PYTN091\\Sesi 1\\sesi1.ipynb Cell 57\u001b[0m in \u001b[0;36m<cell line: 1>\u001b[1;34m()\u001b[0m\n\u001b[1;32m----> <a href='vscode-notebook-cell:/c%3A/Users/stefa/Documents/PYTN091/Sesi%201/sesi1.ipynb#Y116sZmlsZQ%3D%3D?line=0'>1</a>\u001b[0m \u001b[39mprint\u001b[39m(\u001b[39mint\u001b[39;49m(\u001b[39m\"\u001b[39;49m\u001b[39mhalo\u001b[39;49m\u001b[39m\"\u001b[39;49m))\n",
      "\u001b[1;31mValueError\u001b[0m: invalid literal for int() with base 10: 'halo'"
     ]
    }
   ],
   "source": [
    "print(int(\"halo\")) # tidak bisa"
   ]
  },
  {
   "attachments": {},
   "cell_type": "markdown",
   "id": "9e70986d",
   "metadata": {},
   "source": [
    "kalau string nya masuk akal untuk diubah jadi angka, misalkan \"123\" atau \"7.5\" maka dia bisa diubah jadi angka. kalau tidak, akan error."
   ]
  },
  {
   "cell_type": "code",
   "execution_count": 38,
   "id": "cc93c0a6",
   "metadata": {},
   "outputs": [
    {
     "name": "stdout",
     "output_type": "stream",
     "text": [
      "True\n",
      "True\n",
      "True\n",
      "True\n"
     ]
    }
   ],
   "source": [
    "# tipe data lain jadi boolean\n",
    "print(bool(\"Hacktiv8\"))\n",
    "print(bool(123))\n",
    "print(bool(345.567))\n",
    "print(bool(True))"
   ]
  },
  {
   "cell_type": "code",
   "execution_count": 39,
   "id": "a44ae541",
   "metadata": {},
   "outputs": [
    {
     "name": "stdout",
     "output_type": "stream",
     "text": [
      "False\n",
      "False\n",
      "False\n",
      "False\n"
     ]
    }
   ],
   "source": [
    "# kalau kosong kosong baru jadi False\n",
    "print(bool(0))\n",
    "print(bool(0.0))\n",
    "print(bool(\"\"))\n",
    "print(bool([]))"
   ]
  },
  {
   "attachments": {},
   "cell_type": "markdown",
   "id": "85e19fd1",
   "metadata": {},
   "source": [
    "# List\n",
    "tipe data [] yang bisa diisi banyak data\n",
    "\n",
    "ada saatnya kita perlu banyak data di satu tempat. misalkan nilai nilai murid di kelas A. ada 5 murid. 5 nilai. tidak efisien untuk mencoba mengingat sendiri 5 variable berbeda untuk satu kelas.\n",
    "\n",
    "kita gunakan list untuk grup data2 ini jadi satu."
   ]
  },
  {
   "cell_type": "code",
   "execution_count": 42,
   "id": "78fab753",
   "metadata": {},
   "outputs": [
    {
     "name": "stdout",
     "output_type": "stream",
     "text": [
      "[75, 95, 80, 10, 52]\n"
     ]
    }
   ],
   "source": [
    "# misal di kelas A ada Andi, Budi, Cindy, Dian, dan Ed\n",
    "# kita simpan nilai mereka di satu variable\n",
    "nilai_kelas_a = [75, 95, 80, 10, 52]\n",
    "\n",
    "print(nilai_kelas_a)"
   ]
  },
  {
   "attachments": {},
   "cell_type": "markdown",
   "id": "9dc3bff0",
   "metadata": {},
   "source": [
    "kalau mau akses satu nilai dari kelompok tersebut, kita bisa gunakan angka.\n",
    "\n",
    "semua list memiliki angka untuk menyimpan posisi data di dalamnya.\n",
    "\n",
    "angka ini namanya angka index.\n",
    "\n",
    "angka index dimulai dari 0.\n",
    "\n",
    "jadi item pertama punya index 0, item kedua punya index 1, item ketiga punya index 2, dan seterusnya.\n",
    "\n",
    "di Python, index bisa dihitung dari belakang juga, jadi item terakhir punya index -1, kedua terakhir punya index -2.\n",
    "\n",
    "kita gunakan angka index untuk mengambil 1 item tertentu dalam sebuah list. kita gunakan dengan pakai kurung kotak lagi."
   ]
  },
  {
   "cell_type": "code",
   "execution_count": 43,
   "id": "ca5033c4",
   "metadata": {},
   "outputs": [
    {
     "data": {
      "text/plain": [
       "75"
      ]
     },
     "execution_count": 43,
     "metadata": {},
     "output_type": "execute_result"
    }
   ],
   "source": [
    "# mau ambil nilai pertama\n",
    "nilai_kelas_a[0]"
   ]
  },
  {
   "cell_type": "code",
   "execution_count": 44,
   "id": "087b89c0",
   "metadata": {},
   "outputs": [
    {
     "data": {
      "text/plain": [
       "95"
      ]
     },
     "execution_count": 44,
     "metadata": {},
     "output_type": "execute_result"
    }
   ],
   "source": [
    "# mau ambil nilai kedua\n",
    "nilai_kelas_a[1]"
   ]
  },
  {
   "attachments": {},
   "cell_type": "markdown",
   "id": "fb0987ae",
   "metadata": {},
   "source": [
    "() [] {} <>\n",
    "\n",
    "kurung kurung ini terkadang punya lebih dari 1 kegunaan, contohnya, [] bisa untuk bikin list, bisa untuk isi index, bisa untuk isi keyword"
   ]
  },
  {
   "cell_type": "code",
   "execution_count": 45,
   "id": "c80031bb",
   "metadata": {},
   "outputs": [
    {
     "data": {
      "text/plain": [
       "'apel'"
      ]
     },
     "execution_count": 45,
     "metadata": {},
     "output_type": "execute_result"
    }
   ],
   "source": [
    "# kalau tidak pakai variable, lebih kelihatan kalau kurung kotaknya dobel\n",
    "[\"apel\", \"pisang\", \"jeruk\"][0]"
   ]
  },
  {
   "attachments": {},
   "cell_type": "markdown",
   "id": "3dc84195",
   "metadata": {},
   "source": [
    "setelah mengerti cara untuk:\n",
    "- membuat list []\n",
    "- mengakses item dalam sebuah list pakai index\n",
    "\n",
    "berikutnya kita belajar:\n",
    "- mengecek jumlah item dalam sebuah list\n",
    "- edit list\n",
    "    - nambah item\n",
    "    - kurangi item\n",
    "    - mengubah item dalam list\n",
    "    - operator matematik + * juga bisa digunakan ke list\n",
    "- hapus sebuah list\n",
    "\n",
    "CRUD - create read update delete - kita belajar cara membuat, membaca, mengedit, dan menghapus sebuah tipe data"
   ]
  },
  {
   "cell_type": "code",
   "execution_count": 46,
   "id": "fd6a49a3",
   "metadata": {},
   "outputs": [
    {
     "data": {
      "text/plain": [
       "5"
      ]
     },
     "execution_count": 46,
     "metadata": {},
     "output_type": "execute_result"
    }
   ],
   "source": [
    "len(nilai_kelas_a)"
   ]
  },
  {
   "cell_type": "code",
   "execution_count": 56,
   "id": "9b52c801",
   "metadata": {},
   "outputs": [
    {
     "name": "stdout",
     "output_type": "stream",
     "text": [
      "list buah buahan isinya ada 3 buah\n"
     ]
    }
   ],
   "source": [
    "buah_buahan = [\"apel\", \"pisang\", \"jeruk\"]\n",
    "\n",
    "print(\"list buah buahan isinya ada \" + str(len(buah_buahan)) + \" buah\")"
   ]
  },
  {
   "cell_type": "code",
   "execution_count": 57,
   "id": "4a28b9da",
   "metadata": {},
   "outputs": [
    {
     "name": "stdout",
     "output_type": "stream",
     "text": [
      "['apel', 'pisang', 'jeruk', 'salak']\n"
     ]
    }
   ],
   "source": [
    "# edit\n",
    "\n",
    "# nambah\n",
    "buah_buahan.append(\"salak\")\n",
    "\n",
    "print(buah_buahan)"
   ]
  },
  {
   "cell_type": "code",
   "execution_count": 58,
   "id": "3f8e0776",
   "metadata": {},
   "outputs": [
    {
     "name": "stdout",
     "output_type": "stream",
     "text": [
      "['apel', 'pisang', 'jeruk', 'salak']\n"
     ]
    }
   ],
   "source": [
    "print(buah_buahan)"
   ]
  },
  {
   "cell_type": "code",
   "execution_count": 60,
   "id": "ba79b1b1",
   "metadata": {},
   "outputs": [],
   "source": [
    "buah_buahan.append(\"nanas\")"
   ]
  },
  {
   "attachments": {},
   "cell_type": "markdown",
   "id": "18f33c46",
   "metadata": {},
   "source": [
    "append langsung menambah item kedalam list"
   ]
  },
  {
   "cell_type": "code",
   "execution_count": 61,
   "id": "0542d341",
   "metadata": {},
   "outputs": [
    {
     "name": "stdout",
     "output_type": "stream",
     "text": [
      "['apel', 'pisang', 'jeruk', 'salak', 'nanas']\n"
     ]
    }
   ],
   "source": [
    "print(buah_buahan)"
   ]
  },
  {
   "cell_type": "code",
   "execution_count": 62,
   "id": "8d889a8f",
   "metadata": {},
   "outputs": [
    {
     "data": {
      "text/plain": [
       "['apel', 'pisang', 'jeruk', 'salak', 'nanas', 'duku', 'semangka']"
      ]
     },
     "execution_count": 62,
     "metadata": {},
     "output_type": "execute_result"
    }
   ],
   "source": [
    "# selain append kita bisa pakai + aritmatik\n",
    "buah_buahan + [\"duku\", \"semangka\"]"
   ]
  },
  {
   "attachments": {},
   "cell_type": "markdown",
   "id": "45267d85",
   "metadata": {},
   "source": [
    "\\+ menambah tapi tidak menyimpan hasil akhir ke variable awal"
   ]
  },
  {
   "cell_type": "code",
   "execution_count": 63,
   "id": "cb4760fe",
   "metadata": {},
   "outputs": [
    {
     "name": "stdout",
     "output_type": "stream",
     "text": [
      "['apel', 'pisang', 'jeruk', 'salak', 'nanas']\n"
     ]
    }
   ],
   "source": [
    "print(buah_buahan)"
   ]
  },
  {
   "cell_type": "code",
   "execution_count": 64,
   "id": "dcd80b25",
   "metadata": {},
   "outputs": [],
   "source": [
    "# nama kerennya \"reassign variable\" kita isi ulang variable kita dengan data baru\n",
    "buah_buahan = buah_buahan + [\"duku\", \"semangka\"]"
   ]
  },
  {
   "cell_type": "code",
   "execution_count": 65,
   "id": "1e28d39c",
   "metadata": {},
   "outputs": [
    {
     "name": "stdout",
     "output_type": "stream",
     "text": [
      "['apel', 'pisang', 'jeruk', 'salak', 'nanas', 'duku', 'semangka']\n"
     ]
    }
   ],
   "source": [
    "print(buah_buahan)"
   ]
  },
  {
   "cell_type": "code",
   "execution_count": 66,
   "id": "7d924c50",
   "metadata": {},
   "outputs": [
    {
     "name": "stdout",
     "output_type": "stream",
     "text": [
      "['apel', 'pisang', 'jeruk', 'salak', 'nanas', 'semangka']\n"
     ]
    }
   ],
   "source": [
    "# untuk menghapus, kita bisa pakai remove()\n",
    "buah_buahan.remove(\"duku\")\n",
    "\n",
    "print(buah_buahan)"
   ]
  },
  {
   "attachments": {},
   "cell_type": "markdown",
   "id": "7db24aaa",
   "metadata": {},
   "source": [
    "untuk menghapus yang pakai index, kita bisa pakai pop()"
   ]
  },
  {
   "cell_type": "code",
   "execution_count": 67,
   "id": "a00dd616",
   "metadata": {},
   "outputs": [
    {
     "name": "stdout",
     "output_type": "stream",
     "text": [
      "['apel', 'jeruk', 'salak', 'nanas', 'semangka']\n"
     ]
    }
   ],
   "source": [
    "buah_buahan.pop(1)\n",
    "\n",
    "print(buah_buahan)"
   ]
  },
  {
   "attachments": {},
   "cell_type": "markdown",
   "id": "1e17e9fd",
   "metadata": {},
   "source": [
    "\\* aritmatik multiply bisa juga kita gunakan untuk list"
   ]
  },
  {
   "cell_type": "code",
   "execution_count": 68,
   "id": "f46582f0",
   "metadata": {},
   "outputs": [
    {
     "name": "stdout",
     "output_type": "stream",
     "text": [
      "['apel', 'jeruk', 'salak', 'nanas', 'semangka', 'apel', 'jeruk', 'salak', 'nanas', 'semangka', 'apel', 'jeruk', 'salak', 'nanas', 'semangka']\n"
     ]
    }
   ],
   "source": [
    "print(buah_buahan * 3)"
   ]
  },
  {
   "attachments": {},
   "cell_type": "markdown",
   "id": "11f0261f",
   "metadata": {},
   "source": [
    "untuk mengubah item dalam list, kita pilih index tertentu, lalu kita re assign"
   ]
  },
  {
   "cell_type": "code",
   "execution_count": 69,
   "id": "6400281d",
   "metadata": {},
   "outputs": [
    {
     "name": "stdout",
     "output_type": "stream",
     "text": [
      "['apel', 'jeruk', 'salak', 'nanas', 'semangka']\n"
     ]
    }
   ],
   "source": [
    "print(buah_buahan)"
   ]
  },
  {
   "cell_type": "code",
   "execution_count": 70,
   "id": "e7ec549e",
   "metadata": {},
   "outputs": [
    {
     "name": "stdout",
     "output_type": "stream",
     "text": [
      "['apel', 'jeruk', 'buah naga', 'nanas', 'semangka']\n"
     ]
    }
   ],
   "source": [
    "# kita ubah salak menjadi buah naga\n",
    "\n",
    "buah_buahan[2] = \"buah naga\"\n",
    "\n",
    "print(buah_buahan)"
   ]
  },
  {
   "attachments": {},
   "cell_type": "markdown",
   "id": "9d37b769",
   "metadata": {},
   "source": [
    "untuk menghapus list, kita bisa hapus sepenuhnya sampai variable nya gk tersisa menggunakan keyword del\n",
    "```python\n",
    "del buah_buahan\n",
    "```\n",
    "\n",
    "tapi tidak di rekomen, karena nanti kita lupa sendiri kapan sebuah variable ada, dan kapan tidak.\n",
    "lebih umum, kita kosongkan saja list nya. reassign ke [] atau pakai clear().\n",
    "\n",
    "```python\n",
    "buah_buahan = []\n",
    "\n",
    "buah_buahan.remove()\n",
    "```"
   ]
  },
  {
   "cell_type": "code",
   "execution_count": 71,
   "id": "fcb30763",
   "metadata": {},
   "outputs": [
    {
     "name": "stdout",
     "output_type": "stream",
     "text": [
      "[]\n"
     ]
    }
   ],
   "source": [
    "buah_buahan = []\n",
    "\n",
    "print(buah_buahan)"
   ]
  },
  {
   "cell_type": "code",
   "execution_count": 72,
   "id": "7d00832f",
   "metadata": {},
   "outputs": [
    {
     "data": {
      "text/plain": [
       "False"
      ]
     },
     "execution_count": 72,
     "metadata": {},
     "output_type": "execute_result"
    }
   ],
   "source": [
    "bool(buah_buahan)"
   ]
  },
  {
   "attachments": {},
   "cell_type": "markdown",
   "id": "2c2e7531",
   "metadata": {},
   "source": [
    "# Tuple\n",
    "mirip list, tapi dia tidak bisa di edit2 isinya, tidak bisa ditambah, tidak bisa dikurangi\n",
    "\n",
    "dibuat dengan ()\n",
    "\n",
    "sama dengan list, punya index\n",
    "\n",
    "untuk segrup data yang kita tidak mau ubah2, kita masukin tuple supaya kalau gk sengaja keubah lsg error"
   ]
  },
  {
   "cell_type": "code",
   "execution_count": 73,
   "id": "820c3619",
   "metadata": {},
   "outputs": [
    {
     "name": "stdout",
     "output_type": "stream",
     "text": [
      "[75, 95, 80, 10, 52]\n"
     ]
    }
   ],
   "source": [
    "print(nilai_kelas_a)"
   ]
  },
  {
   "cell_type": "code",
   "execution_count": 74,
   "id": "5fef5940",
   "metadata": {},
   "outputs": [
    {
     "name": "stdout",
     "output_type": "stream",
     "text": [
      "[85, 95, 80, 10, 52]\n"
     ]
    }
   ],
   "source": [
    "# kalau pakai list kita bisa ubah\n",
    "nilai_kelas_a[0] = nilai_kelas_a[0]+10\n",
    "\n",
    "print(nilai_kelas_a)"
   ]
  },
  {
   "cell_type": "code",
   "execution_count": 75,
   "id": "c1ec221f",
   "metadata": {},
   "outputs": [
    {
     "name": "stdout",
     "output_type": "stream",
     "text": [
      "(85, 95, 80, 10, 52)\n"
     ]
    }
   ],
   "source": [
    "# kalau pakai tuple, tidak bisa diubah\n",
    "nilai_kelas_a = tuple(nilai_kelas_a)\n",
    "\n",
    "print(nilai_kelas_a)"
   ]
  },
  {
   "cell_type": "code",
   "execution_count": 76,
   "id": "02ccd21b",
   "metadata": {},
   "outputs": [
    {
     "ename": "TypeError",
     "evalue": "'tuple' object does not support item assignment",
     "output_type": "error",
     "traceback": [
      "\u001b[1;31m---------------------------------------------------------------------------\u001b[0m",
      "\u001b[1;31mTypeError\u001b[0m                                 Traceback (most recent call last)",
      "\u001b[1;32mc:\\Users\\stefa\\Documents\\PYTN091\\Sesi 1\\sesi1.ipynb Cell 96\u001b[0m in \u001b[0;36m<cell line: 1>\u001b[1;34m()\u001b[0m\n\u001b[1;32m----> <a href='vscode-notebook-cell:/c%3A/Users/stefa/Documents/PYTN091/Sesi%201/sesi1.ipynb#Y200sZmlsZQ%3D%3D?line=0'>1</a>\u001b[0m nilai_kelas_a[\u001b[39m0\u001b[39m] \u001b[39m=\u001b[39m nilai_kelas_a[\u001b[39m0\u001b[39m] \u001b[39m+\u001b[39m \u001b[39m10\u001b[39m\n",
      "\u001b[1;31mTypeError\u001b[0m: 'tuple' object does not support item assignment"
     ]
    }
   ],
   "source": [
    "nilai_kelas_a[0] = nilai_kelas_a[0] + 10"
   ]
  },
  {
   "cell_type": "code",
   "execution_count": 77,
   "id": "3ad7d47e",
   "metadata": {},
   "outputs": [
    {
     "ename": "AttributeError",
     "evalue": "'tuple' object has no attribute 'append'",
     "output_type": "error",
     "traceback": [
      "\u001b[1;31m---------------------------------------------------------------------------\u001b[0m",
      "\u001b[1;31mAttributeError\u001b[0m                            Traceback (most recent call last)",
      "\u001b[1;32mc:\\Users\\stefa\\Documents\\PYTN091\\Sesi 1\\sesi1.ipynb Cell 97\u001b[0m in \u001b[0;36m<cell line: 1>\u001b[1;34m()\u001b[0m\n\u001b[1;32m----> <a href='vscode-notebook-cell:/c%3A/Users/stefa/Documents/PYTN091/Sesi%201/sesi1.ipynb#Y201sZmlsZQ%3D%3D?line=0'>1</a>\u001b[0m nilai_kelas_a\u001b[39m.\u001b[39;49mappend(\u001b[39m90\u001b[39m)\n",
      "\u001b[1;31mAttributeError\u001b[0m: 'tuple' object has no attribute 'append'"
     ]
    }
   ],
   "source": [
    "nilai_kelas_a.append(90)"
   ]
  },
  {
   "cell_type": "code",
   "execution_count": 78,
   "id": "5d0a2d13",
   "metadata": {},
   "outputs": [
    {
     "data": {
      "text/plain": [
       "52"
      ]
     },
     "execution_count": 78,
     "metadata": {},
     "output_type": "execute_result"
    }
   ],
   "source": [
    "nilai_kelas_a[-1]"
   ]
  },
  {
   "attachments": {},
   "cell_type": "markdown",
   "id": "34fa84e9",
   "metadata": {},
   "source": [
    "# Dictionary\n",
    "kalau list menggunakan index, di dictionary kita gunakan keyword, key, sebuah string.\n",
    "\n",
    "index kita gantikan dengan key (str)\n",
    "\n",
    "key nya kita pilih sendiri. karena itu setiap item dalam dictionary adalah sepasang key value. key(str) dan value (tipe data bebas)"
   ]
  },
  {
   "cell_type": "code",
   "execution_count": 79,
   "id": "01a10970",
   "metadata": {},
   "outputs": [
    {
     "name": "stdout",
     "output_type": "stream",
     "text": [
      "{'andi': 75, 'budi': 85, 'cindy': 69, 'dennis': 73, 'ed': 20}\n"
     ]
    }
   ],
   "source": [
    "# kalau kita buat jadi dictionary, kita bisa simpan nama murid sebagai key\n",
    "nilai_kelas_a = {\n",
    "    \"andi\": 75,\n",
    "    \"budi\": 85,\n",
    "    \"cindy\": 69,\n",
    "    \"dennis\": 73,\n",
    "    \"ed\": 20\n",
    "}\n",
    "\n",
    "print(nilai_kelas_a)"
   ]
  },
  {
   "attachments": {},
   "cell_type": "markdown",
   "id": "eb4cb0f0",
   "metadata": {},
   "source": [
    "kalau pakai list biasanya ada beberapa list.\n",
    "\n",
    "list nama murid, list nilai murid, list nomor id murid.\n",
    "\n",
    "kalau pakai dictionary, lebih banyak informasi bisa disimpan di satu variable."
   ]
  },
  {
   "cell_type": "code",
   "execution_count": 80,
   "id": "4b7a908b",
   "metadata": {},
   "outputs": [
    {
     "name": "stdout",
     "output_type": "stream",
     "text": [
      "{'andi': {'nilai': 75, 'id': 'PYTN091001', 'fullname': 'Andhika Widjaja'}, 'budi': {'nilai': 85, 'id': 'PYTN091002', 'fullname': 'Budi Budiman'}, 'cindy': {'nilai': 75, 'id': 'PYTN091003', 'fullname': 'Cindy Tamihardja'}}\n"
     ]
    }
   ],
   "source": [
    "kelas_a = {\n",
    "    \"andi\": {\n",
    "        \"nilai\":75,\n",
    "        \"id\": \"PYTN091001\",\n",
    "        \"fullname\":\"Andhika Widjaja\"\n",
    "    },\n",
    "    \"budi\": {\n",
    "        \"nilai\":85,\n",
    "        \"id\": \"PYTN091002\",\n",
    "        \"fullname\":\"Budi Budiman\"\n",
    "    },\n",
    "    \"cindy\": {\n",
    "        \"nilai\":75,\n",
    "        \"id\": \"PYTN091003\",\n",
    "        \"fullname\":\"Cindy Tamihardja\"\n",
    "    }\n",
    "}\n",
    "\n",
    "print(kelas_a)"
   ]
  },
  {
   "cell_type": "code",
   "execution_count": 81,
   "id": "d82d8141",
   "metadata": {},
   "outputs": [
    {
     "name": "stdout",
     "output_type": "stream",
     "text": [
      "{'andi': 75, 'budi': 85, 'cindy': 69, 'dennis': 73, 'ed': 20}\n"
     ]
    }
   ],
   "source": [
    "\n",
    "print(nilai_kelas_a)"
   ]
  },
  {
   "cell_type": "code",
   "execution_count": 82,
   "id": "adcefb15",
   "metadata": {},
   "outputs": [
    {
     "data": {
      "text/plain": [
       "75"
      ]
     },
     "execution_count": 82,
     "metadata": {},
     "output_type": "execute_result"
    }
   ],
   "source": [
    "nilai_kelas_a['andi']"
   ]
  },
  {
   "cell_type": "code",
   "execution_count": 83,
   "id": "fbd5ca23",
   "metadata": {},
   "outputs": [
    {
     "data": {
      "text/plain": [
       "75"
      ]
     },
     "execution_count": 83,
     "metadata": {},
     "output_type": "execute_result"
    }
   ],
   "source": [
    "{\"andi\": 75, \"budi\": 85, \"cindy\": 69, \"dennis\": 73, \"ed\": 20 }['andi']"
   ]
  },
  {
   "attachments": {},
   "cell_type": "markdown",
   "id": "6466a46c",
   "metadata": {},
   "source": [
    "dictionary kita ambil 1 item menggunakan keyword nya. mirip list pakai index. dictionary pakai key."
   ]
  },
  {
   "cell_type": "code",
   "execution_count": null,
   "id": "0a23477e",
   "metadata": {},
   "outputs": [],
   "source": []
  },
  {
   "attachments": {},
   "cell_type": "markdown",
   "id": "ffc42df4",
   "metadata": {},
   "source": [
    "demikian cara buat dan baca sebuah dictionary\n",
    "\n",
    "berikutnya untuk edit dan hapus dictionary\n",
    "- mengubah sebuah value dari sebuah key dalam dictionary, misal ubah nilai \"andi\"\n",
    "- menambah key:value ke sebuah dictionary, misal nambah nilainya \"fifi\" yang dapat 60\n",
    "- hapus sebuah key:value misal \"ed\" keluar dari kelas a\n",
    "- mengosongkan dictionary, bisa pakai del (variable terhapus) atau lebih umum di reassign jadi {}"
   ]
  },
  {
   "cell_type": "code",
   "execution_count": 84,
   "id": "12ae57b0",
   "metadata": {},
   "outputs": [
    {
     "name": "stdout",
     "output_type": "stream",
     "text": [
      "{'andi': 75, 'budi': 85, 'cindy': 69, 'dennis': 73, 'ed': 20}\n"
     ]
    }
   ],
   "source": [
    "print(nilai_kelas_a)"
   ]
  },
  {
   "cell_type": "code",
   "execution_count": 85,
   "id": "ff9da180",
   "metadata": {},
   "outputs": [],
   "source": [
    "# ubah\n",
    "nilai_kelas_a[\"andi\"] = 80"
   ]
  },
  {
   "cell_type": "code",
   "execution_count": 86,
   "id": "43b32348",
   "metadata": {},
   "outputs": [
    {
     "name": "stdout",
     "output_type": "stream",
     "text": [
      "{'andi': 80, 'budi': 85, 'cindy': 69, 'dennis': 73, 'ed': 20}\n"
     ]
    }
   ],
   "source": [
    "print(nilai_kelas_a)"
   ]
  },
  {
   "cell_type": "code",
   "execution_count": 87,
   "id": "2b7a97e1",
   "metadata": {},
   "outputs": [],
   "source": [
    "# nambah\n",
    "nilai_kelas_a[\"fifi\"] = 60"
   ]
  },
  {
   "cell_type": "code",
   "execution_count": 88,
   "id": "669d2771",
   "metadata": {},
   "outputs": [
    {
     "name": "stdout",
     "output_type": "stream",
     "text": [
      "{'andi': 80, 'budi': 85, 'cindy': 69, 'dennis': 73, 'ed': 20, 'fifi': 60}\n"
     ]
    }
   ],
   "source": [
    "print(nilai_kelas_a)"
   ]
  },
  {
   "cell_type": "code",
   "execution_count": 89,
   "id": "6f3b730b",
   "metadata": {},
   "outputs": [
    {
     "name": "stdout",
     "output_type": "stream",
     "text": [
      "{'andi': 80, 'budi': 85, 'cindy': 69, 'dennis': 73, 'fifi': 60}\n"
     ]
    }
   ],
   "source": [
    "# hapus\n",
    "del nilai_kelas_a[\"ed\"]\n",
    "\n",
    "print(nilai_kelas_a)"
   ]
  },
  {
   "attachments": {},
   "cell_type": "markdown",
   "id": "8a72cca2",
   "metadata": {},
   "source": [
    "\n",
    "kalau tidak mau keyword nya hilang sama sekali, kita bisa reassign saja\n",
    "\n",
    "```python\n",
    "nilai_kelas_a[\"ed\"] = 0\n",
    "```"
   ]
  },
  {
   "attachments": {},
   "cell_type": "markdown",
   "id": "4a74b2a4",
   "metadata": {},
   "source": [
    "dictionary nya sendiri mau dihapus\n",
    "```python\n",
    "del nilai_kelas_a #variable juga hilang\n",
    "\n",
    "nilai_kelas_a = {} # lebih umum\n",
    "```"
   ]
  },
  {
   "attachments": {},
   "cell_type": "markdown",
   "id": "54df8662",
   "metadata": {},
   "source": [
    "kadang kalau punya tipe data dictionary, kita mau tau isinya ada berapa, apa saja, bagaimana caranya\n",
    "- selain len untuk jumlah key:value\n",
    "\n",
    "kita bisa dapat list kalau:\n",
    "- minta key saja pakai .keys()\n",
    "- minta values saja pakai .values()\n",
    "- minta item2 nya dipisah menjadi tuple masing2 menggunakan .items()"
   ]
  },
  {
   "cell_type": "code",
   "execution_count": 90,
   "id": "2422a2f6",
   "metadata": {},
   "outputs": [
    {
     "data": {
      "text/plain": [
       "5"
      ]
     },
     "execution_count": 90,
     "metadata": {},
     "output_type": "execute_result"
    }
   ],
   "source": [
    "len(nilai_kelas_a)"
   ]
  },
  {
   "cell_type": "code",
   "execution_count": 91,
   "id": "f8408ea5",
   "metadata": {},
   "outputs": [
    {
     "data": {
      "text/plain": [
       "dict_keys(['andi', 'budi', 'cindy', 'dennis', 'fifi'])"
      ]
     },
     "execution_count": 91,
     "metadata": {},
     "output_type": "execute_result"
    }
   ],
   "source": [
    "nilai_kelas_a.keys()"
   ]
  },
  {
   "cell_type": "code",
   "execution_count": 92,
   "id": "7f6fffc9",
   "metadata": {},
   "outputs": [
    {
     "data": {
      "text/plain": [
       "dict_values([80, 85, 69, 73, 60])"
      ]
     },
     "execution_count": 92,
     "metadata": {},
     "output_type": "execute_result"
    }
   ],
   "source": [
    "nilai_kelas_a.values()"
   ]
  },
  {
   "cell_type": "code",
   "execution_count": 93,
   "id": "bbd23db2",
   "metadata": {},
   "outputs": [
    {
     "data": {
      "text/plain": [
       "dict_items([('andi', 80), ('budi', 85), ('cindy', 69), ('dennis', 73), ('fifi', 60)])"
      ]
     },
     "execution_count": 93,
     "metadata": {},
     "output_type": "execute_result"
    }
   ],
   "source": [
    "nilai_kelas_a.items()"
   ]
  },
  {
   "attachments": {},
   "cell_type": "markdown",
   "id": "c22be9c4",
   "metadata": {},
   "source": [
    "kalau dilihat tipe datanya, bukan list atau tuple, tapi dict_keys, dict_values, dict_items. kalau mau kita gunakan sebagai list, kita convert dulu"
   ]
  },
  {
   "cell_type": "code",
   "execution_count": 96,
   "id": "29b634d0",
   "metadata": {},
   "outputs": [
    {
     "name": "stdout",
     "output_type": "stream",
     "text": [
      "['andi', 'budi', 'cindy', 'dennis', 'fifi'] <class 'list'>\n",
      "[80, 85, 69, 73, 60]\n",
      "[('andi', 80), ('budi', 85), ('cindy', 69), ('dennis', 73), ('fifi', 60)]\n"
     ]
    }
   ],
   "source": [
    "murid_kelas_a = list(nilai_kelas_a.keys())\n",
    "hasil_ujian_kelas_a = list(nilai_kelas_a.values())\n",
    "detail_kelas_a = list(nilai_kelas_a.items())\n",
    "\n",
    "print(murid_kelas_a, type(murid_kelas_a))\n",
    "print(hasil_ujian_kelas_a)\n",
    "print(detail_kelas_a)"
   ]
  },
  {
   "attachments": {},
   "cell_type": "markdown",
   "id": "994400f1",
   "metadata": {},
   "source": [
    "## komparasi\n",
    "selain untuk membandingkan dua data, variable atau raw data, komparasi bisa juga sedikit lebih panjang.\n",
    "\n",
    "kita bisa cek misalakan: apakah umur andi di antara 17 dan 65\n",
    "\n",
    "kita pakai operator \"and\" selain < > <= >= ==\n",
    "\n",
    "\n",
    "kalau mau cek kondisi yang salah satu boleh, misalkan boleh naik wahana kalau umur diatas 12 atau ditemani orang tua\n",
    "\n",
    "kita pakai operator \"or\""
   ]
  },
  {
   "cell_type": "code",
   "execution_count": 97,
   "id": "d953ee8f",
   "metadata": {},
   "outputs": [
    {
     "name": "stdout",
     "output_type": "stream",
     "text": [
      "umur ada di antara 17 dan 65\n",
      "True\n"
     ]
    }
   ],
   "source": [
    "umur = 30\n",
    "\n",
    "print(\"umur ada di antara 17 dan 65\")\n",
    "print(umur >= 17 and umur <= 65)"
   ]
  },
  {
   "attachments": {},
   "cell_type": "markdown",
   "id": "797fa9d2",
   "metadata": {},
   "source": [
    "code berikut sama persis dengan code diatas, cuma kita kurung kurung code nya pakai () biasanya untuk membuat lebih mudah dibaca code nya"
   ]
  },
  {
   "cell_type": "code",
   "execution_count": 99,
   "id": "c4bd8995",
   "metadata": {},
   "outputs": [
    {
     "name": "stdout",
     "output_type": "stream",
     "text": [
      "umur ada di antara 17 dan 65\n",
      "True\n"
     ]
    }
   ],
   "source": [
    "umur = 30\n",
    "\n",
    "print(\"umur ada di antara 17 dan 65\")\n",
    "print(\n",
    "    (\n",
    "        (umur >= 17) and \n",
    "        (umur <= 65)\n",
    "    )\n",
    ")"
   ]
  },
  {
   "cell_type": "code",
   "execution_count": 100,
   "id": "8d23364f",
   "metadata": {},
   "outputs": [
    {
     "name": "stdout",
     "output_type": "stream",
     "text": [
      "boleh kalau umur diatas 12 atau ditemani orang tua\n",
      "True\n"
     ]
    }
   ],
   "source": [
    "umur = 15\n",
    "ditemani_orang_tua = False\n",
    "\n",
    "print(\"boleh kalau umur diatas 12 atau ditemani orang tua\")\n",
    "print(umur >= 12 or ditemani_orang_tua)"
   ]
  },
  {
   "cell_type": "code",
   "execution_count": 101,
   "id": "f7dfd5ef",
   "metadata": {},
   "outputs": [
    {
     "name": "stdout",
     "output_type": "stream",
     "text": [
      "boleh kalau umur diatas 12 atau ditemani orang tua\n",
      "True\n"
     ]
    }
   ],
   "source": [
    "umur = 15\n",
    "ditemani_orang_tua = False\n",
    "\n",
    "print(\"boleh kalau umur diatas 12 atau ditemani orang tua\")\n",
    "print(\n",
    "    (\n",
    "        (umur >= 12) or \n",
    "        ditemani_orang_tua\n",
    "    )\n",
    ")"
   ]
  },
  {
   "cell_type": "code",
   "execution_count": null,
   "id": "7ae98378",
   "metadata": {},
   "outputs": [],
   "source": []
  }
 ],
 "metadata": {
  "kernelspec": {
   "display_name": "base",
   "language": "python",
   "name": "python3"
  },
  "language_info": {
   "codemirror_mode": {
    "name": "ipython",
    "version": 3
   },
   "file_extension": ".py",
   "mimetype": "text/x-python",
   "name": "python",
   "nbconvert_exporter": "python",
   "pygments_lexer": "ipython3",
   "version": "3.9.13"
  },
  "vscode": {
   "interpreter": {
    "hash": "4f523f7c76dd18e7ed336217f32f6f704c23c323644912475b9d3570cf04b060"
   }
  }
 },
 "nbformat": 4,
 "nbformat_minor": 5
}
