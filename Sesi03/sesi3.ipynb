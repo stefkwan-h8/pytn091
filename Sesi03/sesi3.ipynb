{
 "cells": [
  {
   "attachments": {},
   "cell_type": "markdown",
   "metadata": {},
   "source": [
    "# Functions, Module, and Package\n",
    "\n",
    "## Function\n",
    "adalah sebuah teknik/ cara untuk mengelompokkan code\n",
    "\n",
    "biasanya untuk memudahkan menggunakan code yang sama berulang kali, karena function punya nama. mirip variable, bisa dipanggil. bedanya, variable itu pasif cuma untuk dibaca, sementara function perlu kita \"invoke\" pakai `()` untuk dijalankan code2nya. tanpa dijalankan, function hanya diam saja menyimpan code."
   ]
  },
  {
   "cell_type": "code",
   "execution_count": 10,
   "metadata": {},
   "outputs": [
    {
     "data": {
      "text/plain": [
       "['Andi PYTN', 'Budi PYTN', 'Cindy PYTN']"
      ]
     },
     "execution_count": 10,
     "metadata": {},
     "output_type": "execute_result"
    }
   ],
   "source": [
    "list_murid = [\"Andi\", \"Budi\", \"Cindy\"]\n",
    "\n",
    "list_murid_pytn = []\n",
    "\n",
    "for murid in list_murid:\n",
    "    list_murid_pytn.append(murid + \" PYTN\")\n",
    "\n",
    "list_murid_pytn"
   ]
  },
  {
   "cell_type": "code",
   "execution_count": 12,
   "metadata": {},
   "outputs": [
    {
     "data": {
      "text/plain": [
       "['Kevin PYTN', 'Leo PYTN', 'Hari PYTN']"
      ]
     },
     "execution_count": 12,
     "metadata": {},
     "output_type": "execute_result"
    }
   ],
   "source": [
    "list_murid_2 = [\"Kevin\", \"Leo\", \"Hari\"]\n",
    "\n",
    "list_murid_pytn = []\n",
    "\n",
    "for murid in list_murid_2:\n",
    "    list_murid_pytn.append(murid + \" PYTN\")\n",
    "\n",
    "list_murid_pytn"
   ]
  },
  {
   "cell_type": "code",
   "execution_count": 17,
   "metadata": {},
   "outputs": [],
   "source": [
    "def nambahPYTN(list_str):\n",
    "    list_murid_pytn = []\n",
    "\n",
    "    for murid in list_str:\n",
    "        list_murid_pytn.append(murid + \" PYTN\")\n",
    "\n",
    "    print(list_murid_pytn)"
   ]
  },
  {
   "attachments": {},
   "cell_type": "markdown",
   "metadata": {},
   "source": [
    "function diatas menunggu sebuah variable list_str diisi saat function dijalankan"
   ]
  },
  {
   "cell_type": "code",
   "execution_count": 14,
   "metadata": {},
   "outputs": [
    {
     "data": {
      "text/plain": [
       "<function __main__.nambahPYTN(list_str)>"
      ]
     },
     "execution_count": 14,
     "metadata": {},
     "output_type": "execute_result"
    }
   ],
   "source": [
    "nambahPYTN"
   ]
  },
  {
   "attachments": {},
   "cell_type": "markdown",
   "metadata": {},
   "source": [
    "function kita jalankan dengan `()`"
   ]
  },
  {
   "cell_type": "code",
   "execution_count": 15,
   "metadata": {},
   "outputs": [
    {
     "ename": "TypeError",
     "evalue": "nambahPYTN() missing 1 required positional argument: 'list_str'",
     "output_type": "error",
     "traceback": [
      "\u001b[1;31m---------------------------------------------------------------------------\u001b[0m",
      "\u001b[1;31mTypeError\u001b[0m                                 Traceback (most recent call last)",
      "\u001b[1;32mc:\\Users\\stefa\\Documents\\PYTN091\\Sesi 3\\sesi3.ipynb Cell 8\u001b[0m in \u001b[0;36m<cell line: 1>\u001b[1;34m()\u001b[0m\n\u001b[1;32m----> <a href='vscode-notebook-cell:/c%3A/Users/stefa/Documents/PYTN091/Sesi%203/sesi3.ipynb#X13sZmlsZQ%3D%3D?line=0'>1</a>\u001b[0m nambahPYTN()\n",
      "\u001b[1;31mTypeError\u001b[0m: nambahPYTN() missing 1 required positional argument: 'list_str'"
     ]
    }
   ],
   "source": [
    "nambahPYTN()"
   ]
  },
  {
   "attachments": {},
   "cell_type": "markdown",
   "metadata": {},
   "source": [
    "kita bisa isi list_str walaupun variable ini belum kita buat.\n",
    "\n",
    "variable ini (parameter/ argumen) dibuat di dalam function namaPYTN() tapi bisa kita isi di luar, saat kita jalankan functionnya."
   ]
  },
  {
   "cell_type": "code",
   "execution_count": 18,
   "metadata": {},
   "outputs": [
    {
     "name": "stdout",
     "output_type": "stream",
     "text": [
      "['a PYTN', 'b PYTN', 'c PYTN']\n"
     ]
    }
   ],
   "source": [
    "nambahPYTN([\"a\", \"b\", \"c\"])"
   ]
  },
  {
   "attachments": {},
   "cell_type": "markdown",
   "metadata": {},
   "source": [
    "Pada dasarnya, function digunakan untuk memberi nama dan mengelompokkan code.\n",
    "\n",
    "membuat function menggunakan keyword `def` diikuti nama function diikuti sebuah kurung biasa `()`.\n",
    "- nama function biasanya ada dalam bentuk camelCase\n",
    "- kurung biasa tersebut bisa kita isi dengan parameter/ argumen milik function tersebut.\n",
    "\n",
    "parameter/argumen adalah variable spesial yang dibuat di dalam function tersebut, tapi diisi di luar function tersebut. dia diisi saat function sedang di \"invoke\" sedang dijalankan.\n",
    "\n",
    "tidak ada parameter juga gpp. bisa ada lebih dari 1 parameter. tidak ada limit max jumlah parameter.\n",
    "\n",
    "---\n",
    "### hari ini kita akan pelajari function\n",
    "1. function tanpa parameter\n",
    "2. funtion dengan parameter\n",
    "3. function yang ada return\n",
    "\n",
    "---\n",
    "### dan jenis jenis parameter yang digunakan di sebuah function\n",
    "..."
   ]
  },
  {
   "cell_type": "code",
   "execution_count": 19,
   "metadata": {},
   "outputs": [],
   "source": [
    "# function tanpa parameter\n",
    "\n",
    "# hitung string \"a\" yang ada di sebuah string\n",
    "\"abcd\" # terhitung 1, kita print (\"ada 1\")\n",
    "# inputnya apa, outputnya apa\n",
    "\n",
    "def hitung():\n",
    "    counter = 0\n",
    "    for huruf in \"abcd\":\n",
    "        if (huruf == \"a\"):\n",
    "            counter = counter + 1\n",
    "\n",
    "    print(\"ada \" + str(counter) + \" huruf a di dalam \" + \"abcd\")"
   ]
  },
  {
   "cell_type": "code",
   "execution_count": 20,
   "metadata": {},
   "outputs": [
    {
     "data": {
      "text/plain": [
       "<function __main__.hitung()>"
      ]
     },
     "execution_count": 20,
     "metadata": {},
     "output_type": "execute_result"
    }
   ],
   "source": [
    "hitung"
   ]
  },
  {
   "cell_type": "code",
   "execution_count": 21,
   "metadata": {},
   "outputs": [
    {
     "name": "stdout",
     "output_type": "stream",
     "text": [
      "ada 1 huruf a di dalam abcd\n"
     ]
    }
   ],
   "source": [
    "hitung()"
   ]
  },
  {
   "cell_type": "code",
   "execution_count": 22,
   "metadata": {},
   "outputs": [
    {
     "name": "stdout",
     "output_type": "stream",
     "text": [
      "ada 1 huruf a di dalam abcd\n",
      "ada 1 huruf a di dalam abcd\n",
      "ada 1 huruf a di dalam abcd\n",
      "ada 1 huruf a di dalam abcd\n",
      "ada 1 huruf a di dalam abcd\n"
     ]
    }
   ],
   "source": [
    "hitung()\n",
    "hitung()\n",
    "hitung()\n",
    "hitung()\n",
    "hitung()"
   ]
  },
  {
   "attachments": {},
   "cell_type": "markdown",
   "metadata": {},
   "source": [
    "# coba bikin sebuah function tanpa parameter\n",
    "function misalnya memberi sapaan, \"halo saya ...nama... dari ...tpt kerja/ sekolah...\"\n",
    "function nya print message tersebut jadi setiap function di jalankan, message kelihatan\n",
    "\n",
    "silahkan coba kerjakan sampai --- 19.40 WIB"
   ]
  },
  {
   "cell_type": "code",
   "execution_count": 23,
   "metadata": {},
   "outputs": [],
   "source": [
    "def sapa():\n",
    "    # funtion ini akan print sapaan perkenalan dari developer program ini\n",
    "    print(\"halo saya Stefani dari Hacktiv8\")"
   ]
  },
  {
   "cell_type": "code",
   "execution_count": 24,
   "metadata": {},
   "outputs": [
    {
     "name": "stdout",
     "output_type": "stream",
     "text": [
      "halo saya Stefani dari Hacktiv8\n"
     ]
    }
   ],
   "source": [
    "sapa()"
   ]
  },
  {
   "attachments": {},
   "cell_type": "markdown",
   "metadata": {},
   "source": [
    "Selain itu, function juga bisa memiliki parameter/argumen\n",
    "\n",
    "function bisa menerima input, sebuah data, sebuah variable yang diisi saat function dipanggil - jadi setiap kali function dipanggil, bisa saja isi input nya beda beda"
   ]
  },
  {
   "cell_type": "code",
   "execution_count": 40,
   "metadata": {},
   "outputs": [],
   "source": [
    "def sapa(nama):\n",
    "    # funcion ini memberi sapaan dari seseorang yang memanggil function nya\n",
    "    print(\"salam kenal, saya \" + str(nama))"
   ]
  },
  {
   "cell_type": "code",
   "execution_count": 41,
   "metadata": {},
   "outputs": [
    {
     "name": "stdout",
     "output_type": "stream",
     "text": [
      "salam kenal, saya 123\n"
     ]
    }
   ],
   "source": [
    "sapa(123)"
   ]
  },
  {
   "cell_type": "code",
   "execution_count": 27,
   "metadata": {},
   "outputs": [
    {
     "name": "stdout",
     "output_type": "stream",
     "text": [
      "salam kenal, saya Andi\n"
     ]
    }
   ],
   "source": [
    "sapa(\"Andi\")"
   ]
  },
  {
   "cell_type": "code",
   "execution_count": 30,
   "metadata": {},
   "outputs": [
    {
     "name": "stdout",
     "output_type": "stream",
     "text": [
      "salam kenal, saya Ana\n",
      "salam kenal, saya Beti\n",
      "salam kenal, saya Charles\n",
      "salam kenal, saya Dedi\n"
     ]
    }
   ],
   "source": [
    "for murid in [\"Ana\", \"Beti\", \"Charles\", \"Dedi\"]:\n",
    "    sapa(murid)"
   ]
  },
  {
   "cell_type": "code",
   "execution_count": 32,
   "metadata": {},
   "outputs": [
    {
     "name": "stdout",
     "output_type": "stream",
     "text": [
      "a\n",
      "b\n",
      "c\n",
      "d\n"
     ]
    }
   ],
   "source": [
    "for murid in \"abcd\":\n",
    "    print(murid)"
   ]
  },
  {
   "cell_type": "code",
   "execution_count": 36,
   "metadata": {},
   "outputs": [
    {
     "name": "stdout",
     "output_type": "stream",
     "text": [
      "1 <class 'int'>\n",
      "2 <class 'int'>\n",
      "3 <class 'int'>\n"
     ]
    }
   ],
   "source": [
    "for murid in \"123\":\n",
    "    num = int(murid)\n",
    "    print(num, type(num))"
   ]
  },
  {
   "cell_type": "code",
   "execution_count": 37,
   "metadata": {},
   "outputs": [
    {
     "name": "stdout",
     "output_type": "stream",
     "text": [
      "0\n",
      "1\n",
      "2\n",
      "3\n",
      "4\n",
      "5\n",
      "6\n",
      "7\n",
      "8\n",
      "9\n"
     ]
    }
   ],
   "source": [
    "for n in range(10):\n",
    "    print(n)"
   ]
  },
  {
   "attachments": {},
   "cell_type": "markdown",
   "metadata": {},
   "source": [
    "note: yang termasuk koleksi \"iterable\" yang bisa di loop pakai for, adalah:\n",
    "- list\n",
    "- tuple\n",
    "- dictionary\n",
    "- string\n",
    "- range()"
   ]
  },
  {
   "cell_type": "code",
   "execution_count": 38,
   "metadata": {},
   "outputs": [
    {
     "name": "stdout",
     "output_type": "stream",
     "text": [
      "salam kenal, saya Ana\n",
      "salam kenal, saya Beti\n",
      "salam kenal, saya Charles\n",
      "salam kenal, saya Dedi\n"
     ]
    }
   ],
   "source": [
    "sapa(\"Ana\")\n",
    "sapa(\"Beti\")\n",
    "sapa(\"Charles\")\n",
    "sapa(\"Dedi\")"
   ]
  },
  {
   "attachments": {},
   "cell_type": "markdown",
   "metadata": {},
   "source": [
    "Setelah mencoba function dengan dan tanpa parameter, mari kita pindah fokus ke fungsionalitas dari function itu sendiri.\n",
    "\n",
    "seberapa bergunakah function yang nge print? hasil print gak bisa di save, jadi habis kalkulasi/ ubah data/ lain lain hasilnya cuma read-only.\n",
    "\n",
    "disinilah kita gunakan keyword `return` supaya hasil dari function bisa balik ke tempat function itu dijalankan, bisa di save ke variable."
   ]
  },
  {
   "cell_type": "code",
   "execution_count": 42,
   "metadata": {},
   "outputs": [
    {
     "name": "stdout",
     "output_type": "stream",
     "text": [
      "salam kenal, saya Henry\n"
     ]
    }
   ],
   "source": [
    "sapa(\"Henry\")"
   ]
  },
  {
   "cell_type": "code",
   "execution_count": 43,
   "metadata": {},
   "outputs": [
    {
     "name": "stdout",
     "output_type": "stream",
     "text": [
      "salam kenal, saya henry\n"
     ]
    }
   ],
   "source": [
    "henry_sapa = sapa(\"henry\")"
   ]
  },
  {
   "cell_type": "code",
   "execution_count": 44,
   "metadata": {},
   "outputs": [],
   "source": [
    "henry_sapa"
   ]
  },
  {
   "cell_type": "code",
   "execution_count": 45,
   "metadata": {},
   "outputs": [
    {
     "name": "stdout",
     "output_type": "stream",
     "text": [
      "None\n"
     ]
    }
   ],
   "source": [
    "print(henry_sapa)"
   ]
  },
  {
   "attachments": {},
   "cell_type": "markdown",
   "metadata": {},
   "source": [
    "kalau pakai `return`"
   ]
  },
  {
   "cell_type": "code",
   "execution_count": 46,
   "metadata": {},
   "outputs": [],
   "source": [
    "def sapa(nama):\n",
    "    # funcion ini membuat sapaan dari seseorang yang memanggil function nya lalu mengembalikan hasil sapaan tersebut\n",
    "    return \"salam kenal, saya \" + str(nama)"
   ]
  },
  {
   "cell_type": "code",
   "execution_count": 47,
   "metadata": {},
   "outputs": [
    {
     "data": {
      "text/plain": [
       "'salam kenal, saya Henry'"
      ]
     },
     "execution_count": 47,
     "metadata": {},
     "output_type": "execute_result"
    }
   ],
   "source": [
    "sapa(\"Henry\")"
   ]
  },
  {
   "cell_type": "code",
   "execution_count": 54,
   "metadata": {},
   "outputs": [
    {
     "data": {
      "text/plain": [
       "'a'"
      ]
     },
     "execution_count": 54,
     "metadata": {},
     "output_type": "execute_result"
    }
   ],
   "source": [
    "'salam kenal, saya Henry'\n",
    "'a'"
   ]
  },
  {
   "cell_type": "code",
   "execution_count": 55,
   "metadata": {},
   "outputs": [
    {
     "name": "stdout",
     "output_type": "stream",
     "text": [
      "salam kenal, saya Henry\n",
      "salam kenal, saya Henry\n"
     ]
    }
   ],
   "source": [
    "print('salam kenal, saya Henry')\n",
    "print('salam kenal, saya Henry')"
   ]
  },
  {
   "cell_type": "code",
   "execution_count": 50,
   "metadata": {},
   "outputs": [],
   "source": [
    "henry_sapa = sapa(\"Henry\")"
   ]
  },
  {
   "cell_type": "code",
   "execution_count": 53,
   "metadata": {},
   "outputs": [],
   "source": [
    "msg = \"H8\""
   ]
  },
  {
   "cell_type": "code",
   "execution_count": 51,
   "metadata": {},
   "outputs": [
    {
     "data": {
      "text/plain": [
       "'salam kenal, saya Henry'"
      ]
     },
     "execution_count": 51,
     "metadata": {},
     "output_type": "execute_result"
    }
   ],
   "source": [
    "henry_sapa"
   ]
  },
  {
   "cell_type": "code",
   "execution_count": 56,
   "metadata": {},
   "outputs": [
    {
     "data": {
      "text/plain": [
       "'salam kenal, saya Henry'"
      ]
     },
     "metadata": {},
     "output_type": "display_data"
    }
   ],
   "source": [
    "display(henry_sapa)"
   ]
  },
  {
   "cell_type": "code",
   "execution_count": 52,
   "metadata": {},
   "outputs": [
    {
     "name": "stdout",
     "output_type": "stream",
     "text": [
      "salam kenal, saya Henry\n"
     ]
    }
   ],
   "source": [
    "print(henry_sapa)"
   ]
  },
  {
   "cell_type": "code",
   "execution_count": 57,
   "metadata": {},
   "outputs": [],
   "source": [
    "# coba sekali lagi,\n",
    "\n",
    "def tambah5(a):\n",
    "    return a + 5"
   ]
  },
  {
   "cell_type": "code",
   "execution_count": 59,
   "metadata": {},
   "outputs": [],
   "source": [
    "hasil = tambah5(100)"
   ]
  },
  {
   "cell_type": "code",
   "execution_count": 60,
   "metadata": {},
   "outputs": [
    {
     "name": "stdout",
     "output_type": "stream",
     "text": [
      "105\n"
     ]
    }
   ],
   "source": [
    "print(hasil)"
   ]
  },
  {
   "attachments": {},
   "cell_type": "markdown",
   "metadata": {},
   "source": [
    "# coba buat sebuah function yang ada return nya\n",
    "boleh pakai parameter, boleh tidak\n",
    "\n",
    "coba buat function yang bisa mengembalikan data setelah dijalankan\n",
    "- simpan data ke variable\n",
    "- print atau display variable nya\n",
    "\n",
    "contoh: perkalian, print sebuah list belanjaan\n",
    "\n",
    "kita bahas --- 20.10 WIB"
   ]
  },
  {
   "cell_type": "code",
   "execution_count": 63,
   "metadata": {},
   "outputs": [],
   "source": [
    "# function menerima string dan mengembalikan string setelah diubah jadi huruf besar semua\n",
    "def echo(msg):\n",
    "    return str(msg).upper()"
   ]
  },
  {
   "cell_type": "code",
   "execution_count": 65,
   "metadata": {},
   "outputs": [
    {
     "name": "stdout",
     "output_type": "stream",
     "text": [
      "HALO\n"
     ]
    }
   ],
   "source": [
    "hasil = echo(\"halo\")\n",
    "print(hasil)"
   ]
  },
  {
   "cell_type": "code",
   "execution_count": 66,
   "metadata": {},
   "outputs": [
    {
     "name": "stdout",
     "output_type": "stream",
     "text": [
      "HALO\n"
     ]
    }
   ],
   "source": [
    "print(hasil)"
   ]
  },
  {
   "attachments": {},
   "cell_type": "markdown",
   "metadata": {},
   "source": [
    "biasanya pada bingung saat ada return dan ada print juga. karena kita melihat secara visual hal hal yang ditampilkan, tapi kita tidak kelihatan hal yang disimpan oleh variable.\n",
    "\n",
    "berikut dua function yang mirip, satu return, satu print"
   ]
  },
  {
   "cell_type": "code",
   "execution_count": 74,
   "metadata": {},
   "outputs": [],
   "source": [
    "def echoR(msg):\n",
    "    return str(msg).upper()\n",
    "\n",
    "def echoP(msg):\n",
    "    print(str(msg).upper(), \" ini dari hasil print echoP\")"
   ]
  },
  {
   "cell_type": "code",
   "execution_count": 75,
   "metadata": {},
   "outputs": [
    {
     "name": "stdout",
     "output_type": "stream",
     "text": [
      "TEST MESSAGE ini variable hasil\n"
     ]
    }
   ],
   "source": [
    "hasil = echoR(\"test message\")\n",
    "print(hasil, \"ini variable hasil\")"
   ]
  },
  {
   "cell_type": "code",
   "execution_count": 76,
   "metadata": {},
   "outputs": [
    {
     "name": "stdout",
     "output_type": "stream",
     "text": [
      "TEST JUGA  ini dari hasil print echoP\n",
      "None ini variable hasil\n"
     ]
    }
   ],
   "source": [
    "hasil = echoP(\"test juga\")\n",
    "print(hasil, \"ini variable hasil\")"
   ]
  },
  {
   "cell_type": "code",
   "execution_count": 77,
   "metadata": {},
   "outputs": [
    {
     "ename": "TypeError",
     "evalue": "echoP() missing 1 required positional argument: 'msg'",
     "output_type": "error",
     "traceback": [
      "\u001b[1;31m---------------------------------------------------------------------------\u001b[0m",
      "\u001b[1;31mTypeError\u001b[0m                                 Traceback (most recent call last)",
      "\u001b[1;32mc:\\Users\\stefa\\Documents\\PYTN091\\Sesi 3\\sesi3.ipynb Cell 55\u001b[0m in \u001b[0;36m<cell line: 1>\u001b[1;34m()\u001b[0m\n\u001b[1;32m----> <a href='vscode-notebook-cell:/c%3A/Users/stefa/Documents/PYTN091/Sesi%203/sesi3.ipynb#Y115sZmlsZQ%3D%3D?line=0'>1</a>\u001b[0m echoP()\n",
      "\u001b[1;31mTypeError\u001b[0m: echoP() missing 1 required positional argument: 'msg'"
     ]
    }
   ],
   "source": [
    "echoP()"
   ]
  },
  {
   "attachments": {},
   "cell_type": "markdown",
   "metadata": {},
   "source": [
    "### Jenis jenis argumen/ parameter berbeda di sebuah function\n",
    "- positional argumen (cara panggil, kita posisikan data sesuai urutan argumen dibuat)   \n",
    "- keyword argumen (cara panggil, kita gunakan nama argumen untuk mengisi data ke argumen tersebut)\n",
    "- required argumen, required positional argumen (argumen yang HARUS diisi saat function dipanggil)\n",
    "- default argumen (TIDAK HARUS diisi, dia punya default value)\n",
    "- variable-length argumen (paling aneh, ini adalah argumen yang panjangnya bisa 0-sebanyaknya, mirip list, tapi adalah sebuah argumen)\n"
   ]
  },
  {
   "cell_type": "code",
   "execution_count": 78,
   "metadata": {},
   "outputs": [
    {
     "name": "stdout",
     "output_type": "stream",
     "text": [
      "salam Andi di kantor, selamat pagi\n"
     ]
    }
   ],
   "source": [
    "# required argumen, harus diisi\n",
    "def sapa (nama, tempat, waktu):\n",
    "    print(\"salam \" + nama + \" di \" + tempat + \", selamat \" + waktu)\n",
    "\n",
    "\n",
    "# positional argumen\n",
    "# cara kita isi ketiga argumen diatas itu urut, nama duluan, baru tempat, baru waktu\n",
    "sapa(\"Andi\", \"kantor\", \"pagi\")"
   ]
  },
  {
   "cell_type": "code",
   "execution_count": 79,
   "metadata": {},
   "outputs": [
    {
     "name": "stdout",
     "output_type": "stream",
     "text": [
      "salam Budi di rumah, selamat pagi\n"
     ]
    }
   ],
   "source": [
    "# keyword argumen\n",
    "sapa(waktu=\"pagi\", tempat=\"rumah\", nama=\"Budi\")"
   ]
  },
  {
   "cell_type": "code",
   "execution_count": 83,
   "metadata": {},
   "outputs": [
    {
     "name": "stdout",
     "output_type": "stream",
     "text": [
      "salam pak/bu di kantor, selamat siang\n",
      "salam Ananda di kantor, selamat siang\n",
      "salam pak/bu di kantor, selamat malam\n",
      "salam pak/bu di rumah, selamat malam\n"
     ]
    }
   ],
   "source": [
    "# default argumen, tidak harus diisi\n",
    "def sapa (nama=\"pak/bu\", tempat=\"kantor\", waktu=\"siang\"):\n",
    "    print(\"salam \" + nama + \" di \" + tempat + \", selamat \" + waktu)\n",
    "\n",
    "\n",
    "sapa()\n",
    "sapa(\"Ananda\")\n",
    "sapa(waktu=\"malam\")\n",
    "sapa(tempat=\"rumah\", waktu=\"malam\")"
   ]
  },
  {
   "attachments": {},
   "cell_type": "markdown",
   "metadata": {},
   "source": [
    "bisa campur campur"
   ]
  },
  {
   "cell_type": "code",
   "execution_count": 85,
   "metadata": {},
   "outputs": [
    {
     "name": "stdout",
     "output_type": "stream",
     "text": [
      "salam pak/bu di rumah, selamat malam\n",
      "salam Shinta di rumah Sally, selamat pagi\n"
     ]
    }
   ],
   "source": [
    "# saat mencampur required dan default argumen, kita harus tulis semua required argumen duluan baru default argumen\n",
    "\n",
    "def sapa (tempat, waktu, nama=\"pak/bu\"):\n",
    "    print(\"salam \" + nama + \" di \" + tempat + \", selamat \" + waktu)\n",
    "\n",
    "sapa(\"rumah\", \"malam\") # cara panggil positional\n",
    "sapa(\"rumah Sally\", waktu=\"pagi\", nama=\"Shinta\") # cara panggil juga bisa nyampur positional dan keyword"
   ]
  },
  {
   "cell_type": "code",
   "execution_count": 90,
   "metadata": {},
   "outputs": [],
   "source": [
    "# variable-length argumen\n",
    "def sapa (waktu, tempat=\"sekolah\", *nama):\n",
    "    for orang in nama:\n",
    "        print(\"salam \" + str(orang))\n",
    "    print(\"anda sedang berada di \" + tempat + \" di \" + waktu + \" hari.\")"
   ]
  },
  {
   "cell_type": "code",
   "execution_count": 91,
   "metadata": {},
   "outputs": [
    {
     "name": "stdout",
     "output_type": "stream",
     "text": [
      "salam andi\n",
      "salam budi\n",
      "salam cantika\n",
      "salam denisa\n",
      "salam edison\n",
      "salam fifi\n",
      "anda sedang berada di sekolah di pagi hari.\n"
     ]
    }
   ],
   "source": [
    "sapa(\"pagi\", \"sekolah\", \"andi\", \"budi\", \"cantika\", \"denisa\", \"edison\", \"fifi\")"
   ]
  },
  {
   "attachments": {},
   "cell_type": "markdown",
   "metadata": {},
   "source": [
    "# Module\n",
    "module adalah sebuah file python berakhiran \".py\"\n",
    "\n",
    "module bisa dijalankan sebagai script - code python dijalankan di terminal. terminal adalah komputer jaman dulu sebelum ada mouse, warna, icon/ gambar di komputer, semua full teks. terminal bisa akses semua file dalam komputer kita, bisa buat file baru, bisa akses internet, bisa semuanya, termasuk menjalankan sebuah file python. kalau jalanin file python di terminal, namanya kita menjalankan script python.\n",
    "\n",
    "dengan alasan ini, biasanya file \".py\" tidak bisa di attach ke email, script dianggap berbahaya, krn bisa lsg jalan, bisa lsg ber efek ke komputer.\n",
    "\n",
    "*hati hati dalam membuat script\n",
    "\n",
    "---\n",
    "\n",
    "file \".py\" bisa diisi code python, termasuk:\n",
    "- data\n",
    "- variable\n",
    "- function\n",
    "- if\n",
    "- while dan for loop\n",
    "- dan lainnya\n",
    "\n",
    "---\n",
    "\n",
    "selain dijalankan di terminal sebagai script, file module python \".py\" juga bisa kita import, kita masukkan code2nya ke file notebook kita, dengan keyword `import`"
   ]
  },
  {
   "cell_type": "code",
   "execution_count": 1,
   "metadata": {},
   "outputs": [],
   "source": [
    "import tes\n",
    "\n",
    "# lokasi file tes.py sama dengan lokasi file sesi3.ipyb jadi bisa lsg di import"
   ]
  },
  {
   "attachments": {},
   "cell_type": "markdown",
   "metadata": {},
   "source": [
    "supaya tidak berantakan, kita bisa tambahkan `if` di module nya, jika script maka jalankan print2 dan function2, jika import, tidak perlu print2.\n",
    "\n",
    "isi dari module, seperti variable dan function, sekarang bisa kita gunakan. karena module sudah di import.\n",
    "\n",
    "jadi file \".py\" ini kalau di import namanya module, kalau di jalankan di terminal namanya script."
   ]
  },
  {
   "cell_type": "code",
   "execution_count": 2,
   "metadata": {},
   "outputs": [
    {
     "data": {
      "text/plain": [
       "'saya sebuah file module python'"
      ]
     },
     "execution_count": 2,
     "metadata": {},
     "output_type": "execute_result"
    }
   ],
   "source": [
    "tes.message"
   ]
  },
  {
   "attachments": {},
   "cell_type": "markdown",
   "metadata": {},
   "source": [
    "module yang sudah di import, tidak bisa di import ulang. python notebook kita, untuk save memory, tidak import ulang module yang pernah di import. jadi contohnya:"
   ]
  },
  {
   "cell_type": "code",
   "execution_count": 4,
   "metadata": {},
   "outputs": [],
   "source": [
    "import tes\n",
    "import tes\n",
    "import tes\n",
    "import tes\n",
    "import tes\n",
    "import tes\n",
    "import tes\n",
    "import tes\n",
    "import tes\n",
    "import tes"
   ]
  },
  {
   "attachments": {},
   "cell_type": "markdown",
   "metadata": {},
   "source": [
    "hanya dijalankan maksimum 1 kali saja, jika module tes belum pernah di import"
   ]
  },
  {
   "attachments": {},
   "cell_type": "markdown",
   "metadata": {},
   "source": [
    "untuk memaksa python notebook import module yang pernah di import, kita perlu bantuan module lain."
   ]
  },
  {
   "cell_type": "code",
   "execution_count": 6,
   "metadata": {},
   "outputs": [
    {
     "data": {
      "text/plain": [
       "<module 'tes' from 'c:\\\\Users\\\\stefa\\\\Documents\\\\PYTN091\\\\Sesi03\\\\tes.py'>"
      ]
     },
     "execution_count": 6,
     "metadata": {},
     "output_type": "execute_result"
    }
   ],
   "source": [
    "import importlib\n",
    "\n",
    "importlib.reload(tes)"
   ]
  },
  {
   "cell_type": "code",
   "execution_count": 7,
   "metadata": {},
   "outputs": [
    {
     "data": {
      "text/plain": [
       "'saya sebuah file module python'"
      ]
     },
     "execution_count": 7,
     "metadata": {},
     "output_type": "execute_result"
    }
   ],
   "source": [
    "tes.message"
   ]
  },
  {
   "cell_type": "code",
   "execution_count": 3,
   "metadata": {},
   "outputs": [
    {
     "name": "stdout",
     "output_type": "stream",
     "text": [
      "salam nanda\n",
      "salam teddy\n",
      "anda sedang berada di tepi pantai di sore hari hari.\n"
     ]
    }
   ],
   "source": [
    "tes.sapa(\"sore hari\", \"tepi pantai\", [\"nanda\", \"teddy\"])"
   ]
  },
  {
   "cell_type": "code",
   "execution_count": 4,
   "metadata": {},
   "outputs": [],
   "source": [
    "import andi"
   ]
  },
  {
   "cell_type": "code",
   "execution_count": 5,
   "metadata": {},
   "outputs": [
    {
     "name": "stdout",
     "output_type": "stream",
     "text": [
      "busy, busy...\n"
     ]
    }
   ],
   "source": [
    "andi.bekerja()"
   ]
  },
  {
   "cell_type": "code",
   "execution_count": 6,
   "metadata": {},
   "outputs": [
    {
     "name": "stdout",
     "output_type": "stream",
     "text": [
      "Hi I'm Andi\n"
     ]
    }
   ],
   "source": [
    "andi.halo()"
   ]
  },
  {
   "cell_type": "code",
   "execution_count": 7,
   "metadata": {},
   "outputs": [
    {
     "name": "stdout",
     "output_type": "stream",
     "text": [
      "cobain berenang\n",
      "cobain kayaking\n"
     ]
    }
   ],
   "source": [
    "for aktivitas in andi.hobi:\n",
    "    print(\"cobain \" + aktivitas)"
   ]
  },
  {
   "cell_type": "code",
   "execution_count": 8,
   "metadata": {},
   "outputs": [],
   "source": [
    "# misal cuma mau import variable hobi dari module andi.py\n",
    "\n",
    "from andi import hobi"
   ]
  },
  {
   "cell_type": "code",
   "execution_count": 9,
   "metadata": {},
   "outputs": [
    {
     "name": "stdout",
     "output_type": "stream",
     "text": [
      "['berenang', 'kayaking']\n"
     ]
    }
   ],
   "source": [
    "print(hobi)"
   ]
  },
  {
   "cell_type": "code",
   "execution_count": 10,
   "metadata": {},
   "outputs": [],
   "source": [
    "# kita ganti nama variable yang di import juga bisa\n",
    "\n",
    "from andi import hobi as hobi_andi"
   ]
  },
  {
   "cell_type": "code",
   "execution_count": 11,
   "metadata": {},
   "outputs": [
    {
     "name": "stdout",
     "output_type": "stream",
     "text": [
      "['berenang', 'kayaking']\n"
     ]
    }
   ],
   "source": [
    "print(hobi_andi)"
   ]
  },
  {
   "cell_type": "code",
   "execution_count": 12,
   "metadata": {},
   "outputs": [],
   "source": [
    "# import module nya sendiri pakai nama lain juga bisa\n",
    "\n",
    "import andi as an"
   ]
  },
  {
   "cell_type": "code",
   "execution_count": 13,
   "metadata": {},
   "outputs": [
    {
     "name": "stdout",
     "output_type": "stream",
     "text": [
      "busy, busy...\n",
      "Hi I'm Andi\n",
      "Andhika Rahardja\n"
     ]
    }
   ],
   "source": [
    "an.bekerja()\n",
    "an.halo()\n",
    "print(an.nama)"
   ]
  },
  {
   "cell_type": "code",
   "execution_count": 14,
   "metadata": {},
   "outputs": [],
   "source": [
    "# ada beberapa package yang umum digunakan di python\n",
    "# ada \"kesepakatan bersama\" untuk kasih package2 ini nama pendek\n",
    "# seperti berikut\n",
    "import numpy as np\n",
    "import pandas as pd\n",
    "import matplotlib as mpl\n",
    "import matplotlib.pyplot as plt"
   ]
  },
  {
   "attachments": {},
   "cell_type": "markdown",
   "metadata": {},
   "source": [
    "kenapa kita bisa import package/module yang gak ada file \"py\" nya di folder yang sama? karena selain folder yang sama, python juga cek beberapa tempat lain."
   ]
  },
  {
   "cell_type": "code",
   "execution_count": 15,
   "metadata": {},
   "outputs": [
    {
     "data": {
      "text/plain": [
       "['c:\\\\Users\\\\stefa\\\\Documents\\\\PYTN091\\\\Sesi03',\n",
       " 'c:\\\\Users\\\\stefa\\\\anaconda3\\\\python39.zip',\n",
       " 'c:\\\\Users\\\\stefa\\\\anaconda3\\\\DLLs',\n",
       " 'c:\\\\Users\\\\stefa\\\\anaconda3\\\\lib',\n",
       " 'c:\\\\Users\\\\stefa\\\\anaconda3',\n",
       " '',\n",
       " 'c:\\\\Users\\\\stefa\\\\anaconda3\\\\lib\\\\site-packages',\n",
       " 'c:\\\\Users\\\\stefa\\\\anaconda3\\\\lib\\\\site-packages\\\\win32',\n",
       " 'c:\\\\Users\\\\stefa\\\\anaconda3\\\\lib\\\\site-packages\\\\win32\\\\lib',\n",
       " 'c:\\\\Users\\\\stefa\\\\anaconda3\\\\lib\\\\site-packages\\\\Pythonwin']"
      ]
     },
     "execution_count": 15,
     "metadata": {},
     "output_type": "execute_result"
    }
   ],
   "source": [
    "import sys\n",
    "sys.path"
   ]
  },
  {
   "attachments": {},
   "cell_type": "markdown",
   "metadata": {},
   "source": [
    "semua folder diatas termasuk folder dimana file \"py\" dicari saat kita import\n",
    "\n",
    "saat install anaconda, atau install package, ada file hard copy di pc kita. tapi itu tidak otomatis ke import semua saat kita buat file \"ipynb\"\n",
    "\n",
    "perlu kita import sesuai mau pakai yg mana, tapi python bakal nyari module2nya dari folder2 ini tempat kita udah install hard copy module nya\n",
    "\n",
    "jika mau pakai module yang belum di install, kita perlu install dulu, baru import"
   ]
  },
  {
   "cell_type": "code",
   "execution_count": 16,
   "metadata": {},
   "outputs": [],
   "source": [
    "import requests"
   ]
  },
  {
   "cell_type": "code",
   "execution_count": 17,
   "metadata": {},
   "outputs": [
    {
     "ename": "ModuleNotFoundError",
     "evalue": "No module named 'iiif_image_load'",
     "output_type": "error",
     "traceback": [
      "\u001b[1;31m---------------------------------------------------------------------------\u001b[0m",
      "\u001b[1;31mModuleNotFoundError\u001b[0m                       Traceback (most recent call last)",
      "\u001b[1;32mc:\\Users\\stefa\\Documents\\PYTN091\\Sesi03\\sesi3.ipynb Cell 90\u001b[0m in \u001b[0;36m<cell line: 1>\u001b[1;34m()\u001b[0m\n\u001b[1;32m----> <a href='vscode-notebook-cell:/c%3A/Users/stefa/Documents/PYTN091/Sesi03/sesi3.ipynb#Y155sZmlsZQ%3D%3D?line=0'>1</a>\u001b[0m \u001b[39mimport\u001b[39;00m \u001b[39miiif_image_load\u001b[39;00m\n",
      "\u001b[1;31mModuleNotFoundError\u001b[0m: No module named 'iiif_image_load'"
     ]
    }
   ],
   "source": [
    "import iiif_image_load"
   ]
  },
  {
   "cell_type": "code",
   "execution_count": 18,
   "metadata": {},
   "outputs": [
    {
     "name": "stdout",
     "output_type": "stream",
     "text": [
      "Collecting iiif_image_load\n",
      "  Downloading iiif_image_load-0.4.2-py3-none-any.whl (5.2 kB)\n",
      "Installing collected packages: iiif_image_load\n",
      "Successfully installed iiif_image_load-0.4.2\n",
      "Note: you may need to restart the kernel to use updated packages.\n"
     ]
    }
   ],
   "source": [
    "pip install iiif_image_load"
   ]
  },
  {
   "cell_type": "code",
   "execution_count": 19,
   "metadata": {},
   "outputs": [
    {
     "ename": "ModuleNotFoundError",
     "evalue": "No module named 'cv2'",
     "output_type": "error",
     "traceback": [
      "\u001b[1;31m---------------------------------------------------------------------------\u001b[0m",
      "\u001b[1;31mModuleNotFoundError\u001b[0m                       Traceback (most recent call last)",
      "\u001b[1;32mc:\\Users\\stefa\\Documents\\PYTN091\\Sesi03\\sesi3.ipynb Cell 92\u001b[0m in \u001b[0;36m<cell line: 1>\u001b[1;34m()\u001b[0m\n\u001b[1;32m----> <a href='vscode-notebook-cell:/c%3A/Users/stefa/Documents/PYTN091/Sesi03/sesi3.ipynb#Y160sZmlsZQ%3D%3D?line=0'>1</a>\u001b[0m \u001b[39mimport\u001b[39;00m \u001b[39miiif_image_load\u001b[39;00m\n",
      "File \u001b[1;32mc:\\Users\\stefa\\anaconda3\\lib\\site-packages\\iiif_image_load\\__init__.py:13\u001b[0m, in \u001b[0;36m<module>\u001b[1;34m\u001b[0m\n\u001b[0;32m     11\u001b[0m \u001b[39mfrom\u001b[39;00m \u001b[39maiohttp\u001b[39;00m \u001b[39mimport\u001b[39;00m web\n\u001b[0;32m     12\u001b[0m \u001b[39mfrom\u001b[39;00m \u001b[39maiohttp\u001b[39;00m \u001b[39mimport\u001b[39;00m ClientSession\n\u001b[1;32m---> 13\u001b[0m \u001b[39mimport\u001b[39;00m \u001b[39mcv2\u001b[39;00m\n\u001b[0;32m     14\u001b[0m \u001b[39mimport\u001b[39;00m \u001b[39mnumpy\u001b[39;00m \u001b[39mas\u001b[39;00m \u001b[39mnp\u001b[39;00m\n\u001b[0;32m     15\u001b[0m \u001b[39mfrom\u001b[39;00m \u001b[39mnumpy\u001b[39;00m \u001b[39mimport\u001b[39;00m ndarray\n",
      "\u001b[1;31mModuleNotFoundError\u001b[0m: No module named 'cv2'"
     ]
    }
   ],
   "source": [
    "import iiif_image_load"
   ]
  },
  {
   "attachments": {},
   "cell_type": "markdown",
   "metadata": {},
   "source": [
    "error diatas artinya module import iiif_image_load kita memerlukan module lain untuk bisa jalan, dia perlu module cv2.\n",
    "\n",
    "banyak module di python itu memerlukan satu sama lain.\n",
    "\n",
    "pandas perlu numpy. (numerical python, package python paling umum untuk edit angka)."
   ]
  },
  {
   "cell_type": "code",
   "execution_count": 20,
   "metadata": {},
   "outputs": [
    {
     "name": "stdout",
     "output_type": "stream",
     "text": [
      "Note: you may need to restart the kernel to use updated packages.\n"
     ]
    },
    {
     "name": "stderr",
     "output_type": "stream",
     "text": [
      "ERROR: Could not find a version that satisfies the requirement cv2 (from versions: none)\n",
      "ERROR: No matching distribution found for cv2\n"
     ]
    }
   ],
   "source": [
    "pip install cv2"
   ]
  },
  {
   "cell_type": "code",
   "execution_count": 21,
   "metadata": {},
   "outputs": [
    {
     "name": "stdout",
     "output_type": "stream",
     "text": [
      "^C\n",
      "Note: you may need to restart the kernel to use updated packages.\n"
     ]
    }
   ],
   "source": [
    "pip uninstall iiif_image_load"
   ]
  },
  {
   "cell_type": "code",
   "execution_count": 22,
   "metadata": {},
   "outputs": [],
   "source": [
    "# contoh menggunakan package requests\n",
    "\n",
    "import requests"
   ]
  },
  {
   "cell_type": "code",
   "execution_count": 24,
   "metadata": {},
   "outputs": [],
   "source": [
    "web_h8 = requests.get(\"https://www.hacktiv8.com\")"
   ]
  },
  {
   "cell_type": "code",
   "execution_count": 26,
   "metadata": {},
   "outputs": [
    {
     "name": "stdout",
     "output_type": "stream",
     "text": [
      "200\n",
      "<urllib3.response.HTTPResponse object at 0x000002706C8658E0>\n"
     ]
    }
   ],
   "source": [
    "print(web_h8.status_code)\n",
    "print(web_h8.raw)"
   ]
  },
  {
   "cell_type": "code",
   "execution_count": 27,
   "metadata": {},
   "outputs": [],
   "source": [
    "# import package bisa\n",
    "\n",
    "import karyawan"
   ]
  },
  {
   "cell_type": "code",
   "execution_count": 28,
   "metadata": {},
   "outputs": [
    {
     "ename": "AttributeError",
     "evalue": "module 'karyawan' has no attribute 'andi'",
     "output_type": "error",
     "traceback": [
      "\u001b[1;31m---------------------------------------------------------------------------\u001b[0m",
      "\u001b[1;31mAttributeError\u001b[0m                            Traceback (most recent call last)",
      "\u001b[1;32mc:\\Users\\stefa\\Documents\\PYTN091\\Sesi03\\sesi3.ipynb Cell 100\u001b[0m in \u001b[0;36m<cell line: 3>\u001b[1;34m()\u001b[0m\n\u001b[0;32m      <a href='vscode-notebook-cell:/c%3A/Users/stefa/Documents/PYTN091/Sesi03/sesi3.ipynb#Y201sZmlsZQ%3D%3D?line=0'>1</a>\u001b[0m \u001b[39m# sayang sekali gak bisa dipakai seperti itu\u001b[39;00m\n\u001b[1;32m----> <a href='vscode-notebook-cell:/c%3A/Users/stefa/Documents/PYTN091/Sesi03/sesi3.ipynb#Y201sZmlsZQ%3D%3D?line=2'>3</a>\u001b[0m karyawan\u001b[39m.\u001b[39;49mandi\u001b[39m.\u001b[39mhobi\n",
      "\u001b[1;31mAttributeError\u001b[0m: module 'karyawan' has no attribute 'andi'"
     ]
    }
   ],
   "source": [
    "# sayang sekali gak bisa dipakai seperti itu\n",
    "\n",
    "karyawan.andi.hobi"
   ]
  },
  {
   "attachments": {},
   "cell_type": "markdown",
   "metadata": {},
   "source": [
    "package perlu di import langsung modulenya"
   ]
  },
  {
   "cell_type": "code",
   "execution_count": 29,
   "metadata": {},
   "outputs": [],
   "source": [
    "import karyawan.andi"
   ]
  },
  {
   "cell_type": "code",
   "execution_count": 30,
   "metadata": {},
   "outputs": [
    {
     "data": {
      "text/plain": [
       "['berenang', 'kayaking']"
      ]
     },
     "execution_count": 30,
     "metadata": {},
     "output_type": "execute_result"
    }
   ],
   "source": [
    "karyawan.andi.hobi"
   ]
  },
  {
   "cell_type": "code",
   "execution_count": 31,
   "metadata": {},
   "outputs": [],
   "source": [
    "import karyawan.andi as ka"
   ]
  },
  {
   "cell_type": "code",
   "execution_count": 32,
   "metadata": {},
   "outputs": [
    {
     "data": {
      "text/plain": [
       "['berenang', 'kayaking']"
      ]
     },
     "execution_count": 32,
     "metadata": {},
     "output_type": "execute_result"
    }
   ],
   "source": [
    "ka.hobi"
   ]
  },
  {
   "attachments": {},
   "cell_type": "markdown",
   "metadata": {},
   "source": [
    "## namespace\n",
    "semua nama yang udah kita pakai di file ini, termasuk:\n",
    "- variable\n",
    "- function\n",
    "- module\n",
    "- package\n",
    "- hidden variables\n",
    "\n",
    "gunanya dir() itu untuk mengecek apakah kita pernah pakai sebuah nama dengan cepat"
   ]
  },
  {
   "cell_type": "code",
   "execution_count": 33,
   "metadata": {},
   "outputs": [
    {
     "data": {
      "text/plain": [
       "False"
      ]
     },
     "execution_count": 33,
     "metadata": {},
     "output_type": "execute_result"
    }
   ],
   "source": [
    "\"nama\" in dir()"
   ]
  },
  {
   "cell_type": "code",
   "execution_count": 34,
   "metadata": {},
   "outputs": [],
   "source": [
    "nama = \"Gina\""
   ]
  },
  {
   "cell_type": "code",
   "execution_count": 35,
   "metadata": {},
   "outputs": [
    {
     "data": {
      "text/plain": [
       "True"
      ]
     },
     "execution_count": 35,
     "metadata": {},
     "output_type": "execute_result"
    }
   ],
   "source": [
    "\"nama\" in dir()"
   ]
  },
  {
   "cell_type": "code",
   "execution_count": 36,
   "metadata": {},
   "outputs": [
    {
     "data": {
      "text/plain": [
       "['In',\n",
       " 'Out',\n",
       " '_',\n",
       " '_15',\n",
       " '_2',\n",
       " '_30',\n",
       " '_32',\n",
       " '_33',\n",
       " '_35',\n",
       " '__',\n",
       " '___',\n",
       " '__builtin__',\n",
       " '__builtins__',\n",
       " '__doc__',\n",
       " '__loader__',\n",
       " '__name__',\n",
       " '__package__',\n",
       " '__spec__',\n",
       " '__vsc_ipynb_file__',\n",
       " '_dh',\n",
       " '_exit_code',\n",
       " '_i',\n",
       " '_i1',\n",
       " '_i10',\n",
       " '_i11',\n",
       " '_i12',\n",
       " '_i13',\n",
       " '_i14',\n",
       " '_i15',\n",
       " '_i16',\n",
       " '_i17',\n",
       " '_i18',\n",
       " '_i19',\n",
       " '_i2',\n",
       " '_i20',\n",
       " '_i21',\n",
       " '_i22',\n",
       " '_i23',\n",
       " '_i24',\n",
       " '_i25',\n",
       " '_i26',\n",
       " '_i27',\n",
       " '_i28',\n",
       " '_i29',\n",
       " '_i3',\n",
       " '_i30',\n",
       " '_i31',\n",
       " '_i32',\n",
       " '_i33',\n",
       " '_i34',\n",
       " '_i35',\n",
       " '_i36',\n",
       " '_i4',\n",
       " '_i5',\n",
       " '_i6',\n",
       " '_i7',\n",
       " '_i8',\n",
       " '_i9',\n",
       " '_ih',\n",
       " '_ii',\n",
       " '_iii',\n",
       " '_oh',\n",
       " 'aktivitas',\n",
       " 'an',\n",
       " 'andi',\n",
       " 'exit',\n",
       " 'get_ipython',\n",
       " 'hobi',\n",
       " 'hobi_andi',\n",
       " 'ka',\n",
       " 'karyawan',\n",
       " 'mpl',\n",
       " 'nama',\n",
       " 'np',\n",
       " 'pd',\n",
       " 'plt',\n",
       " 'quit',\n",
       " 'requests',\n",
       " 'sys',\n",
       " 'tes',\n",
       " 'web_h8']"
      ]
     },
     "execution_count": 36,
     "metadata": {},
     "output_type": "execute_result"
    }
   ],
   "source": [
    "dir()"
   ]
  },
  {
   "cell_type": "code",
   "execution_count": 37,
   "metadata": {},
   "outputs": [],
   "source": [
    "print = \"ok\""
   ]
  },
  {
   "cell_type": "code",
   "execution_count": 38,
   "metadata": {},
   "outputs": [
    {
     "ename": "TypeError",
     "evalue": "'str' object is not callable",
     "output_type": "error",
     "traceback": [
      "\u001b[1;31m---------------------------------------------------------------------------\u001b[0m",
      "\u001b[1;31mTypeError\u001b[0m                                 Traceback (most recent call last)",
      "\u001b[1;32mc:\\Users\\stefa\\Documents\\PYTN091\\Sesi03\\sesi3.ipynb Cell 112\u001b[0m in \u001b[0;36m<cell line: 1>\u001b[1;34m()\u001b[0m\n\u001b[1;32m----> <a href='vscode-notebook-cell:/c%3A/Users/stefa/Documents/PYTN091/Sesi03/sesi3.ipynb#Y216sZmlsZQ%3D%3D?line=0'>1</a>\u001b[0m \u001b[39mprint\u001b[39;49m(\u001b[39m\"\u001b[39;49m\u001b[39mhalo\u001b[39;49m\u001b[39m\"\u001b[39;49m)\n",
      "\u001b[1;31mTypeError\u001b[0m: 'str' object is not callable"
     ]
    }
   ],
   "source": [
    "print(\"halo\")"
   ]
  },
  {
   "attachments": {},
   "cell_type": "markdown",
   "metadata": {},
   "source": [
    "untuk mengurangi tidak sengaja menimpa variable/ function/ module yang sudah kita import, kita pakai dir()\n",
    "\n",
    "*keyword python tidak semuanya ada di dalam dir() jadi tetep perlu hati hati"
   ]
  },
  {
   "cell_type": "code",
   "execution_count": null,
   "metadata": {},
   "outputs": [],
   "source": []
  }
 ],
 "metadata": {
  "kernelspec": {
   "display_name": "base",
   "language": "python",
   "name": "python3"
  },
  "language_info": {
   "codemirror_mode": {
    "name": "ipython",
    "version": 3
   },
   "file_extension": ".py",
   "mimetype": "text/x-python",
   "name": "python",
   "nbconvert_exporter": "python",
   "pygments_lexer": "ipython3",
   "version": "3.9.13"
  },
  "orig_nbformat": 4
 },
 "nbformat": 4,
 "nbformat_minor": 2
}
