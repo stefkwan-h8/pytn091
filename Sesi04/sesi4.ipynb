{
 "cells": [
  {
   "attachments": {},
   "cell_type": "markdown",
   "metadata": {},
   "source": [
    "# Numpy\n",
    "Numerical Python\n",
    "\n",
    "package python yang digunakan untuk manipulasi data tipe numerik (int dan float)\n",
    "\n",
    "punya banyak built-in function untuk manipulasi data tipe numerik, seperti:\n",
    "- mean\n",
    "- mode\n",
    "- max, min\n",
    "- std deviation, variance\n",
    "- square, squareroot (kuadrat dan pangkat)\n",
    "- dan lain2\n",
    "\n",
    "selain itu numpy juga punya satu tipe data baru - numpy array. mirip list tapi bukan list.\n",
    "\n",
    "---\n",
    "## Numpy Array\n",
    "CRUD - create read update delete\n",
    "\n",
    "create numpy array dengan cara:\n",
    "- convert sebuah list menjadi array menggunakan `np.array([1,2,3])`\n",
    "- membuat sebuah array baru menggunakan built-in function:\n",
    "    1. `np.zeros(5)` --> membuat sebuah array isi angka 0, size 5, ada 5 angka 0.\n",
    "    2. `np.ones(8)` --> membuat sebuah array isi angka 1, size 8, ada 8 angka 1.\n",
    "    3. `np.empty(3)` --> membuat sebuah array isi angka random, kita anggap tidak ada angka, size 3.\n",
    "    4. `np.arange(1,10,3)` --> membuat sebuah array isi angka dari range. cara pakai sama. range(start, stop, step)."
   ]
  },
  {
   "cell_type": "code",
   "execution_count": 1,
   "metadata": {},
   "outputs": [],
   "source": [
    "import numpy as np"
   ]
  },
  {
   "cell_type": "code",
   "execution_count": 2,
   "metadata": {},
   "outputs": [
    {
     "name": "stdout",
     "output_type": "stream",
     "text": [
      "[1 2 3]\n",
      "<class 'numpy.ndarray'>\n"
     ]
    }
   ],
   "source": [
    "# create\n",
    "arr = np.array([1,2,3])\n",
    "print(arr)\n",
    "print(type(arr))"
   ]
  },
  {
   "cell_type": "code",
   "execution_count": 3,
   "metadata": {},
   "outputs": [
    {
     "name": "stdout",
     "output_type": "stream",
     "text": [
      "[1, 2, 3]\n",
      "<class 'list'>\n"
     ]
    }
   ],
   "source": [
    "list_angka = [1,2,3]\n",
    "print(list_angka)\n",
    "print(type(list_angka))"
   ]
  },
  {
   "cell_type": "code",
   "execution_count": 4,
   "metadata": {},
   "outputs": [
    {
     "name": "stdout",
     "output_type": "stream",
     "text": [
      "[[1, 2, 3], [4, 5, 6]]\n",
      "<class 'list'>\n"
     ]
    }
   ],
   "source": [
    "# kalau 2D\n",
    "list_angka = [[1,2,3],[4,5,6]]\n",
    "print(list_angka)\n",
    "print(type(list_angka))"
   ]
  },
  {
   "cell_type": "code",
   "execution_count": 5,
   "metadata": {},
   "outputs": [
    {
     "name": "stdout",
     "output_type": "stream",
     "text": [
      "[[1 2 3]\n",
      " [4 5 6]]\n",
      "<class 'numpy.ndarray'>\n"
     ]
    }
   ],
   "source": [
    "arr = np.array(list_angka)\n",
    "print(arr)\n",
    "print(type(arr))"
   ]
  },
  {
   "cell_type": "code",
   "execution_count": 9,
   "metadata": {},
   "outputs": [
    {
     "name": "stdout",
     "output_type": "stream",
     "text": [
      "ones [1. 1. 1. 1. 1.] <class 'numpy.ndarray'>\n",
      "zeros [0. 0. 0. 0. 0.] <class 'numpy.ndarray'>\n",
      "empty [0.00000000e+000 0.00000000e+000 0.00000000e+000 0.00000000e+000\n",
      " 0.00000000e+000 7.29240893e-321 3.11525958e-307 1.24610723e-306] <class 'numpy.ndarray'>\n",
      "arange [0 1 2 3 4] <class 'numpy.ndarray'>\n"
     ]
    }
   ],
   "source": [
    "# cara cara lain membuat numpy array\n",
    "\n",
    "size = 5\n",
    "\n",
    "arr = np.ones(size)\n",
    "print(\"ones\", arr, type(arr))\n",
    "\n",
    "arr = np.zeros(size)\n",
    "print(\"zeros\", arr, type(arr))\n",
    "\n",
    "arr = np.empty(size+3)\n",
    "print(\"empty\", arr, type(arr))\n",
    "\n",
    "arr = np.arange(size)\n",
    "print(\"arange\", arr, type(arr))\n"
   ]
  },
  {
   "cell_type": "code",
   "execution_count": 28,
   "metadata": {},
   "outputs": [
    {
     "name": "stdout",
     "output_type": "stream",
     "text": [
      "ones\n",
      "[[1. 1.]\n",
      " [1. 1.]\n",
      " [1. 1.]] <class 'numpy.ndarray'>\n",
      "zeros\n",
      "[[0. 0.]\n",
      " [0. 0.]\n",
      " [0. 0.]] <class 'numpy.ndarray'>\n",
      "empty, anggap tidak ada isi angkanya\n",
      "[[0. 0.]\n",
      " [0. 0.]\n",
      " [0. 0.]] <class 'numpy.ndarray'>\n"
     ]
    }
   ],
   "source": [
    "# kita coba buat numpy array 2 dimensi\n",
    "size = (3, 2)\n",
    "\n",
    "arr = np.ones(size)\n",
    "print(\"ones\")\n",
    "print(arr, type(arr))\n",
    "\n",
    "arr = np.zeros(size)\n",
    "print(\"zeros\")\n",
    "print(arr, type(arr))\n",
    "\n",
    "arr = np.empty(size)\n",
    "print(\"empty, anggap tidak ada isi angkanya\")\n",
    "print(arr, type(arr))"
   ]
  },
  {
   "cell_type": "code",
   "execution_count": 13,
   "metadata": {},
   "outputs": [
    {
     "name": "stdout",
     "output_type": "stream",
     "text": [
      "[0 1 2 3 4]\n",
      "[ 5  6  7  8  9 10 11 12 13 14 15 16 17 18 19 20 21 22 23 24 25 26 27 28\n",
      " 29 30 31 32 33 34 35 36 37 38 39 40 41 42 43 44 45 46 47 48 49 50 51 52\n",
      " 53 54 55 56 57 58 59]\n",
      "[ 5 12 19 26 33 40 47 54]\n"
     ]
    }
   ],
   "source": [
    "# np.arange seperti menggunakan range\n",
    "# bisa diisi 1 angka untuk membuat angka urut dari 0 sampai angka-1\n",
    "# bisa diisi 2 angka start stop untuk membuat angka urut dari start sampai stop-1\n",
    "# bisa diisi 3 angka start stop step untuk membuat angka urut dari start sampai stop-1 dan setiap angka berikut bertambah sebanyak step\n",
    "\n",
    "start = 5\n",
    "stop = 60\n",
    "step = 7\n",
    "\n",
    "arr = np.arange(start)\n",
    "print(arr)\n",
    "\n",
    "arr = np.arange(start, stop)\n",
    "print(arr)\n",
    "\n",
    "arr = np.arange(start, stop, step)\n",
    "print(arr)"
   ]
  },
  {
   "cell_type": "code",
   "execution_count": 14,
   "metadata": {},
   "outputs": [
    {
     "name": "stdout",
     "output_type": "stream",
     "text": [
      "[ 5 12 19 26 33 40 47 54]\n"
     ]
    }
   ],
   "source": [
    "# edit (update)\n",
    "# append, delete, sort\n",
    "print(arr)"
   ]
  },
  {
   "attachments": {},
   "cell_type": "markdown",
   "metadata": {},
   "source": [
    "### append"
   ]
  },
  {
   "cell_type": "code",
   "execution_count": 15,
   "metadata": {},
   "outputs": [
    {
     "data": {
      "text/plain": [
       "array([ 5, 12, 19, 26, 33, 40, 47, 54,  5, 15, 20])"
      ]
     },
     "execution_count": 15,
     "metadata": {},
     "output_type": "execute_result"
    }
   ],
   "source": [
    "np.append(arr, [5,15,20])"
   ]
  },
  {
   "cell_type": "code",
   "execution_count": 16,
   "metadata": {},
   "outputs": [
    {
     "name": "stdout",
     "output_type": "stream",
     "text": [
      "[ 5 12 19 26 33 40 47 54]\n"
     ]
    }
   ],
   "source": [
    "print(arr)"
   ]
  },
  {
   "attachments": {},
   "cell_type": "markdown",
   "metadata": {},
   "source": [
    "perhatikan, hasil append tidak merubah data array kita yang ada di variable `arr`\n",
    "\n",
    "untuk membuat sebuah array hasil dari array awal kita + append data baru, kita perlu re-assign variable nya."
   ]
  },
  {
   "cell_type": "code",
   "execution_count": 17,
   "metadata": {},
   "outputs": [
    {
     "name": "stdout",
     "output_type": "stream",
     "text": [
      "[ 5 12 19 26 33 40 47 54  9  8  7]\n"
     ]
    }
   ],
   "source": [
    "arr = np.append(arr, [9,8,7])\n",
    "print(arr)"
   ]
  },
  {
   "attachments": {},
   "cell_type": "markdown",
   "metadata": {},
   "source": [
    "### delete\n",
    "menghapus menggunakan posisi"
   ]
  },
  {
   "cell_type": "code",
   "execution_count": 18,
   "metadata": {},
   "outputs": [
    {
     "name": "stdout",
     "output_type": "stream",
     "text": [
      "[ 5 12 19 26 33 47 54  9  8  7]\n"
     ]
    }
   ],
   "source": [
    "arr = np.delete(arr, 5)\n",
    "print(arr)"
   ]
  },
  {
   "attachments": {},
   "cell_type": "markdown",
   "metadata": {},
   "source": [
    "### sort"
   ]
  },
  {
   "cell_type": "code",
   "execution_count": 19,
   "metadata": {},
   "outputs": [
    {
     "name": "stdout",
     "output_type": "stream",
     "text": [
      "[ 5  7  8  9 12 19 26 33 47 54]\n"
     ]
    }
   ],
   "source": [
    "arr = np.sort(arr)\n",
    "print(arr)"
   ]
  },
  {
   "attachments": {},
   "cell_type": "markdown",
   "metadata": {},
   "source": [
    "angka negatif juga bisa dimasukkan ke sebuah numpy array. angka float juga bisa."
   ]
  },
  {
   "attachments": {},
   "cell_type": "markdown",
   "metadata": {},
   "source": [
    "### ndim, size, shape\n",
    "tiga cara untuk melihat (read) sebuah numpy array punya detail\n",
    "- ndim - dimensi\n",
    "- size - jumlah angka yang ada di dalam numpy array\n",
    "- shape - bentuknya... bentuknya? kalau numpy array lebih dari 1 dimensi, kita bisa tau ada berapa baris, berapa kolom... ada berapa jumlah angka di setiap dimensi"
   ]
  },
  {
   "cell_type": "code",
   "execution_count": 21,
   "metadata": {},
   "outputs": [
    {
     "name": "stdout",
     "output_type": "stream",
     "text": [
      "1\n",
      "10\n",
      "(10,)\n"
     ]
    }
   ],
   "source": [
    "print(arr.ndim)\n",
    "print(arr.size)\n",
    "print(arr.shape)"
   ]
  },
  {
   "attachments": {},
   "cell_type": "markdown",
   "metadata": {},
   "source": [
    "sebenarnya dari shape kita sudah kelihatan array nya punya berapa dimensi"
   ]
  },
  {
   "attachments": {},
   "cell_type": "markdown",
   "metadata": {},
   "source": [
    "## Reshape\n",
    "mengubah shape sebuah numpy array"
   ]
  },
  {
   "cell_type": "code",
   "execution_count": 33,
   "metadata": {},
   "outputs": [
    {
     "name": "stdout",
     "output_type": "stream",
     "text": [
      "[-50 -39 -28 -17  -6   5  16  27  38  49  60  71]\n"
     ]
    }
   ],
   "source": [
    "arr = np.arange(-50,80,11)\n",
    "print(arr)"
   ]
  },
  {
   "cell_type": "code",
   "execution_count": 34,
   "metadata": {},
   "outputs": [
    {
     "data": {
      "text/plain": [
       "12"
      ]
     },
     "execution_count": 34,
     "metadata": {},
     "output_type": "execute_result"
    }
   ],
   "source": [
    "arr.size"
   ]
  },
  {
   "cell_type": "code",
   "execution_count": 38,
   "metadata": {},
   "outputs": [
    {
     "name": "stdout",
     "output_type": "stream",
     "text": [
      "[[-50 -39 -28 -17]\n",
      " [ -6   5  16  27]\n",
      " [ 38  49  60  71]]\n",
      "12\n"
     ]
    }
   ],
   "source": [
    "# ukuran size sebelum dan sesudah reshape harus sama\n",
    "# misal ukuran sebelumnya 12, maka reshape 2dimensi bisa jadi (3,4) atau (4,3) (6,2) (2,6) (1,12) (12,1)\n",
    "print(arr.reshape((3,4)))\n",
    "print(arr.size)"
   ]
  },
  {
   "cell_type": "code",
   "execution_count": 40,
   "metadata": {},
   "outputs": [
    {
     "name": "stdout",
     "output_type": "stream",
     "text": [
      "[[-50 -39 -28]\n",
      " [-17  -6   5]\n",
      " [ 16  27  38]\n",
      " [ 49  60  71]]\n",
      "[[-50 -39]\n",
      " [-28 -17]\n",
      " [ -6   5]\n",
      " [ 16  27]\n",
      " [ 38  49]\n",
      " [ 60  71]]\n",
      "[[-50 -39 -28 -17  -6   5]\n",
      " [ 16  27  38  49  60  71]]\n",
      "[[-50 -39 -28 -17  -6   5  16  27  38  49  60  71]]\n",
      "[[-50]\n",
      " [-39]\n",
      " [-28]\n",
      " [-17]\n",
      " [ -6]\n",
      " [  5]\n",
      " [ 16]\n",
      " [ 27]\n",
      " [ 38]\n",
      " [ 49]\n",
      " [ 60]\n",
      " [ 71]]\n",
      "[-50 -39 -28 -17  -6   5  16  27  38  49  60  71]\n"
     ]
    }
   ],
   "source": [
    "for shape in [(4,3), (6,2), (2,6), (1,12), (12,1), (12,)]:\n",
    "    print(arr.reshape(shape))"
   ]
  },
  {
   "attachments": {},
   "cell_type": "markdown",
   "metadata": {},
   "source": [
    "bisa dilihat kalau jumlah angka (size) sebelum dan sesudah reshape selalu sama, harus selalu sama. jumlah dimensi boleh berubah 1d, 2d, 3d, ... bebas"
   ]
  },
  {
   "attachments": {},
   "cell_type": "markdown",
   "metadata": {},
   "source": [
    "## Indexing dan Slicing\n",
    "sejauh ini kita sudah bisa membuat, baca properti, ubah bentuk, nambah, hapus, dan sortir angka2 numpy array. indexing dan slicing akan membuat kita bisa mengambil/ membaca 1 atau banyak angka dalam sebuah numpy array.\n",
    "\n",
    "ngambil 1, namanya indexing\n",
    "\n",
    "ngambil banyak, namanya slicing"
   ]
  },
  {
   "cell_type": "code",
   "execution_count": 41,
   "metadata": {},
   "outputs": [
    {
     "name": "stdout",
     "output_type": "stream",
     "text": [
      "[[-50 -39 -28]\n",
      " [-17  -6   5]\n",
      " [ 16  27  38]\n",
      " [ 49  60  71]]\n"
     ]
    }
   ],
   "source": [
    "arr = arr.reshape((4,3))\n",
    "print(arr)"
   ]
  },
  {
   "cell_type": "code",
   "execution_count": 42,
   "metadata": {},
   "outputs": [
    {
     "data": {
      "text/plain": [
       "-6"
      ]
     },
     "execution_count": 42,
     "metadata": {},
     "output_type": "execute_result"
    }
   ],
   "source": [
    "# indexing\n",
    "# misal mau ambil angka -6\n",
    "# array kita punya 2Dimensi. Dimensi pertama berisi 4 numpy array. angka yang kita mau ambil ada di numpy array ke berapa?\n",
    "#    ada di numpy array ke-2. barang ke-2 punya index 1. jadi kita gunakan index 1 untuk dapat array ke-2\n",
    "# di dalam array ke-2 ini, angka yang kita mau ambil ada di posisi ke berapa? \n",
    "#    dia ada di posisi ke-2 berarti index 1 lagi. jadi kita gunakan index (1,1) untuk dapat array ke-2 dan angka ke-2 di array tersebut\n",
    "\n",
    "arr[1,1]"
   ]
  },
  {
   "cell_type": "code",
   "execution_count": 43,
   "metadata": {},
   "outputs": [
    {
     "data": {
      "text/plain": [
       "5"
      ]
     },
     "execution_count": 43,
     "metadata": {},
     "output_type": "execute_result"
    }
   ],
   "source": [
    "# misal maunya ambil angka 5, masih di array ke-2 index 1, tapi sekarang di posisi ke-3 index 2\n",
    "# jadi kita gunakan index (1,2)\n",
    "arr[1,2]"
   ]
  },
  {
   "cell_type": "code",
   "execution_count": 44,
   "metadata": {},
   "outputs": [
    {
     "data": {
      "text/plain": [
       "array([-6,  5])"
      ]
     },
     "execution_count": 44,
     "metadata": {},
     "output_type": "execute_result"
    }
   ],
   "source": [
    "# slicing\n",
    "# slicing mau ambil beberapa item sekaligus, misalkan kita mau ambil -6 dan 5 duaduanya\n",
    "# berarti kita mau ambil index (1,1) dan index (1,2)\n",
    "# cara tulisnya kita gabung, \n",
    "#   dimensi pertama angkanya sama 1\n",
    "#   dimensi kedua angkanya beda 1 dan 2, jadi kita tulis 1:2 tapi karena angka terakhir tidak termasuk, kita +1 ke angka terakhir jadi 1:3\n",
    "arr[1,1:3]"
   ]
  },
  {
   "cell_type": "code",
   "execution_count": 45,
   "metadata": {},
   "outputs": [
    {
     "data": {
      "text/plain": [
       "array([[-6,  5],\n",
       "       [27, 38]])"
      ]
     },
     "execution_count": 45,
     "metadata": {},
     "output_type": "execute_result"
    }
   ],
   "source": [
    "# kalau selain -6 dan 5 kita juga mau ambil angka 27 dan 38\n",
    "# berarti kita mau ambil index (1,1) (1,2) (2,1) (2,2)\n",
    "# kita gabungkan indexnya jadi (1:3, 1:3)\n",
    "arr[1:3, 1:3]"
   ]
  },
  {
   "cell_type": "code",
   "execution_count": 46,
   "metadata": {},
   "outputs": [
    {
     "name": "stdout",
     "output_type": "stream",
     "text": [
      "[[-50 -39 -28]\n",
      " [-17  -6   5]\n",
      " [ 16  27  38]\n",
      " [ 49  60  71]]\n"
     ]
    }
   ],
   "source": [
    "print(arr)"
   ]
  },
  {
   "cell_type": "code",
   "execution_count": 47,
   "metadata": {},
   "outputs": [
    {
     "data": {
      "text/plain": [
       "array([[-17,  -6,   5],\n",
       "       [ 16,  27,  38]])"
      ]
     },
     "execution_count": 47,
     "metadata": {},
     "output_type": "execute_result"
    }
   ],
   "source": [
    "arr[1:3]"
   ]
  },
  {
   "cell_type": "code",
   "execution_count": 48,
   "metadata": {},
   "outputs": [
    {
     "data": {
      "text/plain": [
       "array([-6, 27])"
      ]
     },
     "execution_count": 48,
     "metadata": {},
     "output_type": "execute_result"
    }
   ],
   "source": [
    "arr[1:3, 1]"
   ]
  },
  {
   "cell_type": "code",
   "execution_count": 49,
   "metadata": {},
   "outputs": [
    {
     "data": {
      "text/plain": [
       "array([ 5, 38])"
      ]
     },
     "execution_count": 49,
     "metadata": {},
     "output_type": "execute_result"
    }
   ],
   "source": [
    "arr[1:3, 2]"
   ]
  },
  {
   "cell_type": "code",
   "execution_count": 50,
   "metadata": {},
   "outputs": [
    {
     "data": {
      "text/plain": [
       "array([[-6,  5],\n",
       "       [27, 38]])"
      ]
     },
     "execution_count": 50,
     "metadata": {},
     "output_type": "execute_result"
    }
   ],
   "source": [
    "arr[1:3, 1:3]"
   ]
  },
  {
   "cell_type": "code",
   "execution_count": 51,
   "metadata": {},
   "outputs": [
    {
     "name": "stdout",
     "output_type": "stream",
     "text": [
      "[[-50 -39 -28]\n",
      " [-17  -6   5]\n",
      " [ 16  27  38]\n",
      " [ 49  60  71]]\n"
     ]
    }
   ],
   "source": [
    "print(arr)"
   ]
  },
  {
   "cell_type": "code",
   "execution_count": 52,
   "metadata": {},
   "outputs": [
    {
     "data": {
      "text/plain": [
       "-39"
      ]
     },
     "execution_count": 52,
     "metadata": {},
     "output_type": "execute_result"
    }
   ],
   "source": [
    "arr[0,1]"
   ]
  },
  {
   "cell_type": "code",
   "execution_count": 53,
   "metadata": {},
   "outputs": [
    {
     "data": {
      "text/plain": [
       "60"
      ]
     },
     "execution_count": 53,
     "metadata": {},
     "output_type": "execute_result"
    }
   ],
   "source": [
    "arr[3,1]"
   ]
  },
  {
   "cell_type": "code",
   "execution_count": 54,
   "metadata": {},
   "outputs": [
    {
     "data": {
      "text/plain": [
       "array([-39,  60])"
      ]
     },
     "execution_count": 54,
     "metadata": {},
     "output_type": "execute_result"
    }
   ],
   "source": [
    "arr[[0,3],1]"
   ]
  },
  {
   "cell_type": "code",
   "execution_count": 55,
   "metadata": {},
   "outputs": [
    {
     "name": "stdout",
     "output_type": "stream",
     "text": [
      "[[-50 -39 -28]\n",
      " [-17  -6   5]\n",
      " [ 16  27  38]\n",
      " [ 49  60  71]]\n"
     ]
    }
   ],
   "source": [
    "print(arr)"
   ]
  },
  {
   "attachments": {},
   "cell_type": "markdown",
   "metadata": {},
   "source": [
    "### break 10 menit (20.05 WIB)\n",
    "latihan pendek: buatlah numpy array seperti di atas, lalu gunakan teknik slicing untuk mengambil angka -17 dan 71\n",
    "\n",
    "setelah ini kita bahas lalu lanjut ke teknik numpy lainnya"
   ]
  },
  {
   "cell_type": "code",
   "execution_count": 56,
   "metadata": {},
   "outputs": [
    {
     "name": "stdout",
     "output_type": "stream",
     "text": [
      "[[-50 -39 -28]\n",
      " [-17  -6   5]\n",
      " [ 16  27  38]\n",
      " [ 49  60  71]]\n"
     ]
    }
   ],
   "source": [
    "arr = np.array([[-50, -39, -28],\n",
    "                [-17,  -6,   5],\n",
    "                [ 16,  27,  38],\n",
    "                [ 49,  60,  71]])\n",
    "print(arr)"
   ]
  },
  {
   "cell_type": "code",
   "execution_count": 57,
   "metadata": {},
   "outputs": [
    {
     "data": {
      "text/plain": [
       "array([-17,  71])"
      ]
     },
     "execution_count": 57,
     "metadata": {},
     "output_type": "execute_result"
    }
   ],
   "source": [
    "# (1,0)\n",
    "# (3,2)\n",
    "\n",
    "arr[[1,3], [0,2]]"
   ]
  },
  {
   "cell_type": "code",
   "execution_count": 58,
   "metadata": {},
   "outputs": [
    {
     "data": {
      "text/plain": [
       "array([-17,  71])"
      ]
     },
     "execution_count": 58,
     "metadata": {},
     "output_type": "execute_result"
    }
   ],
   "source": [
    "# index hitung dari belakang, -1 untuk angka terakhir\n",
    "# (1,0)\n",
    "# (-1,-1)\n",
    "\n",
    "arr[[1,-1], [0,-1]]"
   ]
  },
  {
   "attachments": {},
   "cell_type": "markdown",
   "metadata": {},
   "source": [
    "### membuat array dari array\n",
    "vstack, hstack, numpukin beberapa array jadi satu secara vertical/ horizontal. kalau secara vertical, jumlah kolom harus sama. kalau secara horizontal, jumlah baris harus sama.\n",
    "\n",
    "vsplit, hsplit, motong sebuah array jadi beberapa bagian yang ukurannya sama, potongan bisa secara vertical/ horizontal.\n",
    "\n",
    "view. membuat nama lain untuk numpy array yang sama. seperti punya 1 rumah tapi 2 alamat. view membuat alamat baru untuk rumah yang sama.\n",
    "\n",
    "copy. membuat duplikat sebuah numpy array. copy membuat rumah yang sama persis di alamat yang baru."
   ]
  },
  {
   "cell_type": "code",
   "execution_count": 59,
   "metadata": {},
   "outputs": [
    {
     "name": "stdout",
     "output_type": "stream",
     "text": [
      "[[-50 -39 -28]\n",
      " [-17  -6   5]\n",
      " [ 16  27  38]\n",
      " [ 49  60  71]]\n"
     ]
    }
   ],
   "source": [
    "print(arr)"
   ]
  },
  {
   "cell_type": "code",
   "execution_count": 60,
   "metadata": {},
   "outputs": [
    {
     "name": "stdout",
     "output_type": "stream",
     "text": [
      "[1 2 3]\n"
     ]
    }
   ],
   "source": [
    "arr_b = np.array([1,2,3])\n",
    "\n",
    "print(arr_b)"
   ]
  },
  {
   "cell_type": "code",
   "execution_count": 62,
   "metadata": {},
   "outputs": [
    {
     "data": {
      "text/plain": [
       "array([[-50, -39, -28],\n",
       "       [-17,  -6,   5],\n",
       "       [ 16,  27,  38],\n",
       "       [ 49,  60,  71],\n",
       "       [  1,   2,   3]])"
      ]
     },
     "execution_count": 62,
     "metadata": {},
     "output_type": "execute_result"
    }
   ],
   "source": [
    "np.vstack((arr, arr_b))"
   ]
  },
  {
   "cell_type": "code",
   "execution_count": 63,
   "metadata": {},
   "outputs": [
    {
     "data": {
      "text/plain": [
       "array([[  1,   2,   3],\n",
       "       [-50, -39, -28],\n",
       "       [-17,  -6,   5],\n",
       "       [ 16,  27,  38],\n",
       "       [ 49,  60,  71],\n",
       "       [  1,   2,   3],\n",
       "       [  4,   5,   6]])"
      ]
     },
     "execution_count": 63,
     "metadata": {},
     "output_type": "execute_result"
    }
   ],
   "source": [
    "np.vstack((arr_b, arr, arr_b, [4,5,6]))"
   ]
  },
  {
   "cell_type": "code",
   "execution_count": 64,
   "metadata": {},
   "outputs": [
    {
     "name": "stdout",
     "output_type": "stream",
     "text": [
      "[[-50 -39 -28]\n",
      " [-17  -6   5]\n",
      " [ 16  27  38]\n",
      " [ 49  60  71]]\n"
     ]
    }
   ],
   "source": [
    "print(arr)"
   ]
  },
  {
   "cell_type": "code",
   "execution_count": 66,
   "metadata": {},
   "outputs": [
    {
     "data": {
      "text/plain": [
       "array([[-50, -39, -28,   6],\n",
       "       [-17,  -6,   5,   7],\n",
       "       [ 16,  27,  38,   8],\n",
       "       [ 49,  60,  71,   9]])"
      ]
     },
     "execution_count": 66,
     "metadata": {},
     "output_type": "execute_result"
    }
   ],
   "source": [
    "np.hstack((arr, [[6],[7],[8],[9]]))"
   ]
  },
  {
   "cell_type": "code",
   "execution_count": 67,
   "metadata": {},
   "outputs": [
    {
     "name": "stdout",
     "output_type": "stream",
     "text": [
      "[[6]\n",
      " [7]\n",
      " [8]\n",
      " [9]]\n"
     ]
    }
   ],
   "source": [
    "arr_c = np.array([6,7,8,9]).reshape((4,1))\n",
    "print(arr_c)"
   ]
  },
  {
   "cell_type": "code",
   "execution_count": 68,
   "metadata": {},
   "outputs": [
    {
     "data": {
      "text/plain": [
       "array([[-50, -39, -28,   6],\n",
       "       [-17,  -6,   5,   7],\n",
       "       [ 16,  27,  38,   8],\n",
       "       [ 49,  60,  71,   9]])"
      ]
     },
     "execution_count": 68,
     "metadata": {},
     "output_type": "execute_result"
    }
   ],
   "source": [
    "np.hstack((arr, arr_c))"
   ]
  },
  {
   "cell_type": "code",
   "execution_count": 69,
   "metadata": {},
   "outputs": [
    {
     "data": {
      "text/plain": [
       "array([[-50, -39, -28,   6,   6,   6],\n",
       "       [-17,  -6,   5,   7,   7,   7],\n",
       "       [ 16,  27,  38,   8,   8,   8],\n",
       "       [ 49,  60,  71,   9,   9,   9]])"
      ]
     },
     "execution_count": 69,
     "metadata": {},
     "output_type": "execute_result"
    }
   ],
   "source": [
    "np.hstack((arr, arr_c,arr_c,arr_c))"
   ]
  },
  {
   "cell_type": "code",
   "execution_count": 70,
   "metadata": {},
   "outputs": [
    {
     "name": "stdout",
     "output_type": "stream",
     "text": [
      "[[-50 -39 -28]\n",
      " [-17  -6   5]\n",
      " [ 16  27  38]\n",
      " [ 49  60  71]]\n"
     ]
    }
   ],
   "source": [
    "print(arr)"
   ]
  },
  {
   "cell_type": "code",
   "execution_count": 71,
   "metadata": {},
   "outputs": [
    {
     "data": {
      "text/plain": [
       "[array([[-50, -39, -28]]),\n",
       " array([[-17,  -6,   5]]),\n",
       " array([[16, 27, 38]]),\n",
       " array([[49, 60, 71]])]"
      ]
     },
     "execution_count": 71,
     "metadata": {},
     "output_type": "execute_result"
    }
   ],
   "source": [
    "np.vsplit(arr, 4)"
   ]
  },
  {
   "cell_type": "code",
   "execution_count": 72,
   "metadata": {},
   "outputs": [
    {
     "name": "stdout",
     "output_type": "stream",
     "text": [
      "[[-50 -39 -28]]\n"
     ]
    }
   ],
   "source": [
    "a1,a2,a3,a4 = np.vsplit(arr, 4)\n",
    "\n",
    "print(a1)"
   ]
  },
  {
   "cell_type": "code",
   "execution_count": 73,
   "metadata": {},
   "outputs": [
    {
     "name": "stdout",
     "output_type": "stream",
     "text": [
      "[[-17  -6   5]]\n"
     ]
    }
   ],
   "source": [
    "print(a2)"
   ]
  },
  {
   "cell_type": "code",
   "execution_count": 74,
   "metadata": {},
   "outputs": [
    {
     "name": "stdout",
     "output_type": "stream",
     "text": [
      "[[-50 -39 -28]\n",
      " [-17  -6   5]\n",
      " [ 16  27  38]\n",
      " [ 49  60  71]]\n"
     ]
    }
   ],
   "source": [
    "print(arr)"
   ]
  },
  {
   "cell_type": "code",
   "execution_count": 75,
   "metadata": {},
   "outputs": [
    {
     "data": {
      "text/plain": [
       "[array([[-50],\n",
       "        [-17],\n",
       "        [ 16],\n",
       "        [ 49]]),\n",
       " array([[-39],\n",
       "        [ -6],\n",
       "        [ 27],\n",
       "        [ 60]]),\n",
       " array([[-28],\n",
       "        [  5],\n",
       "        [ 38],\n",
       "        [ 71]])]"
      ]
     },
     "execution_count": 75,
     "metadata": {},
     "output_type": "execute_result"
    }
   ],
   "source": [
    "np.hsplit(arr, 3)"
   ]
  },
  {
   "cell_type": "code",
   "execution_count": 76,
   "metadata": {},
   "outputs": [
    {
     "name": "stdout",
     "output_type": "stream",
     "text": [
      "[[-28]\n",
      " [  5]\n",
      " [ 38]\n",
      " [ 71]]\n"
     ]
    }
   ],
   "source": [
    "a1,a2,a3 = np.hsplit(arr, 3)\n",
    "\n",
    "print(a3)"
   ]
  },
  {
   "cell_type": "code",
   "execution_count": 77,
   "metadata": {},
   "outputs": [],
   "source": [
    "# view\n",
    "random_arr = arr.view()"
   ]
  },
  {
   "cell_type": "code",
   "execution_count": 78,
   "metadata": {},
   "outputs": [
    {
     "name": "stdout",
     "output_type": "stream",
     "text": [
      "[[-50 -39 -28]\n",
      " [-17  -6   5]\n",
      " [ 16  27  38]\n",
      " [ 49  60  71]]\n"
     ]
    }
   ],
   "source": [
    "print(random_arr)"
   ]
  },
  {
   "cell_type": "code",
   "execution_count": 79,
   "metadata": {},
   "outputs": [],
   "source": [
    "# kalau kita ubah arr, ramdom_arr ikut berubah\n",
    "# begitu pula sebaliknya\n",
    "random_arr[0,0] = 100"
   ]
  },
  {
   "cell_type": "code",
   "execution_count": 80,
   "metadata": {},
   "outputs": [
    {
     "name": "stdout",
     "output_type": "stream",
     "text": [
      "[[100 -39 -28]\n",
      " [-17  -6   5]\n",
      " [ 16  27  38]\n",
      " [ 49  60  71]]\n"
     ]
    }
   ],
   "source": [
    "print(random_arr)"
   ]
  },
  {
   "cell_type": "code",
   "execution_count": 81,
   "metadata": {},
   "outputs": [
    {
     "name": "stdout",
     "output_type": "stream",
     "text": [
      "[[100 -39 -28]\n",
      " [-17  -6   5]\n",
      " [ 16  27  38]\n",
      " [ 49  60  71]]\n"
     ]
    }
   ],
   "source": [
    "print(arr)"
   ]
  },
  {
   "cell_type": "code",
   "execution_count": 82,
   "metadata": {},
   "outputs": [],
   "source": [
    "# copy\n",
    "arr_copy = arr.copy()"
   ]
  },
  {
   "cell_type": "code",
   "execution_count": 83,
   "metadata": {},
   "outputs": [
    {
     "name": "stdout",
     "output_type": "stream",
     "text": [
      "[[100 -39 -28]\n",
      " [-17  -6   5]\n",
      " [ 16  27  38]\n",
      " [ 49  60  71]]\n"
     ]
    }
   ],
   "source": [
    "print(arr_copy)"
   ]
  },
  {
   "cell_type": "code",
   "execution_count": 84,
   "metadata": {},
   "outputs": [
    {
     "name": "stdout",
     "output_type": "stream",
     "text": [
      "[[  0 -39 -28]\n",
      " [-17  -6   5]\n",
      " [ 16  27  38]\n",
      " [ 49  60  71]]\n"
     ]
    }
   ],
   "source": [
    "arr_copy[0,0] = 0\n",
    "print(arr_copy)"
   ]
  },
  {
   "cell_type": "code",
   "execution_count": 85,
   "metadata": {},
   "outputs": [
    {
     "name": "stdout",
     "output_type": "stream",
     "text": [
      "[[100 -39 -28]\n",
      " [-17  -6   5]\n",
      " [ 16  27  38]\n",
      " [ 49  60  71]]\n"
     ]
    }
   ],
   "source": [
    "# data awal kita arr tidak disentuh\n",
    "print(arr)"
   ]
  },
  {
   "attachments": {},
   "cell_type": "markdown",
   "metadata": {},
   "source": [
    "## array operations\n",
    "operasi matematik dengan numpy array semua bisa\n",
    "\n",
    "kalau list tidak bisa"
   ]
  },
  {
   "cell_type": "code",
   "execution_count": 86,
   "metadata": {},
   "outputs": [
    {
     "name": "stdout",
     "output_type": "stream",
     "text": [
      "[[100 -39 -28]\n",
      " [-17  -6   5]\n",
      " [ 16  27  38]\n",
      " [ 49  60  71]]\n"
     ]
    }
   ],
   "source": [
    "print(arr)"
   ]
  },
  {
   "cell_type": "code",
   "execution_count": 87,
   "metadata": {},
   "outputs": [
    {
     "name": "stdout",
     "output_type": "stream",
     "text": [
      "[[200  61  72]\n",
      " [ 83  94 105]\n",
      " [116 127 138]\n",
      " [149 160 171]]\n"
     ]
    }
   ],
   "source": [
    "arr = arr + 100\n",
    "print(arr)"
   ]
  },
  {
   "cell_type": "code",
   "execution_count": 88,
   "metadata": {},
   "outputs": [
    {
     "name": "stdout",
     "output_type": "stream",
     "text": [
      "[[1, 2, 3], [4, 5, 6]]\n"
     ]
    }
   ],
   "source": [
    "print(list_angka)"
   ]
  },
  {
   "cell_type": "code",
   "execution_count": 89,
   "metadata": {},
   "outputs": [
    {
     "ename": "TypeError",
     "evalue": "can only concatenate list (not \"int\") to list",
     "output_type": "error",
     "traceback": [
      "\u001b[1;31m---------------------------------------------------------------------------\u001b[0m",
      "\u001b[1;31mTypeError\u001b[0m                                 Traceback (most recent call last)",
      "\u001b[1;32mc:\\Users\\stefa\\Documents\\PYTN091\\Sesi04\\sesi4.ipynb Cell 80\u001b[0m in \u001b[0;36m<cell line: 1>\u001b[1;34m()\u001b[0m\n\u001b[1;32m----> <a href='vscode-notebook-cell:/c%3A/Users/stefa/Documents/PYTN091/Sesi04/sesi4.ipynb#Y144sZmlsZQ%3D%3D?line=0'>1</a>\u001b[0m list_angka \u001b[39m+\u001b[39;49m \u001b[39m3\u001b[39;49m\n",
      "\u001b[1;31mTypeError\u001b[0m: can only concatenate list (not \"int\") to list"
     ]
    }
   ],
   "source": [
    "list_angka + 3"
   ]
  },
  {
   "cell_type": "code",
   "execution_count": 90,
   "metadata": {},
   "outputs": [
    {
     "data": {
      "text/plain": [
       "array([[4, 5, 6],\n",
       "       [7, 8, 9]])"
      ]
     },
     "execution_count": 90,
     "metadata": {},
     "output_type": "execute_result"
    }
   ],
   "source": [
    "np.array(list_angka) + 3"
   ]
  },
  {
   "cell_type": "code",
   "execution_count": 91,
   "metadata": {},
   "outputs": [
    {
     "name": "stdout",
     "output_type": "stream",
     "text": [
      "[[200  61  72]\n",
      " [ 83  94 105]\n",
      " [116 127 138]\n",
      " [149 160 171]]\n"
     ]
    }
   ],
   "source": [
    "# kalau mau nambahinnya beda2 juga gk masalah\n",
    "print(arr)"
   ]
  },
  {
   "cell_type": "code",
   "execution_count": 92,
   "metadata": {},
   "outputs": [
    {
     "name": "stdout",
     "output_type": "stream",
     "text": [
      "[[10. 10. 10.]\n",
      " [10. 10. 10.]\n",
      " [10. 10. 10.]\n",
      " [10. 10. 10.]]\n"
     ]
    }
   ],
   "source": [
    "arr_tambahan = np.ones(arr.shape) * 10\n",
    "print(arr_tambahan)"
   ]
  },
  {
   "cell_type": "code",
   "execution_count": 93,
   "metadata": {},
   "outputs": [],
   "source": [
    "arr_tambahan[0,1] = arr_tambahan[0,1] + 10"
   ]
  },
  {
   "cell_type": "code",
   "execution_count": 94,
   "metadata": {},
   "outputs": [
    {
     "name": "stdout",
     "output_type": "stream",
     "text": [
      "[[10. 20. 10.]\n",
      " [10. 10. 10.]\n",
      " [10. 10. 10.]\n",
      " [10. 10. 10.]]\n"
     ]
    }
   ],
   "source": [
    "print(arr_tambahan)"
   ]
  },
  {
   "cell_type": "code",
   "execution_count": 95,
   "metadata": {},
   "outputs": [
    {
     "data": {
      "text/plain": [
       "array([[210.,  81.,  82.],\n",
       "       [ 93., 104., 115.],\n",
       "       [126., 137., 148.],\n",
       "       [159., 170., 181.]])"
      ]
     },
     "execution_count": 95,
     "metadata": {},
     "output_type": "execute_result"
    }
   ],
   "source": [
    "arr + arr_tambahan"
   ]
  },
  {
   "cell_type": "code",
   "execution_count": 96,
   "metadata": {},
   "outputs": [
    {
     "name": "stdout",
     "output_type": "stream",
     "text": [
      "[[132.  -7.   4.]\n",
      " [ 15.  26.  37.]\n",
      " [ 48.  59.  70.]\n",
      " [ 81.  92. 103.]]\n"
     ]
    }
   ],
   "source": [
    "print(arr + 10 * 3 / 15 - 70)"
   ]
  },
  {
   "attachments": {},
   "cell_type": "markdown",
   "metadata": {},
   "source": [
    "### more array operations\n",
    "selain aritmatik, ada juga built-in function numpy yang bisa cari jumlah, rata2, dan lainnya:\n",
    "- sum\n",
    "- min, max\n",
    "- mean\n",
    "- product\n",
    "- std deviation\n",
    "- and more..."
   ]
  },
  {
   "cell_type": "code",
   "execution_count": 97,
   "metadata": {},
   "outputs": [
    {
     "name": "stdout",
     "output_type": "stream",
     "text": [
      "[[200  61  72]\n",
      " [ 83  94 105]\n",
      " [116 127 138]\n",
      " [149 160 171]]\n"
     ]
    }
   ],
   "source": [
    "print(arr)"
   ]
  },
  {
   "cell_type": "code",
   "execution_count": 98,
   "metadata": {},
   "outputs": [
    {
     "data": {
      "text/plain": [
       "1476"
      ]
     },
     "execution_count": 98,
     "metadata": {},
     "output_type": "execute_result"
    }
   ],
   "source": [
    "# berapa sih jumlah semua angka di arr ini?\n",
    "arr.sum()"
   ]
  },
  {
   "cell_type": "code",
   "execution_count": 99,
   "metadata": {},
   "outputs": [
    {
     "data": {
      "text/plain": [
       "array([548, 442, 486])"
      ]
     },
     "execution_count": 99,
     "metadata": {},
     "output_type": "execute_result"
    }
   ],
   "source": [
    "# sum per baris\n",
    "arr.sum(axis=0)\n",
    "\n",
    "# baris 1 + baris 2 + baris 3 + baris 4 = berikut"
   ]
  },
  {
   "cell_type": "code",
   "execution_count": 100,
   "metadata": {},
   "outputs": [
    {
     "data": {
      "text/plain": [
       "array([333, 282, 381, 480])"
      ]
     },
     "execution_count": 100,
     "metadata": {},
     "output_type": "execute_result"
    }
   ],
   "source": [
    "# sum per kolom\n",
    "arr.sum(axis=1)\n",
    "\n",
    "# kolom 1 + kolom 2 + kolom 3 = berikut"
   ]
  },
  {
   "cell_type": "code",
   "execution_count": 106,
   "metadata": {},
   "outputs": [
    {
     "name": "stdout",
     "output_type": "stream",
     "text": [
      "[[200  61  72]\n",
      " [ 83  94 105]\n",
      " [116 127 138]\n",
      " [149 160 171]]\n"
     ]
    }
   ],
   "source": [
    "print(arr)"
   ]
  },
  {
   "cell_type": "code",
   "execution_count": 103,
   "metadata": {},
   "outputs": [
    {
     "name": "stdout",
     "output_type": "stream",
     "text": [
      "123.0\n",
      "[137.  110.5 121.5]\n",
      "[111.  94. 127. 160.]\n"
     ]
    }
   ],
   "source": [
    "# mean, min, max\n",
    "print(arr.mean())\n",
    "print(arr.mean(axis=0))\n",
    "print(arr.mean(axis=1))"
   ]
  },
  {
   "cell_type": "code",
   "execution_count": 104,
   "metadata": {},
   "outputs": [
    {
     "name": "stdout",
     "output_type": "stream",
     "text": [
      "61\n",
      "[83 61 72]\n",
      "[ 61  83 116 149]\n"
     ]
    }
   ],
   "source": [
    "print(arr.min())\n",
    "print(arr.min(axis=0))\n",
    "print(arr.min(axis=1))"
   ]
  },
  {
   "cell_type": "code",
   "execution_count": 105,
   "metadata": {},
   "outputs": [
    {
     "name": "stdout",
     "output_type": "stream",
     "text": [
      "200\n",
      "[200 160 171]\n",
      "[200 105 138 171]\n"
     ]
    }
   ],
   "source": [
    "print(arr.max())\n",
    "print(arr.max(axis=0))\n",
    "print(arr.max(axis=1))"
   ]
  },
  {
   "attachments": {},
   "cell_type": "markdown",
   "metadata": {},
   "source": [
    "# Matrix\n",
    "numpy array 2 dimensi yang berisi angka semua, dan jumlah angka di setiap barisnya sama."
   ]
  },
  {
   "cell_type": "code",
   "execution_count": 107,
   "metadata": {},
   "outputs": [
    {
     "name": "stdout",
     "output_type": "stream",
     "text": [
      "[[10 12  5  7 30]\n",
      " [ 2  3  5  1  7]\n",
      " [ 5  2 15  2  0]]\n"
     ]
    }
   ],
   "source": [
    "m1 = np.array([ [10, 12, 5, 7, 30],\n",
    "                [2, 3, 5, 1, 7],\n",
    "                [5, 2, 15, 2, 0]])\n",
    "print(m1)"
   ]
  },
  {
   "cell_type": "code",
   "execution_count": 108,
   "metadata": {},
   "outputs": [
    {
     "name": "stdout",
     "output_type": "stream",
     "text": [
      "[[ 2000  5000  3000]\n",
      " [ 1200  3000  1800]\n",
      " [ 3000 10000  7000]]\n"
     ]
    }
   ],
   "source": [
    "m2 = np.array([ [2000,5000,3000],\n",
    "                [1200,3000,1800],\n",
    "                [3000,10000,7000]])\n",
    "print(m2)"
   ]
  },
  {
   "cell_type": "code",
   "execution_count": 113,
   "metadata": {},
   "outputs": [
    {
     "name": "stdout",
     "output_type": "stream",
     "text": [
      "[[3000 1800 7000]]\n"
     ]
    }
   ],
   "source": [
    "# jumlah profit minggu ini\n",
    "profit = m2[:,-1].reshape((1,3))\n",
    "print(profit)"
   ]
  },
  {
   "cell_type": "code",
   "execution_count": 116,
   "metadata": {},
   "outputs": [
    {
     "data": {
      "text/plain": [
       "array([[ 68600,  55400, 129000,  36800, 102600]])"
      ]
     },
     "execution_count": 116,
     "metadata": {},
     "output_type": "execute_result"
    }
   ],
   "source": [
    "profit.dot(m1)"
   ]
  },
  {
   "attachments": {},
   "cell_type": "markdown",
   "metadata": {},
   "source": [
    "### Transpose\n",
    "kolom jadi baris, baris jadi kolom\n",
    "\n",
    "### Reshape\n",
    "bentuk berubah, tapi dia tidak ingat teman sebaris/kolom sebelumnya"
   ]
  },
  {
   "cell_type": "code",
   "execution_count": 117,
   "metadata": {},
   "outputs": [
    {
     "name": "stdout",
     "output_type": "stream",
     "text": [
      "[[10 12  5  7 30]\n",
      " [ 2  3  5  1  7]\n",
      " [ 5  2 15  2  0]]\n"
     ]
    }
   ],
   "source": [
    "print(m1)"
   ]
  },
  {
   "cell_type": "code",
   "execution_count": 118,
   "metadata": {},
   "outputs": [
    {
     "data": {
      "text/plain": [
       "array([[10,  2,  5],\n",
       "       [12,  3,  2],\n",
       "       [ 5,  5, 15],\n",
       "       [ 7,  1,  2],\n",
       "       [30,  7,  0]])"
      ]
     },
     "execution_count": 118,
     "metadata": {},
     "output_type": "execute_result"
    }
   ],
   "source": [
    "# transpose\n",
    "m1.T"
   ]
  },
  {
   "attachments": {},
   "cell_type": "markdown",
   "metadata": {},
   "source": [
    "transpose 2 kali balik ke awal"
   ]
  },
  {
   "cell_type": "code",
   "execution_count": 121,
   "metadata": {},
   "outputs": [
    {
     "data": {
      "text/plain": [
       "array([[10, 12,  5,  7, 30],\n",
       "       [ 2,  3,  5,  1,  7],\n",
       "       [ 5,  2, 15,  2,  0]])"
      ]
     },
     "execution_count": 121,
     "metadata": {},
     "output_type": "execute_result"
    }
   ],
   "source": [
    "m1.T.T"
   ]
  },
  {
   "cell_type": "code",
   "execution_count": 120,
   "metadata": {},
   "outputs": [
    {
     "data": {
      "text/plain": [
       "array([[10, 12,  5],\n",
       "       [ 7, 30,  2],\n",
       "       [ 3,  5,  1],\n",
       "       [ 7,  5,  2],\n",
       "       [15,  2,  0]])"
      ]
     },
     "execution_count": 120,
     "metadata": {},
     "output_type": "execute_result"
    }
   ],
   "source": [
    "# reshape\n",
    "m1.reshape((5,3))"
   ]
  },
  {
   "attachments": {},
   "cell_type": "markdown",
   "metadata": {},
   "source": [
    "reshape tidak mempedulikan posisi angka apakah dulunya sebaris/ sekolom. dia urutin aja angkanya ke bentuk yang baru."
   ]
  },
  {
   "cell_type": "code",
   "execution_count": null,
   "metadata": {},
   "outputs": [],
   "source": [
    "## Break 10 menit (21.00 WIB)\n",
    "##    lanjut ke Pandas ATAU review materi sesi 1-4"
   ]
  }
 ],
 "metadata": {
  "kernelspec": {
   "display_name": "base",
   "language": "python",
   "name": "python3"
  },
  "language_info": {
   "codemirror_mode": {
    "name": "ipython",
    "version": 3
   },
   "file_extension": ".py",
   "mimetype": "text/x-python",
   "name": "python",
   "nbconvert_exporter": "python",
   "pygments_lexer": "ipython3",
   "version": "3.9.13"
  },
  "orig_nbformat": 4
 },
 "nbformat": 4,
 "nbformat_minor": 2
}
